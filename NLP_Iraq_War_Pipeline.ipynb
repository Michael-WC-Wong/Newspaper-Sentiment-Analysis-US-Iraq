{
 "cells": [
  {
   "cell_type": "markdown",
   "metadata": {},
   "source": [
    "# News Media and the Iraq War - Sentiment Analysis Pipeline"
   ]
  },
  {
   "cell_type": "markdown",
   "metadata": {},
   "source": [
    "Michael Wing-Cheung Wong"
   ]
  },
  {
   "cell_type": "markdown",
   "metadata": {},
   "source": [
    "## Overview\n",
    "\n",
    "Python and module versions used:\n",
    "- Python ver. 3.7.3\n",
    "- numpy ver. 1.19.0\n",
    "- pandas ver. 1.1.0\n",
    "- seaborn ver. 0.10.1\n",
    "- matplotlib ver. 3.2.2\n",
    "- scikit-learn ver. 0.22.1\n",
    "- joblib ver. 0.16.0\n",
    "- XGBoost ver. 1.2.0\n",
    "- lightgbm ver. 3.0.0\n",
    "- keras ver. 2.4.3\n",
    "- zeugma ver. 0.46\n",
    "- simpletransformers ver. 0.48.14"
   ]
  },
  {
   "cell_type": "markdown",
   "metadata": {},
   "source": [
    "# Module Calls"
   ]
  },
  {
   "cell_type": "code",
   "execution_count": 1,
   "metadata": {
    "scrolled": true
   },
   "outputs": [
    {
     "name": "stderr",
     "output_type": "stream",
     "text": [
      "[nltk_data] Downloading package stopwords to\n",
      "[nltk_data]     C:\\Users\\Michael\\AppData\\Roaming\\nltk_data...\n",
      "[nltk_data]   Package stopwords is already up-to-date!\n"
     ]
    },
    {
     "name": "stdout",
     "output_type": "stream",
     "text": [
      "Python ver. 3.8.5\n",
      "numpy ver. 1.19.2\n",
      "pandas ver. 1.2.0\n",
      "seaborn ver. 0.11.1\n",
      "matplotlib ver. 3.3.3\n",
      "scikit-learn ver. 0.23.2\n",
      "XGBoost ver. 1.3.1\n",
      "lightgbm ver. 3.1.1\n",
      "keras ver. 2.4.3\n",
      "zeugma ver. 0.48\n",
      "joblib ver.1.0.0\n"
     ]
    },
    {
     "name": "stderr",
     "output_type": "stream",
     "text": [
      "<ipython-input-1-34d27aa9d52d>:88: FutureWarning: Passing a negative integer is deprecated in version 1.0 and will not be supported in future version. Instead, use None to not limit the column width.\n",
      "  pd.set_option('display.max_colwidth', -1)\n"
     ]
    }
   ],
   "source": [
    "############### PYTHON 3\n",
    "\n",
    "\n",
    "\n",
    "#Module Imports\n",
    "import os\n",
    "import platform\n",
    "import sklearn\n",
    "import matplotlib\n",
    "import re\n",
    "import json\n",
    "import lightgbm\n",
    "import keras\n",
    "import xgboost\n",
    "import pickle\n",
    "import joblib\n",
    "import zeugma\n",
    "import simpletransformers\n",
    "import nltk\n",
    "\n",
    "import numpy as np\n",
    "import pandas as pd\n",
    "import seaborn as sns\n",
    "import matplotlib.pyplot as plt\n",
    "import matplotlib.patches as mpatches\n",
    "\n",
    "from typing import Iterable, List, Union\n",
    "from bs4 import BeautifulSoup\n",
    "from joblib import dump, load\n",
    "\n",
    "from scipy.stats import randint as sp_randint\n",
    "from scipy.special import softmax\n",
    "from sklearn.model_selection import train_test_split, RandomizedSearchCV, GridSearchCV\n",
    "from sklearn.feature_extraction.text import TfidfVectorizer\n",
    "from sklearn.compose import ColumnTransformer\n",
    "from sklearn.pipeline import Pipeline\n",
    "from sklearn.impute import SimpleImputer\n",
    "from sklearn.base import TransformerMixin, BaseEstimator, ClassifierMixin\n",
    "from sklearn.preprocessing import StandardScaler, OneHotEncoder, LabelEncoder\n",
    "from sklearn.metrics import classification_report, confusion_matrix, accuracy_score, roc_auc_score, roc_curve, auc\n",
    "from sklearn.utils.multiclass import unique_labels\n",
    "from sklearn.linear_model import LogisticRegression\n",
    "from sklearn.svm import SVC, LinearSVC\n",
    "from sklearn.ensemble import RandomForestClassifier, GradientBoostingClassifier, VotingClassifier\n",
    "from sklearn.naive_bayes import MultinomialNB\n",
    "from sklearn.utils.validation import check_X_y, check_array, check_is_fitted\n",
    "from sklearn.utils.multiclass import unique_labels\n",
    "\n",
    "from nltk.corpus import stopwords\n",
    "from nltk.stem import SnowballStemmer\n",
    "nltk.download('stopwords')\n",
    "  \n",
    "\n",
    "from gensim.models import KeyedVectors\n",
    "\n",
    "from keras import layers\n",
    "from keras.models import Sequential, load_model\n",
    "from keras.preprocessing.text import Tokenizer\n",
    "from keras.preprocessing.sequence import pad_sequences\n",
    "from keras.wrappers.scikit_learn import KerasClassifier\n",
    "from keras.layers.normalization import BatchNormalization\n",
    "from keras.layers.merge import concatenate\n",
    "from keras.callbacks import EarlyStopping\n",
    "\n",
    "from zeugma.embeddings import EmbeddingTransformer\n",
    "\n",
    "from simpletransformers.classification import ClassificationModel, ClassificationArgs\n",
    "\n",
    "from xgboost import XGBClassifier\n",
    "from lightgbm import LGBMClassifier\n",
    "\n",
    "%matplotlib inline\n",
    "\n",
    "\n",
    "print(\"Python ver. \"+platform.python_version())\n",
    "print(\"numpy ver. \"+np.__version__)\n",
    "print(\"pandas ver. \"+pd.__version__)\n",
    "print(\"seaborn ver. \"+sns.__version__)\n",
    "print(\"matplotlib ver. \"+matplotlib.__version__)\n",
    "print(\"scikit-learn ver. \"+sklearn.__version__)\n",
    "print(\"XGBoost ver. \"+xgboost.__version__)\n",
    "print(\"lightgbm ver. \"+lightgbm.__version__)\n",
    "print(\"keras ver. \"+keras.__version__)\n",
    "# print(\"simpletransformers ver. \"+simpletransformers.__version__)\n",
    "print(\"zeugma ver. \"+zeugma.__version__)\n",
    "print(\"joblib ver.\"+joblib.__version__)\n",
    "\n",
    "pd.set_option('display.max_colwidth', -1)"
   ]
  },
  {
   "cell_type": "markdown",
   "metadata": {},
   "source": [
    "# Data Read-in and Cleaning"
   ]
  },
  {
   "cell_type": "code",
   "execution_count": 2,
   "metadata": {
    "scrolled": true
   },
   "outputs": [
    {
     "data": {
      "text/html": [
       "<div>\n",
       "<style scoped>\n",
       "    .dataframe tbody tr th:only-of-type {\n",
       "        vertical-align: middle;\n",
       "    }\n",
       "\n",
       "    .dataframe tbody tr th {\n",
       "        vertical-align: top;\n",
       "    }\n",
       "\n",
       "    .dataframe thead th {\n",
       "        text-align: right;\n",
       "    }\n",
       "</style>\n",
       "<table border=\"1\" class=\"dataframe\">\n",
       "  <thead>\n",
       "    <tr style=\"text-align: right;\">\n",
       "      <th></th>\n",
       "      <th>id</th>\n",
       "      <th>coding</th>\n",
       "      <th>text</th>\n",
       "    </tr>\n",
       "  </thead>\n",
       "  <tbody>\n",
       "    <tr>\n",
       "      <th>2860</th>\n",
       "      <td>474a922db3a2c06f5d89b0927b56dedc_0</td>\n",
       "      <td>1</td>\n",
       "      <td>iraq is on the verge of reviving an 11-year-old contract with china worth $1.2 billion, its largest oil deal since the invasion in 2003, an oil ministry official said tuesday.</td>\n",
       "    </tr>\n",
       "    <tr>\n",
       "      <th>2861</th>\n",
       "      <td>ac01c48ea5fb695cf3fce2691ae91c70_16</td>\n",
       "      <td>1</td>\n",
       "      <td>\"when there are errors in the process we seek to rectify it immediately,\" he said. \"but we are very confident in the process that we have.\"</td>\n",
       "    </tr>\n",
       "    <tr>\n",
       "      <th>2862</th>\n",
       "      <td>98b7e5c8b578dfe3077c65d0b6b8478f_13</td>\n",
       "      <td>0</td>\n",
       "      <td>''extremists from inside and outside the country want to stir an endless cycle of violence, and al qaeda is operating and trying to open new fronts,'' he said in his speech, to soldiers from the 25th infantry division and task force lightning stationed at camp speicher.</td>\n",
       "    </tr>\n",
       "    <tr>\n",
       "      <th>2863</th>\n",
       "      <td>8368f6c598f4c16c0698851ffbe048a9_3</td>\n",
       "      <td>1</td>\n",
       "      <td>but mr. alsammarae is bitter because, he said, the  has left him in his hour of need to the vagaries of an iraqi court system that in many ways is still the opaque and frightening apparatus it was before the invasion. ''when somebody is giving his life to service as an american here, he should be dealt with in a different way,'' he said, complaining of what he called a lack of action by the american embassy. ''if they did anything for me, i am not aware of it.''</td>\n",
       "    </tr>\n",
       "    <tr>\n",
       "      <th>2864</th>\n",
       "      <td>479031a6d4cabd6d0bccf1421711195d_12</td>\n",
       "      <td>0</td>\n",
       "      <td>in addition to the latest bombings at the government headquarters in ramadi, twin bombings in october killed 26 people and wounded 65 at a reconciliation meeting in ramadi attended by government officials, tribal leaders and security commanders.</td>\n",
       "    </tr>\n",
       "  </tbody>\n",
       "</table>\n",
       "</div>"
      ],
      "text/plain": [
       "                                       id  coding  \\\n",
       "2860  474a922db3a2c06f5d89b0927b56dedc_0   1        \n",
       "2861  ac01c48ea5fb695cf3fce2691ae91c70_16  1        \n",
       "2862  98b7e5c8b578dfe3077c65d0b6b8478f_13  0        \n",
       "2863  8368f6c598f4c16c0698851ffbe048a9_3   1        \n",
       "2864  479031a6d4cabd6d0bccf1421711195d_12  0        \n",
       "\n",
       "                                                                                                                                                                                                                                                                                                                                                                                                                                                                                    text  \n",
       "2860  iraq is on the verge of reviving an 11-year-old contract with china worth $1.2 billion, its largest oil deal since the invasion in 2003, an oil ministry official said tuesday.                                                                                                                                                                                                                                                                                                     \n",
       "2861  \"when there are errors in the process we seek to rectify it immediately,\" he said. \"but we are very confident in the process that we have.\"                                                                                                                                                                                                                                                                                                                                         \n",
       "2862  ''extremists from inside and outside the country want to stir an endless cycle of violence, and al qaeda is operating and trying to open new fronts,'' he said in his speech, to soldiers from the 25th infantry division and task force lightning stationed at camp speicher.                                                                                                                                                                                                      \n",
       "2863  but mr. alsammarae is bitter because, he said, the  has left him in his hour of need to the vagaries of an iraqi court system that in many ways is still the opaque and frightening apparatus it was before the invasion. ''when somebody is giving his life to service as an american here, he should be dealt with in a different way,'' he said, complaining of what he called a lack of action by the american embassy. ''if they did anything for me, i am not aware of it.''  \n",
       "2864  in addition to the latest bombings at the government headquarters in ramadi, twin bombings in october killed 26 people and wounded 65 at a reconciliation meeting in ramadi attended by government officials, tribal leaders and security commanders.                                                                                                                                                                                                                               "
      ]
     },
     "execution_count": 2,
     "metadata": {},
     "output_type": "execute_result"
    }
   ],
   "source": [
    "## Data Read-in, ignore unnecessary columns\n",
    "data = pd.read_csv(\"Data/train_test.csv\",encoding = \"ISO-8859-1\")\n",
    "data.tail()"
   ]
  },
  {
   "cell_type": "code",
   "execution_count": 3,
   "metadata": {},
   "outputs": [
    {
     "name": "stdout",
     "output_type": "stream",
     "text": [
      "            coding\n",
      "count  2865.000000\n",
      "mean   0.227574   \n",
      "std    0.419339   \n",
      "min    0.000000   \n",
      "25%    0.000000   \n",
      "50%    0.000000   \n",
      "75%    0.000000   \n",
      "max    1.000000   \n",
      "2865\n"
     ]
    },
    {
     "name": "stderr",
     "output_type": "stream",
     "text": [
      "D:\\Users\\Michael\\anaconda3\\envs\\ml_nlp\\lib\\site-packages\\seaborn\\distributions.py:2557: FutureWarning: `distplot` is a deprecated function and will be removed in a future version. Please adapt your code to use either `displot` (a figure-level function with similar flexibility) or `histplot` (an axes-level function for histograms).\n",
      "  warnings.warn(msg, FutureWarning)\n"
     ]
    },
    {
     "data": {
      "image/png": "[encoded data removed]",
      "text/plain": [
       "<Figure size 1008x504 with 1 Axes>"
      ]
     },
     "metadata": {
      "needs_background": "light"
     },
     "output_type": "display_data"
    }
   ],
   "source": [
    "## Initial Data Visualization\n",
    "print(data.describe())\n",
    "print(len(data))\n",
    "#print(data[\"Sentiment Score\"].tolist())\n",
    "\n",
    "\n",
    "fig, ax = plt.subplots(figsize=[14,7])\n",
    "sentiment_histogram = sns.distplot(data[\"coding\"].tolist(), kde=False)#, height=7, aspect=0.9)\n",
    "# sns.set()\n",
    "plt.subplots_adjust(top=0.9)\n",
    "plt.title(\"Distribution of Military Capability Presence\")\n",
    "plt.grid()\n",
    "#plt.savefig('figures\\sns fig1.png') "
   ]
  },
  {
   "cell_type": "code",
   "execution_count": 4,
   "metadata": {
    "scrolled": true
   },
   "outputs": [
    {
     "data": {
      "text/html": [
       "<div>\n",
       "<style scoped>\n",
       "    .dataframe tbody tr th:only-of-type {\n",
       "        vertical-align: middle;\n",
       "    }\n",
       "\n",
       "    .dataframe tbody tr th {\n",
       "        vertical-align: top;\n",
       "    }\n",
       "\n",
       "    .dataframe thead th {\n",
       "        text-align: right;\n",
       "    }\n",
       "</style>\n",
       "<table border=\"1\" class=\"dataframe\">\n",
       "  <thead>\n",
       "    <tr style=\"text-align: right;\">\n",
       "      <th></th>\n",
       "      <th>text</th>\n",
       "    </tr>\n",
       "  </thead>\n",
       "  <tbody>\n",
       "    <tr>\n",
       "      <th>0</th>\n",
       "      <td>in samarra, a roadside bomb exploded sunday, killing four interior ministry commandos, wounding two and destroying their truck. the commandos recently arrived in samarra to secure the town after the bombing of the askariya  shrine. a bomb also exploded near an american convoy in the town. there were no reports of casualties.</td>\n",
       "    </tr>\n",
       "    <tr>\n",
       "      <th>1</th>\n",
       "      <td>''it's not just about what happened today,'' said jalal al-din al-sagheer, a member of mr. muhammad's party. ''we exploded with anger because today's actions were part of an accumulation of problems, one by one.''</td>\n",
       "    </tr>\n",
       "    <tr>\n",
       "      <th>2</th>\n",
       "      <td>the americans got on the radio and asked the iraqi army to send an ambulance. meanwhile, the woman was lifted onto a stretcher and taken to the medics' stryker.</td>\n",
       "    </tr>\n",
       "    <tr>\n",
       "      <th>3</th>\n",
       "      <td>but the democrats on the committee lost the support of two republican colleagues who had voted for the loan in the senate earlier this month, sam brownback of kansas and ben nighthorse campbell of colorado. once senators on the committee voted 16 to 13 against the loans on wednesday afternoon, the provision was permanently dropped from the bill, and neither chamber will be able to restore it when they vote on the measure later this week. the legislation will then go to the president for his signature.</td>\n",
       "    </tr>\n",
       "    <tr>\n",
       "      <th>4</th>\n",
       "      <td>the statements came on another day, the second since the elections, with a low level of insurgent attacks in iraq. on sunday, according to figures provided by the american military command, insurgents mounted 260 attacks, the highest number on any day since american troops captured baghdad nearly 22 months ago. the attacks, including suicide bombings, killed about 50 people, but failed to have more than a marginal impact on the voting, in which about 8 million iraqis cast ballots out of more than 14 million who were eligible, according to the estimate given by top officials of the election commission as the polls closed.</td>\n",
       "    </tr>\n",
       "    <tr>\n",
       "      <th>...</th>\n",
       "      <td>...</td>\n",
       "    </tr>\n",
       "    <tr>\n",
       "      <th>2860</th>\n",
       "      <td>iraq is on the verge of reviving an 11-year-old contract with china worth $1.2 billion, its largest oil deal since the invasion in 2003, an oil ministry official said tuesday.</td>\n",
       "    </tr>\n",
       "    <tr>\n",
       "      <th>2861</th>\n",
       "      <td>\"when there are errors in the process we seek to rectify it immediately,\" he said. \"but we are very confident in the process that we have.\"</td>\n",
       "    </tr>\n",
       "    <tr>\n",
       "      <th>2862</th>\n",
       "      <td>''extremists from inside and outside the country want to stir an endless cycle of violence, and al qaeda is operating and trying to open new fronts,'' he said in his speech, to soldiers from the 25th infantry division and task force lightning stationed at camp speicher.</td>\n",
       "    </tr>\n",
       "    <tr>\n",
       "      <th>2863</th>\n",
       "      <td>but mr. alsammarae is bitter because, he said, the  has left him in his hour of need to the vagaries of an iraqi court system that in many ways is still the opaque and frightening apparatus it was before the invasion. ''when somebody is giving his life to service as an american here, he should be dealt with in a different way,'' he said, complaining of what he called a lack of action by the american embassy. ''if they did anything for me, i am not aware of it.''</td>\n",
       "    </tr>\n",
       "    <tr>\n",
       "      <th>2864</th>\n",
       "      <td>in addition to the latest bombings at the government headquarters in ramadi, twin bombings in october killed 26 people and wounded 65 at a reconciliation meeting in ramadi attended by government officials, tribal leaders and security commanders.</td>\n",
       "    </tr>\n",
       "  </tbody>\n",
       "</table>\n",
       "<p>2865 rows × 1 columns</p>\n",
       "</div>"
      ],
      "text/plain": [
       "                                                                                                                                                                                                                                                                                                                                                                                                                                                                                                                                                                                                                                                      text\n",
       "0     in samarra, a roadside bomb exploded sunday, killing four interior ministry commandos, wounding two and destroying their truck. the commandos recently arrived in samarra to secure the town after the bombing of the askariya  shrine. a bomb also exploded near an american convoy in the town. there were no reports of casualties.                                                                                                                                                                                                                                                                                                              \n",
       "1     ''it's not just about what happened today,'' said jalal al-din al-sagheer, a member of mr. muhammad's party. ''we exploded with anger because today's actions were part of an accumulation of problems, one by one.''                                                                                                                                                                                                                                                                                                                                                                                                                               \n",
       "2     the americans got on the radio and asked the iraqi army to send an ambulance. meanwhile, the woman was lifted onto a stretcher and taken to the medics' stryker.                                                                                                                                                                                                                                                                                                                                                                                                                                                                                    \n",
       "3     but the democrats on the committee lost the support of two republican colleagues who had voted for the loan in the senate earlier this month, sam brownback of kansas and ben nighthorse campbell of colorado. once senators on the committee voted 16 to 13 against the loans on wednesday afternoon, the provision was permanently dropped from the bill, and neither chamber will be able to restore it when they vote on the measure later this week. the legislation will then go to the president for his signature.                                                                                                                          \n",
       "4     the statements came on another day, the second since the elections, with a low level of insurgent attacks in iraq. on sunday, according to figures provided by the american military command, insurgents mounted 260 attacks, the highest number on any day since american troops captured baghdad nearly 22 months ago. the attacks, including suicide bombings, killed about 50 people, but failed to have more than a marginal impact on the voting, in which about 8 million iraqis cast ballots out of more than 14 million who were eligible, according to the estimate given by top officials of the election commission as the polls closed.\n",
       "...                                                                                                                                                                                                                                                                                                                                                                                                                                                                                                                                                                                                                                                    ...\n",
       "2860  iraq is on the verge of reviving an 11-year-old contract with china worth $1.2 billion, its largest oil deal since the invasion in 2003, an oil ministry official said tuesday.                                                                                                                                                                                                                                                                                                                                                                                                                                                                     \n",
       "2861  \"when there are errors in the process we seek to rectify it immediately,\" he said. \"but we are very confident in the process that we have.\"                                                                                                                                                                                                                                                                                                                                                                                                                                                                                                         \n",
       "2862  ''extremists from inside and outside the country want to stir an endless cycle of violence, and al qaeda is operating and trying to open new fronts,'' he said in his speech, to soldiers from the 25th infantry division and task force lightning stationed at camp speicher.                                                                                                                                                                                                                                                                                                                                                                      \n",
       "2863  but mr. alsammarae is bitter because, he said, the  has left him in his hour of need to the vagaries of an iraqi court system that in many ways is still the opaque and frightening apparatus it was before the invasion. ''when somebody is giving his life to service as an american here, he should be dealt with in a different way,'' he said, complaining of what he called a lack of action by the american embassy. ''if they did anything for me, i am not aware of it.''                                                                                                                                                                  \n",
       "2864  in addition to the latest bombings at the government headquarters in ramadi, twin bombings in october killed 26 people and wounded 65 at a reconciliation meeting in ramadi attended by government officials, tribal leaders and security commanders.                                                                                                                                                                                                                                                                                                                                                                                               \n",
       "\n",
       "[2865 rows x 1 columns]"
      ]
     },
     "metadata": {},
     "output_type": "display_data"
    },
    {
     "data": {
      "text/plain": [
       "0       0\n",
       "1       0\n",
       "2       0\n",
       "3       0\n",
       "4       0\n",
       "       ..\n",
       "2860    1\n",
       "2861    1\n",
       "2862    0\n",
       "2863    1\n",
       "2864    0\n",
       "Name: coding, Length: 2865, dtype: int64"
      ]
     },
     "metadata": {},
     "output_type": "display_data"
    },
    {
     "name": "stdout",
     "output_type": "stream",
     "text": [
      "2865\n"
     ]
    }
   ],
   "source": [
    "## Manually convert sentiment scores to positive/negative binary categories and move to target array\n",
    "\n",
    "X = pd.DataFrame(data[\"text\"])\n",
    "y = data[\"coding\"]\n",
    "\n",
    "#Since sentiment can be considered to be ordinal, use label encoder\n",
    "# le = LabelEncoder()\n",
    "# le.fit(y)\n",
    "# y = le.transform(y)\n",
    "\n",
    "# X = X.drop(\"Sentiment Score\", axis=1)\n",
    "display(X)\n",
    "display(y)\n",
    "# print(le.classes_)\n",
    "print(len(y))"
   ]
  },
  {
   "cell_type": "code",
   "execution_count": 5,
   "metadata": {},
   "outputs": [],
   "source": [
    "# Take only 10% of data for speed purposes\n",
    "# X, _, y, _ = train_test_split(X, y, test_size=0.7, random_state=42)\n",
    "# display(X)\n",
    "# display(y)"
   ]
  },
  {
   "cell_type": "code",
   "execution_count": 6,
   "metadata": {},
   "outputs": [],
   "source": [
    "## Do preprocessing here since it is not dependent on data splitting\n",
    "\n",
    "def tweet_cleaner(X):\n",
    "    print(\"Preprocessing...\")\n",
    "    X[\"Tweet\"] = [(BeautifulSoup(tweet,\"lxml\").get_text()) for tweet in X[\"Tweet\"]]\n",
    "    X[\"Tweet\"] = [re.sub(r\"@[A-Za-z0-9]+\",\"\",tweet) for tweet in X[\"Tweet\"]]\n",
    "    X[\"Tweet\"] = [re.sub(\"https?://[A-Za-z0-9./]+\",\"\",tweet) for tweet in X[\"Tweet\"]]\n",
    "    X[\"Tweet\"] = [re.sub(\"www.[A-Za-z0-9./]+\",\"\",tweet) for tweet in X[\"Tweet\"]]\n",
    "    tokenizer = Tokenizer()\n",
    "    tokenizer.fit_on_texts(X[\"Tweet\"])\n",
    "    X[\"Tweet\"] = tokenizer.texts_to_sequences(X[\"Tweet\"])\n",
    "    X[\"Tweet\"] = tokenizer.sequences_to_texts(X[\"Tweet\"])\n",
    "    print(\"Preprocess Complete\")\n",
    "    return X\n",
    "\n",
    "def text_cleaner(X, column, stopwords=None, stem_words=False):\n",
    "\n",
    "    # Clean the text, with the option to remove stopwords and to stem words.\n",
    "    print(\"Preprocessing...\")\n",
    "    \n",
    "    X_new = []\n",
    "    # Convert words to lower case and split them\n",
    "    for text in X[column]:\n",
    "        text = text.lower().split()\n",
    "\n",
    "        # Optionally, remove stop words\n",
    "        if stopwords:\n",
    "#             print(stopwords)\n",
    "            text = [w for w in text if not w in stopwords]\n",
    "\n",
    "        text = \" \".join(text)\n",
    "\n",
    "        # Clean the text\n",
    "        text = re.sub(r\"[^A-Za-z0-9^,!.\\/'+-=]\", \" \", text)\n",
    "        text = re.sub(r\"what's\", \"what is \", text)\n",
    "        text = re.sub(r\"that's\", \"that is \", text)\n",
    "        text = re.sub(r\"\\'s\", \" \", text)\n",
    "        text = re.sub(r\"\\'ve\", \" have \", text)\n",
    "        text = re.sub(r\"can't\", \"cannot \", text)\n",
    "        text = re.sub(r\"n't\", \" not \", text)\n",
    "        text = re.sub(r\"i'm\", \"i am \", text)\n",
    "        text = re.sub(r\"\\'re\", \" are \", text)\n",
    "        text = re.sub(r\"\\'d\", \" would \", text)\n",
    "        text = re.sub(r\"\\'ll\", \" will \", text)\n",
    "        text = re.sub(r\",\", \" \", text)\n",
    "        text = re.sub(r\"--\", \" \", text)\n",
    "        text = re.sub(r\"\\.\", \" \", text)\n",
    "        text = re.sub(r\"!\", \" ! \", text)\n",
    "        text = re.sub(r\"'\", \" \", text)\n",
    "        text = re.sub(r\"(\\d+)(k)\", r\"\\g<1>000\", text)\n",
    "        text = re.sub(r\":\", \" : \", text)\n",
    "        text = re.sub(r\" e g \", \" eg \", text)\n",
    "        text = re.sub(r\" b g \", \" bg \", text)\n",
    "        text = re.sub(r\" u s \", \" american \", text)\n",
    "        text = re.sub(r\"\\0s\", \"0\", text)\n",
    "        text = re.sub(r\" 9 11 \", \"911\", text)\n",
    "        text = re.sub(r\"e - mail\", \"email\", text)\n",
    "        text = re.sub(r\"\\s{2,}\", \" \", text)\n",
    "\n",
    "        # Optionally, shorten words to their stems\n",
    "        if stem_words:\n",
    "            text = text.split()\n",
    "            stemmer = SnowballStemmer(\"english\")\n",
    "            stemmed_words = [stemmer.stem(word) for word in text]\n",
    "            text = \" \".join(stemmed_words)\n",
    "\n",
    "        X_new.append(text)\n",
    "    \n",
    "    X[column] = np.array(X_new)\n",
    "    \n",
    "    print(\"Preprocess Complete\")\n",
    "    \n",
    "    return X"
   ]
  },
  {
   "cell_type": "code",
   "execution_count": 7,
   "metadata": {},
   "outputs": [
    {
     "name": "stdout",
     "output_type": "stream",
     "text": [
      "Preprocessing...\n",
      "Preprocess Complete\n"
     ]
    }
   ],
   "source": [
    "X_new = text_cleaner(X, column=\"text\", stopwords=stopwords.words(\"english\"))"
   ]
  },
  {
   "cell_type": "markdown",
   "metadata": {},
   "source": [
    "# Train-test Split"
   ]
  },
  {
   "cell_type": "code",
   "execution_count": 8,
   "metadata": {
    "scrolled": true
   },
   "outputs": [
    {
     "data": {
      "text/html": [
       "<div>\n",
       "<style scoped>\n",
       "    .dataframe tbody tr th:only-of-type {\n",
       "        vertical-align: middle;\n",
       "    }\n",
       "\n",
       "    .dataframe tbody tr th {\n",
       "        vertical-align: top;\n",
       "    }\n",
       "\n",
       "    .dataframe thead th {\n",
       "        text-align: right;\n",
       "    }\n",
       "</style>\n",
       "<table border=\"1\" class=\"dataframe\">\n",
       "  <thead>\n",
       "    <tr style=\"text-align: right;\">\n",
       "      <th></th>\n",
       "      <th>text</th>\n",
       "    </tr>\n",
       "  </thead>\n",
       "  <tbody>\n",
       "    <tr>\n",
       "      <th>1613</th>\n",
       "      <td>salaam smeasim another iraqi known years 55 candidate largest shiite opposition party iraqi national alliance salaam wears veil coalition includes many sadrists relations iran</td>\n",
       "    </tr>\n",
       "    <tr>\n",
       "      <th>2772</th>\n",
       "      <td>violence continued roil capital tuesday high-ranking official interior ministry narrowly escaped assassination attempt gunmen fired car killing one bodyguards wounding three ministry officials said</td>\n",
       "    </tr>\n",
       "    <tr>\n",
       "      <th>1032</th>\n",
       "      <td>suddenness french proposal left nations security council struggling ways respond keeping options open</td>\n",
       "    </tr>\n",
       "    <tr>\n",
       "      <th>2806</th>\n",
       "      <td>colliding priorities oversight spending left american iraqi officials quandary work behind scenes so-called compact iraq centerpiece american embassy effort create economic political milestones nation promises meet exchange pledges foreign investment support</td>\n",
       "    </tr>\n",
       "    <tr>\n",
       "      <th>2702</th>\n",
       "      <td>president bush traveling kuwait bahrain saturday praised vote calling an important step toward reconciliation said consolidate progress country past year prepared slow even halt american troop reductions beyond already planned bring levels back so-called troop surge began early 2006 so set stage renewed political debate war congress presidential campaign trail</td>\n",
       "    </tr>\n",
       "  </tbody>\n",
       "</table>\n",
       "</div>"
      ],
      "text/plain": [
       "                                                                                                                                                                                                                                                                                                                                                                             text\n",
       "1613  salaam smeasim another iraqi known years 55 candidate largest shiite opposition party iraqi national alliance salaam wears veil coalition includes many sadrists relations iran                                                                                                                                                                                            \n",
       "2772  violence continued roil capital tuesday high-ranking official interior ministry narrowly escaped assassination attempt gunmen fired car killing one bodyguards wounding three ministry officials said                                                                                                                                                                      \n",
       "1032  suddenness french proposal left nations security council struggling ways respond keeping options open                                                                                                                                                                                                                                                                      \n",
       "2806  colliding priorities oversight spending left american iraqi officials quandary work behind scenes so-called compact iraq centerpiece american embassy effort create economic political milestones nation promises meet exchange pledges foreign investment support                                                                                                         \n",
       "2702  president bush traveling kuwait bahrain saturday praised vote calling an important step toward reconciliation said consolidate progress country past year prepared slow even halt american troop reductions beyond already planned bring levels back so-called troop surge began early 2006 so set stage renewed political debate war congress presidential campaign trail "
      ]
     },
     "metadata": {},
     "output_type": "display_data"
    },
    {
     "data": {
      "text/html": [
       "<div>\n",
       "<style scoped>\n",
       "    .dataframe tbody tr th:only-of-type {\n",
       "        vertical-align: middle;\n",
       "    }\n",
       "\n",
       "    .dataframe tbody tr th {\n",
       "        vertical-align: top;\n",
       "    }\n",
       "\n",
       "    .dataframe thead th {\n",
       "        text-align: right;\n",
       "    }\n",
       "</style>\n",
       "<table border=\"1\" class=\"dataframe\">\n",
       "  <thead>\n",
       "    <tr style=\"text-align: right;\">\n",
       "      <th></th>\n",
       "      <th>text</th>\n",
       "    </tr>\n",
       "  </thead>\n",
       "  <tbody>\n",
       "    <tr>\n",
       "      <th>1590</th>\n",
       "      <td>we believe iraq unity sovereignty independence said reference unity slap mr hakim supreme council encouraged provinces form regions that constitution could considerable independence baghdad</td>\n",
       "    </tr>\n",
       "    <tr>\n",
       "      <th>1752</th>\n",
       "      <td>first time shiite political leaders traveled anbar meet sunni coalition gathering sheiks</td>\n",
       "    </tr>\n",
       "    <tr>\n",
       "      <th>772</th>\n",
       "      <td>lore streets mr hussein dashing profile world traveler seven masks taxi driver whispers promises victory passengers american agent</td>\n",
       "    </tr>\n",
       "    <tr>\n",
       "      <th>1735</th>\n",
       "      <td>assault near bayji wednesday took place day insurgents sowed fear across capital setting least five car truck bombs killed least 26 people according military estimates</td>\n",
       "    </tr>\n",
       "    <tr>\n",
       "      <th>387</th>\n",
       "      <td>northern front brig gen vincent k brooks said northern city tikrit mr hussein home town become primary focus military campaign loyal supporters hussein regime may encamped there american military officials said may hidden weapons mass destruction there still american commanders hinted rush force final confrontation officials also expressed concern iraqi forces may prepared set fire oil fields around kirkuk mosul largest northern city iraqi troops reported falling back refusing surrender</td>\n",
       "    </tr>\n",
       "  </tbody>\n",
       "</table>\n",
       "</div>"
      ],
      "text/plain": [
       "                                                                                                                                                                                                                                                                                                                                                                                                                                                                                                              text\n",
       "1590   we believe iraq unity sovereignty independence said reference unity slap mr hakim supreme council encouraged provinces form regions that constitution could considerable independence baghdad                                                                                                                                                                                                                                                                                                              \n",
       "1752  first time shiite political leaders traveled anbar meet sunni coalition gathering sheiks                                                                                                                                                                                                                                                                                                                                                                                                                    \n",
       "772   lore streets mr hussein dashing profile world traveler seven masks taxi driver whispers promises victory passengers american agent                                                                                                                                                                                                                                                                                                                                                                          \n",
       "1735  assault near bayji wednesday took place day insurgents sowed fear across capital setting least five car truck bombs killed least 26 people according military estimates                                                                                                                                                                                                                                                                                                                                     \n",
       "387   northern front brig gen vincent k brooks said northern city tikrit mr hussein home town become primary focus military campaign loyal supporters hussein regime may encamped there american military officials said may hidden weapons mass destruction there still american commanders hinted rush force final confrontation officials also expressed concern iraqi forces may prepared set fire oil fields around kirkuk mosul largest northern city iraqi troops reported falling back refusing surrender "
      ]
     },
     "metadata": {},
     "output_type": "display_data"
    },
    {
     "data": {
      "text/plain": [
       "1613    0\n",
       "2772    1\n",
       "1032    0\n",
       "2806    1\n",
       "2702    1\n",
       "Name: coding, dtype: int64"
      ]
     },
     "metadata": {},
     "output_type": "display_data"
    },
    {
     "data": {
      "text/plain": [
       "860"
      ]
     },
     "metadata": {},
     "output_type": "display_data"
    }
   ],
   "source": [
    "## Split data into training and validation sets\n",
    "X_train, X_test, y_train, y_test = train_test_split(X_new, y, test_size=0.3, random_state=42)\n",
    "#display(X_train)\n",
    "\n",
    "display(X_train[:5])\n",
    "display(X_test[:5])\n",
    "display(y_train[:5])\n",
    "display(len(y_test))\n",
    "#display(y_valid)"
   ]
  },
  {
   "cell_type": "code",
   "execution_count": 9,
   "metadata": {},
   "outputs": [],
   "source": [
    "X_train_2, X_valid_2, y_train_2, y_valid_2 = train_test_split(X_new, y, test_size=0.9, random_state=43)"
   ]
  },
  {
   "cell_type": "markdown",
   "metadata": {},
   "source": [
    "# Supervised Learning"
   ]
  },
  {
   "cell_type": "markdown",
   "metadata": {},
   "source": [
    "## Scikit Learn Pipeline Setup"
   ]
  },
  {
   "cell_type": "code",
   "execution_count": 10,
   "metadata": {},
   "outputs": [],
   "source": [
    "# Function to fit a model pipeline\n",
    "def pipeline_fit(X_train, y_train, pipeline, save_name, keras_nn=False, search_method=None,\n",
    "                 n_iter=10, cv=5, verbose_searchcv=0, n_jobs=1):\n",
    "    \n",
    "    \"\"\"\n",
    "    Fits an sklearn machine learning pipeline\n",
    "    \n",
    "    Parameters\n",
    "    ----------\n",
    "    X_train : numpy array\n",
    "        Training data \n",
    "        \n",
    "    y_train : numpy array\n",
    "        Training target data\n",
    "        \n",
    "    pipeline : string\n",
    "        name of the sklearn pipeline to be fitted\n",
    "            \n",
    "    save_name : string\n",
    "        name of saved joblib file\n",
    "    \n",
    "    keras_nn : boolean (default = False)\n",
    "        set to True for Keras models\n",
    "    \n",
    "    search_method : string (default None)\n",
    "        \"randomsearch\" for hyperparameter optimization using sklearn's RandomizedSearchCV\n",
    "        \"gridsearch\" for hyperparameter optimization using sklearn's GridSearchCV\n",
    "        None for no hyperparameter optimization\n",
    "        \n",
    "    n_iter : integer(default 10)\n",
    "        number of parameter settings sampled, applies for randomsearch only\n",
    "        \n",
    "    cv : integer (default 5)\n",
    "        number of cross validation folds for hyperparameter optimization\n",
    "        \n",
    "    verbose_searchcv : integer (default 0)\n",
    "        set verbosity of search cv\n",
    "        \n",
    "    n_jobs : integer (default 1)\n",
    "        number of jobs to run in parallel, -1 for all processors\n",
    "\n",
    "    Returns\n",
    "    -------\n",
    "    sklearn fitted model object\n",
    "    \n",
    "    \"\"\"\n",
    "    \n",
    "    while os.path.exists(\"{}_{}.joblib\".format(save_name,pipeline)):\n",
    "        # Check if a joblib file with that filename already exists, ask user for confirmation of overwrite\n",
    "        skip = input('''A joblib model file already exists with that name, \n",
    "do you wish to retrain the model? (Y/N)''')\n",
    "        if skip.lower().strip() == \"y\":\n",
    "            break\n",
    "        elif skip.lower().strip() == \"n\":\n",
    "            print(\"Loaded pre-existing model:\")\n",
    "            print(\"Param Grid:\", pipe_dict[pipeline][1])\n",
    "            \n",
    "            model_final = joblib.load(\"{}_{}.joblib\".format(save_name,pipeline))\n",
    "            \n",
    "            # Load keras model and append to pipeline\n",
    "            if keras_nn == True:\n",
    "                model_final.named_steps[\"keras_estimator\"].model = load_model(\"{}_{}.h5\".format(save_name,pipeline))\n",
    "                \n",
    "\n",
    "            print(\"Parameters: \", model_final.get_params)\n",
    "\n",
    "            return model_final\n",
    "\n",
    "        else:\n",
    "            print(\"That's not a valid response. Please try again.\")\n",
    "            \n",
    "    \n",
    "    # Do hyperparameter optimization\n",
    "    \n",
    "    # Keras hyperparameter search only works with a single process\n",
    "    if keras_nn == True:\n",
    "        n_jobs = 1\n",
    "    else:\n",
    "        pass\n",
    "    \n",
    "    \n",
    "#     # Convert dataframes to numpy arrays\n",
    "#     if isinstance(X_train, pd.DataFrame) and (len(X_train.columns) == 1):\n",
    "#         X_train = X_train.values\n",
    "        \n",
    "#         # If X_train only has one feature, collapse to 1D array\n",
    "#         if X_train.shape == \n",
    "#         X_train\n",
    "    \n",
    "#     if isinstance(y_train, pd.DataFrame) or isinstance(y_train, pd.Series):\n",
    "#         y_train = y_train.values\n",
    "        \n",
    "#     # Check if training data is a series or dataframe, convert\n",
    "#     if isinstance\n",
    "\n",
    "    if search_method == \"randomsearch\":\n",
    "        search_cv = RandomizedSearchCV(pipe_dict[pipeline][0], param_distributions=pipe_dict[pipeline][1], n_iter=n_iter,\n",
    "                                       cv=cv, verbose=verbose_searchcv, n_jobs=n_jobs)\n",
    "    elif search_method == \"gridsearch\":\n",
    "        search_cv = GridSearchCV(pipe_dict[pipeline][0], param_grid=pipe_dict[pipeline][1],\n",
    "                                 cv=cv, verbose=verbose_searchcv, n_jobs=n_jobs)\n",
    "    elif search_method == None:\n",
    "        \n",
    "        # No optimization is performed, fit to model only\n",
    "        print(\"No hyperparameter optimization\")\n",
    "        print(\"Training {} on {} samples...\".format(pipeline,str(len(y_train))))\n",
    "        print(pipe_dict[pipeline][0].steps[-1])\n",
    "        model_final = pipe_dict[pipeline][0].fit(X_train, y_train)\n",
    "\n",
    "        # For Keras neural networks, save the sklearn pipeline and Keras model separately\n",
    "        # Use joblib to dump the best estimator to joblib file for persistence purposes\n",
    "        if keras_nn == True:\n",
    "            # print(model_final.named_steps[\"keras_estimator\"].model.summary())            \n",
    "\n",
    "            # Save Keras model and remove it from pipeline\n",
    "            model_final.named_steps[\"keras_estimator\"].model.save(\"{}_{}.h5\".format(save_name,pipeline))\n",
    "            model_final.named_steps[\"keras_estimator\"].model = None\n",
    "\n",
    "            # Save pipeline\n",
    "            joblib.dump(model_final, save_name+\"_\"+pipeline+\".joblib\")\n",
    "\n",
    "            # Rebuild pipeline to return\n",
    "            model_final.named_steps[\"keras_estimator\"].model = load_model(\"{}_{}.h5\".format(save_name,pipeline))\n",
    "\n",
    "            return model_final\n",
    "\n",
    "        # Save the pipeline\n",
    "        joblib.dump(model_final, \"{}_{}.joblib\".format(save_name,pipeline))\n",
    "\n",
    "        return model_final\n",
    "\n",
    "    print(pipe_dict[pipeline][0])\n",
    "    print(\"Param Grid:\", pipe_dict[pipeline][1])\n",
    "    \n",
    "    # Train the model\n",
    "    print()\n",
    "    print(\"Training {} on {} samples...\".format(pipeline,str(len(y_train))))\n",
    "    print(\"Shape of inputs:\",X_train.shape)\n",
    "    print(X_train[:5])\n",
    "    print(\"Shape of outputs:\",y_train.shape)\n",
    "    print(y_train[:5])\n",
    "    print()\n",
    "#     try:\n",
    "    search_cv.fit(X_train, y_train)\n",
    "#     except ValueError:\n",
    "#         ## If X_train is a dataframe with single column, convert y_train to match\n",
    "#         search_cv.fit(X_train, y_train.reshape(-1,1))\n",
    "        \n",
    "    print(\"\")\n",
    "    print(pipeline+\":\")\n",
    "    print(\"Best Score: \", search_cv.best_score_)\n",
    "    print(\"Best Params: \", search_cv.best_params_)\n",
    "\n",
    "    model_final = search_cv.best_estimator_\n",
    "    \n",
    "    # Use joblib to dump the best estimator to joblib file for persistence purposes\n",
    "    # For Keras neural networks, save the sklearn pipeline and Keras model separately\n",
    "    if keras_nn == True:\n",
    "        # print(model_final.named_steps[\"keras_estimator\"].model.summary())\n",
    "        \n",
    "        # Save Keras model and remove it from pipeline\n",
    "        model_final.named_steps[\"keras_estimator\"].model.save(\"{}_{}.h5\".format(save_name,pipeline))\n",
    "        model_final.named_steps[\"keras_estimator\"].model = None\n",
    "        \n",
    "        # Save pipeline\n",
    "        joblib.dump(model_final, save_name+\"_\"+pipeline+\".joblib\")\n",
    "        \n",
    "        # Rebuild pipeline to return\n",
    "        model_final.named_steps[\"keras_estimator\"].model = load_model(\"{}_{}.h5\".format(save_name,pipeline))\n",
    "        \n",
    "        return model_final\n",
    "\n",
    "    else:\n",
    "        # Save the pipeline\n",
    "        joblib.dump(model_final, \"{}_{}.joblib\".format(save_name,pipeline))\n",
    "\n",
    "    return model_final"
   ]
  },
  {
   "cell_type": "code",
   "execution_count": 11,
   "metadata": {},
   "outputs": [],
   "source": [
    "## Initiate a full preprocessing and prediction pipeline\n",
    "\n",
    "# ## RandomizedSearchCV hyperparameter optimization\n",
    "# nb_param_grid = {\n",
    "#     \"nb_classifier__alpha\": [1,1e-1,1e-2,0]\n",
    "#     }\n",
    "\n",
    "# svm_param_grid = {\n",
    "#     \"svm_classifier__C\": [x for x in np.logspace(-5,15,base=2,num=7)],\n",
    "#     \"svm_classifier__gamma\": gamma\n",
    "#     }\n",
    "\n",
    "# lstm_param_grid = {\n",
    "#     \"lstm_classifier__embed_dim\": [128],\n",
    "#     \"lstm_classifier__lstm_out\": [200],\n",
    "#     #\"lstm_classifier__dropout\": [0.2],\n",
    "#     #\"lstm_classifier__dropout_U\": [0.2],\n",
    "#     #\"lstm_classifier__dropout_W\": [0.2],\n",
    "#     \"lstm_classifier__epochs\": [50, 100, 150],\n",
    "#     \"lstm_classifier__batch_size\": [5, 10, 20]\n",
    "#     }"
   ]
  },
  {
   "cell_type": "code",
   "execution_count": 12,
   "metadata": {},
   "outputs": [],
   "source": [
    "# param_grid = {\n",
    "#     #\"preprocessor__tweet_transformer__tfidf_vectorizer__max_df\": np.linspace(0.2, 1, 10),\n",
    "#     \"preprocessor__tweet_transformer__tfidf_vectorizer__binary\": [True],\n",
    "#     \"preprocessor__tweet_transformer__tfidf_vectorizer__token_pattern\": [r\"(?u)\\b\\w\\w+\\b|\\'\"],\n",
    "#     \"preprocessor__tweet_transformer__tfidf_vectorizer__ngram_range\": [(1,2)],\n",
    "#     \"preprocessor__tweet_transformer__tfidf_vectorizer__sop_\": [(1,2)]\n",
    "#     }\n",
    "\n",
    "# nb_param_grid.update(param_grid)\n",
    "# rf_param_grid.update(param_grid)\n",
    "# gb_param_grid.update(param_grid)\n",
    "# lgbm_param_grid.update(param_grid)\n",
    "# xgb_param_grid.update(param_grid)\n",
    "# svm_param_grid.update(param_grid)\n",
    "# lstm_param_grid.update(param_grid)"
   ]
  },
  {
   "cell_type": "code",
   "execution_count": 13,
   "metadata": {},
   "outputs": [],
   "source": [
    "# # Dictionary of pipelines and classifier types for ease of reference\n",
    "# pipe_dict = {\n",
    "#             \"MultinomialNB\" : (nb_clf_fullpipe, nb_param_grid),\n",
    "#             \"RandomForest\" : (rf_clf_fullpipe, rf_param_grid),\n",
    "#             \"GradientBoosting\" : (gb_clf_fullpipe, gb_param_grid),\n",
    "#             \"XGBoost\" : (xgb_clf_fullpipe, xgb_param_grid),\n",
    "#             \"LightGBM\" : (lgbm_clf_fullpipe, lgbm_param_grid),\n",
    "#             \"SVC\" : (svm_clf_fullpipe, svm_param_grid),\n",
    "#             \"LSTM\" : (LSTM_clf_fullpipe, lstm_param_grid)\n",
    "#             }"
   ]
  },
  {
   "cell_type": "code",
   "execution_count": 14,
   "metadata": {},
   "outputs": [],
   "source": [
    "# lstm_clf_final = pipeline_fit(pipeline=\"LSTM\", cv=5, iid=False, verbose=2, n_jobs=1, optimization=True)"
   ]
  },
  {
   "cell_type": "markdown",
   "metadata": {},
   "source": [
    "# Training, Predictions and Evaluation Metrics"
   ]
  },
  {
   "cell_type": "markdown",
   "metadata": {},
   "source": [
    "## Plotting Functions"
   ]
  },
  {
   "cell_type": "code",
   "execution_count": 15,
   "metadata": {},
   "outputs": [],
   "source": [
    "def plot_confusion_matrix(y_test, y_pred, classes, figsize=(8,8), save_name=None, cmap=plt.cm.Blues):\n",
    "    \n",
    "    \"\"\"\n",
    "    Plots a confusion matrix\n",
    "    \n",
    "    Parameters\n",
    "    ----------\n",
    "    y_test : numpy array\n",
    "        Ground truth target values \n",
    "        \n",
    "    y_pred : numpy array\n",
    "        Predicted target values\n",
    "        \n",
    "    classes : numpy array\n",
    "        class names \n",
    "        \n",
    "    figsize : tuple (default = (8,8))\n",
    "        a tuple for matplotlib figsize (x,y)    \n",
    "        \n",
    "    save_name : string (default = None)\n",
    "        name of the plot to be saved, including the file extension\n",
    "        None for no plot saving\n",
    "        \n",
    "    cmap : matplotlib colour map (default = Blue)\n",
    "\n",
    "    Returns\n",
    "    -------\n",
    "    None\n",
    "    \n",
    "    \"\"\"\n",
    "\n",
    "    cm = confusion_matrix(y_test, y_pred)\n",
    "    classes = classes[unique_labels(y_test, y_pred)]\n",
    "    # Get normalized confusion matrix\n",
    "    cm_norm = cm.astype(\"float\") / cm.sum(axis=1)[:, np.newaxis]\n",
    "\n",
    "#     print(\"Confusion Matrix\")\n",
    "#     print(cm)\n",
    "#     print(\"Normalized Confusion Matrix\")\n",
    "#     print(cm_norm)\n",
    "\n",
    "    fig, ax = plt.subplots(figsize=figsize)\n",
    "    im = ax.imshow(cm, interpolation=\"nearest\", cmap=cmap)\n",
    "    ax.figure.colorbar(im, ax=ax)\n",
    "    ax.grid(None)\n",
    "    ax.set(xticks=np.arange(cm.shape[1]),\n",
    "           yticks=np.arange(cm.shape[0]),\n",
    "           xticklabels=classes, yticklabels=classes,\n",
    "           ylabel=\"True Labels\", xlabel=\"Predicted Labels\")\n",
    "\n",
    "    # Loop over data dimensions and create text annotations\n",
    "    # using both normalized and non-normalized confusion matrices\n",
    "    def annotated_text(i, j):\n",
    "        return str(cm[i, j])+\"\\n(\"+str(format(cm_norm[i, j], \".2f\"))+\")\"\n",
    "\n",
    "    # Text color switches to provide contrast\n",
    "    col_switch_thresh = cm.max() / 2.\n",
    "    for i in range(cm.shape[0]):\n",
    "        for j in range(cm.shape[1]):\n",
    "            ax.text(j, i, annotated_text(i, j),\n",
    "                    ha=\"center\", va=\"center\",\n",
    "                    color=\"white\" if cm[i, j] > col_switch_thresh else \"black\")\n",
    "    fig.tight_layout()\n",
    "    \n",
    "    if save_name is not None:\n",
    "        fig = ax.get_figure()\n",
    "        fig.savefig(save_name,bbox_inches=\"tight\",pad_inches=0.2) "
   ]
  },
  {
   "cell_type": "code",
   "execution_count": 16,
   "metadata": {},
   "outputs": [],
   "source": [
    "def plot_roc_curve(y_test, y_score, classes, roc_multilabel_count=3, figsize=(8,8), save_name=None):\n",
    "    \n",
    "    \"\"\"\n",
    "    Plots ROC curves for classification scores\n",
    "    \n",
    "    Parameters\n",
    "    ----------\n",
    "    \n",
    "    y_test : numpy array\n",
    "        Ground truth target values \n",
    "        \n",
    "    y_score : numpy array\n",
    "        Predicted probabilities or decision functions of model of test set\n",
    "        \n",
    "    classes : numpy array\n",
    "        class names \n",
    "        \n",
    "    roc_multilabel_count : integer (default = 3)\n",
    "        how many labels in a multilabel problem to plot\n",
    "        \n",
    "    figsize : tuple (default = (8,8))\n",
    "        a tuple for matplotlib figsize (x,y)    \n",
    "        \n",
    "    save_name : string (default = None)\n",
    "        name of the plot to be saved, including the file extension\n",
    "        None for no plot saving\n",
    "\n",
    "    Returns\n",
    "    -------\n",
    "    None\n",
    "    \n",
    "    \"\"\"\n",
    "\n",
    "    # Compute ROC curve and ROC area for each class\n",
    "    fpr, tpr, roc_auc = {}, {}, {}\n",
    "    n_classes = len(classes)\n",
    "    if n_classes == 2:\n",
    "        try:\n",
    "            fpr, tpr, _ = roc_curve(y_test, y_score)\n",
    "        except ValueError:\n",
    "            fpr, tpr, _ = roc_curve(y_test, y_score[:, 1])\n",
    "        roc_auc = auc(fpr, tpr)\n",
    "#         print(roc_auc)\n",
    "        \n",
    "        # Plot average and individual class curves\n",
    "        fig, ax = plt.subplots(figsize=figsize)\n",
    "        \n",
    "        ax.plot(fpr, tpr, color=plt.cm.tab10(0), lw=2,\n",
    "                     label=\"ROC curve (area = {0:0.4f})\".format(roc_auc))\n",
    "        \n",
    "        # Plot 50% line\n",
    "        ax.plot([0, 1], [0, 1], \"k--\", lw=2)\n",
    "        ax.set(xlim=[0.0, 1.0], ylim=[0.0, 1.05],\n",
    "               ylabel=\"True Positive Rate\", xlabel=\"False Positive Rate\")\n",
    "        ax.legend(loc=\"lower right\")\n",
    "\n",
    "\n",
    "    else:\n",
    "        for i in range(n_classes):\n",
    "            try:\n",
    "                fpr[i], tpr[i], _ = roc_curve([sublist[i] for sublist in y_test], \n",
    "                                  [sublist[i] for sublist in y_score])\n",
    "            except ValueError:\n",
    "                fpr[i], tpr[i], _ = roc_curve([sublist[i] for sublist in y_test], \n",
    "                              [sublist[i] for sublist in y_score[:, 1]])\n",
    "            roc_auc[i] = auc(fpr[i], tpr[i])\n",
    "\n",
    "        all_fpr = np.unique(np.concatenate([fpr[i] for i in range(n_classes)]))\n",
    "\n",
    "        # Interpolate ROC curves\n",
    "        mean_tpr, all_tpr = np.zeros_like(all_fpr), 0\n",
    "        for i in range(n_classes):\n",
    "            all_tpr += interp(all_fpr, fpr[i], tpr[i])\n",
    "\n",
    "        # Average ROCs and compute AUC\n",
    "        mean_tpr = all_tpr/n_classes\n",
    "\n",
    "        fpr[\"avg\"] = all_fpr\n",
    "        tpr[\"avg\"] = mean_tpr\n",
    "        roc_auc[\"avg\"] = auc(fpr[\"avg\"], tpr[\"avg\"])\n",
    "\n",
    "\n",
    "        # Plot average and individual class curves\n",
    "        fig, ax = plt.subplots(figsize=figsize)\n",
    "\n",
    "        if roc_multilabel_count > 1:\n",
    "            ax.plot(fpr[\"avg\"], tpr[\"avg\"],\n",
    "                     label=\"Average ROC curve (area = {0:0.4f})\".format(roc_auc[\"avg\"]),\n",
    "                     color=\"navy\", linestyle=\":\", linewidth=4)\n",
    "\n",
    "        for i in range(roc_multilabel_count):\n",
    "            ax.plot(fpr[i], tpr[i], color=plt.cm.tab10(i), lw=2,\n",
    "                     label=\"ROC curve of class {0} (area = {1:0.4f})\".format(classes[i], roc_auc[i]))\n",
    "\n",
    "        # Plot 50% line\n",
    "        ax.plot([0, 1], [0, 1], \"k--\", lw=2)\n",
    "        ax.set(xlim=[0.0, 1.0], ylim=[0.0, 1.05],\n",
    "               ylabel=\"True Positive Rate\", xlabel=\"False Positive Rate\")\n",
    "        ax.legend(loc=\"lower right\")\n",
    "    \n",
    "    \n",
    "    if save_name is not None:\n",
    "        fig = ax.get_figure()\n",
    "        fig.savefig(save_name,bbox_inches=\"tight\",pad_inches=0.2) "
   ]
  },
  {
   "cell_type": "markdown",
   "metadata": {},
   "source": [
    "## Preprocessing"
   ]
  },
  {
   "cell_type": "markdown",
   "metadata": {},
   "source": [
    "### Custom transforms and preprocessing pipeline steps"
   ]
  },
  {
   "cell_type": "code",
   "execution_count": 17,
   "metadata": {},
   "outputs": [],
   "source": [
    "## Numeric features if applicable\n",
    "#numeric_features = ['age', 'fare']\n",
    "#numeric_transformer = Pipeline(steps=[\n",
    "#    ('imputer', SimpleImputer(strategy='median')),\n",
    "#    ('scaler', StandardScaler())])\n",
    "\n",
    "## Categorical features if applicable\n",
    "#categorical_features = [\"Sentiment Score\"]\n",
    "#categorical_transformer = Pipeline(steps=[\n",
    "#    ('imputer', SimpleImputer(strategy='constant', fill_value='missing')),\n",
    "#    ('onehot', OneHotEncoder(handle_unknown='ignore'))])\n",
    "\n",
    "#preprocessor = ColumnTransformer(\n",
    "#    transformers=[\n",
    "#        ('num', numeric_transformer, numeric_features),\n",
    "#        (\"cat\", categorical_transformer, categorical_features)])\n",
    "\n",
    "\n",
    "## Create preprocessing pipelines\n",
    "\n",
    "\n",
    "## Column selector (removes non-essential columns as defined by user), X must be a pandas dataframe\n",
    "class ColumnSelector(BaseEstimator, TransformerMixin):\n",
    "    def __init__(self, columns):\n",
    "        self.columns = columns\n",
    "\n",
    "    def fit(self, X, y=None):\n",
    "        return self\n",
    "\n",
    "    def transform(self, X):\n",
    "        assert isinstance(X, pd.DataFrame)\n",
    "\n",
    "        try:\n",
    "            return X[self.columns]\n",
    "        except KeyError:\n",
    "            cols_error = list(set(self.columns) - set(X.columns))\n",
    "            raise KeyError(\"The DataFrame does not include the columns: %s\" % cols_error)\n",
    "\n",
    "## Create custom transformer\n",
    "class Tweet_cleaner(BaseEstimator, TransformerMixin):\n",
    "    def __init__(self, verbose=False, word2vec=False):\n",
    "        self.word2vec = word2vec\n",
    "        self.verbose = verbose\n",
    "        \n",
    "    def fit(self, X, y=None):\n",
    "        if(self.verbose):\n",
    "            print(\"Verbose mode on!\")\n",
    "        return self\n",
    "    \n",
    "    def transform(self, X, y=None):\n",
    "        #display(X)\n",
    "        #Use beautifulsoup to decode HTML code\n",
    "        print(\"Preprocessing...\")\n",
    "        X = [tweet for tweet in X[\"Tweet\"]]\n",
    "#         X = [(BeautifulSoup(tweet,\"lxml\").get_text()) for tweet in X[\"Tweet\"]]\n",
    "#         #X_2 = [re.sub(r\"@[A-Za-z0-9]+\",\"\",tweet) for tweet in X_1]\n",
    "#         X = [re.sub(\"https?://[A-Za-z0-9./]+\",\"\",tweet) for tweet in X]\n",
    "#         X = [re.sub(\"www.[A-Za-z0-9./]+\",\"\",tweet) for tweet in X]\n",
    "        \n",
    "#         if self.word2vec:\n",
    "#             # Concatenate to single string for word2vec embeddings transformation\n",
    "#             X = \" \".join(X)\n",
    "            \n",
    "        #X_5 = [(tweet.decode(\"utf-8-sig\")).replace(u\"\\ufffd\",\"\") for tweet in X_4]\n",
    "        #X_5 = [re.sub(\"[^a-zA-Z]\",\" \", tweet) for tweet in X_4]\n",
    "        #display(X_4)\n",
    "        print(\"Preprocess Complete\")\n",
    "\n",
    "        return X\n",
    "    \n",
    "class Text_cleaner(BaseEstimator, TransformerMixin):\n",
    "    # Clean the text, with the option to remove stopwords and to stem words.\n",
    "    \n",
    "    def __init__(self, verbose=False, remove_stopwords=False, stem_words=False, text_col=None, stopwords=None):\n",
    "        self.verbose = verbose\n",
    "        self.remove_stopwords = remove_stopwords\n",
    "        self.stem_words = stem_words\n",
    "        self.text_col = text_col\n",
    "        self.stopwords = stopwords\n",
    "        \n",
    "    def fit(self, X, y=None):\n",
    "        if(self.verbose):\n",
    "            print(\"Verbose mode on!\")\n",
    "        return self\n",
    "                 \n",
    "    def transform(self, X, y=None):\n",
    "        print(\"Preprocessing...\")\n",
    "        X_new = []\n",
    "                 \n",
    "        # Convert words to lower case and split them\n",
    "        for text in X[self.text_col]:\n",
    "            text = text.lower().split()\n",
    "\n",
    "            # Optionally, remove stop words\n",
    "            if self.remove_stopwords:\n",
    "                text = [w for w in text if not w in self.stopwords]\n",
    "\n",
    "            text = \" \".join(text)\n",
    "\n",
    "            # Clean the text\n",
    "            text = re.sub(r\"[^A-Za-z0-9^,!.\\/'+-=]\", \" \", text)\n",
    "            text = re.sub(r\"what's\", \"what is \", text)\n",
    "            text = re.sub(r\"that's\", \"that is \", text)\n",
    "            text = re.sub(r\"\\'s\", \" \", text)\n",
    "            text = re.sub(r\"\\'ve\", \" have \", text)\n",
    "            text = re.sub(r\"can't\", \"cannot \", text)\n",
    "            text = re.sub(r\"n't\", \" not \", text)\n",
    "            text = re.sub(r\"i'm\", \"i am \", text)\n",
    "            text = re.sub(r\"\\'re\", \" are \", text)\n",
    "            text = re.sub(r\"\\'d\", \" would \", text)\n",
    "            text = re.sub(r\"\\'ll\", \" will \", text)\n",
    "            text = re.sub(r\",\", \" \", text)\n",
    "            text = re.sub(r\"\\.\", \" \", text)\n",
    "            text = re.sub(r\"!\", \" ! \", text)\n",
    "            text = re.sub(r\"'\", \" \", text)\n",
    "            text = re.sub(r\"(\\d+)(k)\", r\"\\g<1>000\", text)\n",
    "            text = re.sub(r\":\", \" : \", text)\n",
    "            text = re.sub(r\" e g \", \" eg \", text)\n",
    "            text = re.sub(r\" b g \", \" bg \", text)\n",
    "            text = re.sub(r\" u s \", \" american \", text)\n",
    "            text = re.sub(r\"\\0s\", \"0\", text)\n",
    "            text = re.sub(r\" 9 11 \", \"911\", text)\n",
    "            text = re.sub(r\"e - mail\", \"email\", text)\n",
    "            text = re.sub(r\"\\s{2,}\", \" \", text)\n",
    "\n",
    "            # Optionally, shorten words to their stems\n",
    "            if self.stem_words:\n",
    "                text = text.split()\n",
    "                stemmer = SnowballStemmer('english')\n",
    "                stemmed_words = [stemmer.stem(word) for word in text]\n",
    "                text = \" \".join(stemmed_words)\n",
    "            \n",
    "            X_new.append(text)\n",
    "    \n",
    "\n",
    "        print(\"Preprocess Complete\")\n",
    "\n",
    "        return X_new\n",
    "    \n",
    "    \n",
    "## Add debug step to retrieve shape \n",
    "class Text_to_numpy(BaseEstimator, TransformerMixin):\n",
    "    \n",
    "    def __init__(self, verbose=False):\n",
    "        self.verbose = verbose\n",
    "\n",
    "    def fit(self, X, y=None):\n",
    "        if(self.verbose):\n",
    "            print(\"Verbose mode on!\")\n",
    "        return self\n",
    "    \n",
    "    def transform(self, X):\n",
    "        X = X.values.flatten()\n",
    "        return X\n",
    "    \n",
    "## Add debug step to retrieve shape \n",
    "class Debug(BaseEstimator, TransformerMixin):\n",
    "    \n",
    "    def __init__(self, verbose=False):\n",
    "        self.verbose = verbose\n",
    "\n",
    "    def fit(self, X, y=None):\n",
    "        if(self.verbose):\n",
    "            print(\"Verbose mode on!\")\n",
    "        return self\n",
    "    \n",
    "    def transform(self, X):\n",
    "#         print(X[:5])\n",
    "#         self.shape = X.shape\n",
    "        print(X.shape)\n",
    "        # what other output you want\n",
    "        return X"
   ]
  },
  {
   "cell_type": "markdown",
   "metadata": {},
   "source": [
    "## Define preprocessor param grid"
   ]
  },
  {
   "cell_type": "code",
   "execution_count": 18,
   "metadata": {},
   "outputs": [],
   "source": [
    "# tweet_col = [\"Tweet\"]\n",
    "# tweet_transformer = Pipeline(steps=[\n",
    "#     (\"cleaner\", Tweet_cleaner()),\n",
    "#     (\"tfidf_vectorizer\", TfidfVectorizer()),\n",
    "#     (\"debug\", Debug())\n",
    "#     ])\n",
    "  \n",
    "# preprocessor = ColumnTransformer(\n",
    "#     transformers=[\n",
    "#         (\"tweet_transformer\", tweet_transformer, tweet_col)\n",
    "#         ])\n",
    "\n",
    "# param_grid = {\n",
    "#     \"preprocessor__tweet_transformer__tfidf_vectorizer__max_features\": (1000,5000,15000),\n",
    "#     \"preprocessor__tweet_transformer__tfidf_vectorizer__binary\": [True],\n",
    "#     \"preprocessor__tweet_transformer__tfidf_vectorizer__token_pattern\": [r\"(?u)\\b\\w\\w+\\b|\\'\"],\n",
    "#     \"preprocessor__tweet_transformer__tfidf_vectorizer__ngram_range\": [(1,2)],\n",
    "#     }"
   ]
  },
  {
   "cell_type": "code",
   "execution_count": 19,
   "metadata": {},
   "outputs": [],
   "source": [
    "text_col = [\"text\"]\n",
    "text_transformer = Pipeline(steps=[\n",
    "    (\"text_to_numpy\", Text_to_numpy()),\n",
    "    (\"tfidf_vectorizer\", TfidfVectorizer())\n",
    "#     (\"debug\", Debug())\n",
    "    ])\n",
    "  \n",
    "text_preprocessor = ColumnTransformer(\n",
    "    transformers=[\n",
    "        (\"text_transformer\", text_transformer, text_col)\n",
    "        ])\n",
    "\n",
    "text_param_grid = {\n",
    "    \"text_preprocessor__text_transformer__tfidf_vectorizer__max_features\": (1000,5000,15000),\n",
    "    \"text_preprocessor__text_transformer__tfidf_vectorizer__binary\": [True],\n",
    "    \"text_preprocessor__text_transformer__tfidf_vectorizer__token_pattern\": [r\"(?u)\\b\\w\\w+\\b|\\'\"],\n",
    "    \"text_preprocessor__text_transformer__tfidf_vectorizer__ngram_range\": [(1,2)],\n",
    "    }"
   ]
  },
  {
   "cell_type": "markdown",
   "metadata": {},
   "source": [
    "# Support Vector Machines"
   ]
  },
  {
   "cell_type": "markdown",
   "metadata": {},
   "source": [
    "## Linear Support Vector Classifier"
   ]
  },
  {
   "cell_type": "code",
   "execution_count": 33,
   "metadata": {},
   "outputs": [
    {
     "name": "stdout",
     "output_type": "stream",
     "text": [
      "Pipeline(steps=[('text_preprocessor',\n",
      "                 ColumnTransformer(transformers=[('text_transformer',\n",
      "                                                  Pipeline(steps=[('text_to_numpy',\n",
      "                                                                   Text_to_numpy()),\n",
      "                                                                  ('tfidf_vectorizer',\n",
      "                                                                   TfidfVectorizer())]),\n",
      "                                                  ['text'])])),\n",
      "                ('linear_svc_classifier', LinearSVC())])\n",
      "\n"
     ]
    }
   ],
   "source": [
    "# Linear support Vector Classification using one-vs-rest classification for multiclass learning\n",
    "linear_svc_clf = LinearSVC(verbose=0, multi_class=\"ovr\")\n",
    "linear_svc_clf_fullpipe = Pipeline(steps=[\n",
    "    (\"text_preprocessor\", text_preprocessor),\n",
    "    (\"linear_svc_classifier\", linear_svc_clf)\n",
    "])\n",
    "print(linear_svc_clf_fullpipe)\n",
    "print(\"\")"
   ]
  },
  {
   "cell_type": "code",
   "execution_count": 34,
   "metadata": {},
   "outputs": [],
   "source": [
    "# Specify hyperparameter grids for optimization\n",
    "\n",
    "linear_svc_param_grid = {\n",
    "    \"linear_svc_classifier__penalty\": [\"l1\",\"l2\"],\n",
    "    \"linear_svc_classifier__C\": [x for x in np.logspace(-5, 5, base=2, num=5)],\n",
    "}\n",
    "\n",
    "linear_svc_param_grid.update(text_param_grid)"
   ]
  },
  {
   "cell_type": "code",
   "execution_count": 35,
   "metadata": {},
   "outputs": [],
   "source": [
    "# Dictionary of pipelines and classifier types for ease of reference\n",
    "pipe_dict = {\n",
    "    \"Linear_SVC\": (linear_svc_clf_fullpipe, linear_svc_param_grid),\n",
    "}"
   ]
  },
  {
   "cell_type": "markdown",
   "metadata": {},
   "source": [
    "### Train the linear SVC pipeline model"
   ]
  },
  {
   "cell_type": "code",
   "execution_count": 36,
   "metadata": {},
   "outputs": [
    {
     "name": "stdin",
     "output_type": "stream",
     "text": [
      "A joblib model file already exists with that name, \n",
      "do you wish to retrain the model? (Y/N) y\n"
     ]
    },
    {
     "name": "stdout",
     "output_type": "stream",
     "text": [
      "Pipeline(steps=[('text_preprocessor',\n",
      "                 ColumnTransformer(transformers=[('text_transformer',\n",
      "                                                  Pipeline(steps=[('text_to_numpy',\n",
      "                                                                   Text_to_numpy()),\n",
      "                                                                  ('tfidf_vectorizer',\n",
      "                                                                   TfidfVectorizer())]),\n",
      "                                                  ['text'])])),\n",
      "                ('linear_svc_classifier', LinearSVC())])\n",
      "Param Grid: {'linear_svc_classifier__penalty': ['l1', 'l2'], 'linear_svc_classifier__C': [0.03125, 0.1767766952966369, 1.0, 5.656854249492381, 32.0], 'text_preprocessor__text_transformer__tfidf_vectorizer__max_features': (1000, 5000, 15000), 'text_preprocessor__text_transformer__tfidf_vectorizer__binary': [True], 'text_preprocessor__text_transformer__tfidf_vectorizer__token_pattern': [\"(?u)\\\\b\\\\w\\\\w+\\\\b|\\\\'\"], 'text_preprocessor__text_transformer__tfidf_vectorizer__ngram_range': [(1, 2)]}\n",
      "\n",
      "Training Linear_SVC on 2005 samples...\n",
      "Shape of inputs: (2005, 1)\n",
      "                                                                                                                                                                                                                                                                                                                                                                      text\n",
      "1613  salaam smeasim another iraqi known years 55 candidate largest shiite opposition party iraqi national alliance salaam wears veil coalition includes many sadrists relations iran                                                                                                                                                                                     \n",
      "2772  violence continued roil capital tuesday high-ranking official interior ministry narrowly escaped assassination attempt gunmen fired car killing one bodyguards wounding three ministry officials said                                                                                                                                                               \n",
      "1032  suddenness french proposal left nations security council struggling ways respond keeping options open                                                                                                                                                                                                                                                               \n",
      "2806  colliding priorities oversight spending left american iraqi officials quandary work behind scenes so-called compact iraq centerpiece american embassy effort create economic political milestones nation promises meet exchange pledges foreign investment support                                                                                                  \n",
      "2702  president bush traveling kuwait bahrain saturday praised vote calling important step toward reconciliation said consolidate progress country past year prepared slow even halt american troop reductions beyond already planned bring levels back so-called troop surge began early 2006 set stage renewed political debate war congress presidential campaign trail\n",
      "Shape of outputs: (2005,)\n",
      "1613    0\n",
      "2772    1\n",
      "1032    0\n",
      "2806    1\n",
      "2702    1\n",
      "Name: coding, dtype: int64\n",
      "\n",
      "Fitting 5 folds for each of 30 candidates, totalling 150 fits\n"
     ]
    },
    {
     "name": "stderr",
     "output_type": "stream",
     "text": [
      "[Parallel(n_jobs=6)]: Using backend LokyBackend with 6 concurrent workers.\n",
      "[Parallel(n_jobs=6)]: Done  38 tasks      | elapsed:    3.3s\n",
      "[Parallel(n_jobs=6)]: Done 150 out of 150 | elapsed:    6.2s finished\n"
     ]
    },
    {
     "name": "stdout",
     "output_type": "stream",
     "text": [
      "\n",
      "Linear_SVC:\n",
      "Best Score:  0.7670822942643392\n",
      "Best Params:  {'linear_svc_classifier__C': 0.1767766952966369, 'linear_svc_classifier__penalty': 'l2', 'text_preprocessor__text_transformer__tfidf_vectorizer__binary': True, 'text_preprocessor__text_transformer__tfidf_vectorizer__max_features': 5000, 'text_preprocessor__text_transformer__tfidf_vectorizer__ngram_range': (1, 2), 'text_preprocessor__text_transformer__tfidf_vectorizer__token_pattern': \"(?u)\\\\b\\\\w\\\\w+\\\\b|\\\\'\"}\n"
     ]
    }
   ],
   "source": [
    "linear_svc_clf_final = pipeline_fit(\n",
    "                                        X_train=X_train,\n",
    "                                        y_train=y_train,\n",
    "                                        pipeline=\"Linear_SVC\", \n",
    "                                        search_method=\"gridsearch\", \n",
    "#                                         n_iter=3,\n",
    "                                        verbose_searchcv=1, \n",
    "                                        n_jobs=6, \n",
    "                                        save_name=\"News_test\"\n",
    "                                    )"
   ]
  },
  {
   "cell_type": "markdown",
   "metadata": {},
   "source": [
    "### Evaluation"
   ]
  },
  {
   "cell_type": "code",
   "execution_count": 37,
   "metadata": {},
   "outputs": [],
   "source": [
    "y_pred_linear_svc = linear_svc_clf_final.predict(X_test)\n",
    "y_score_linear_svc = linear_svc_clf_final.decision_function(X_test)\n",
    "# print(y_score_linear_svc)"
   ]
  },
  {
   "cell_type": "code",
   "execution_count": 38,
   "metadata": {},
   "outputs": [
    {
     "name": "stdout",
     "output_type": "stream",
     "text": [
      "Accuracy Score on Test Set:\n",
      "0.7837209302325582\n"
     ]
    },
    {
     "data": {
      "image/png": "[encoded data removed]",
      "text/plain": [
       "<Figure size 576x576 with 2 Axes>"
      ]
     },
     "metadata": {
      "needs_background": "light"
     },
     "output_type": "display_data"
    },
    {
     "data": {
      "image/png": "[encoded data removed]",
      "text/plain": [
       "<Figure size 576x576 with 1 Axes>"
      ]
     },
     "metadata": {
      "needs_background": "light"
     },
     "output_type": "display_data"
    }
   ],
   "source": [
    "print(\"Accuracy Score on Test Set:\")\n",
    "# Inverse transform onehot labels using labelbinarizer\n",
    "print(accuracy_score(y_test, y_pred_linear_svc))\n",
    "\n",
    "# np.set_printoptions(precision=2)\n",
    "# print(linear_svc_clf_final.classes_)\n",
    "# Plot confusion matrix\n",
    "plot_confusion_matrix(y_test, y_pred_linear_svc, classes=linear_svc_clf_final.classes_)\n",
    "\n",
    "# Plot ROC curve (requires onehot targets)\n",
    "plot_roc_curve(y_test, y_score_linear_svc, classes=linear_svc_clf_final.classes_, roc_multilabel_count=2)"
   ]
  },
  {
   "cell_type": "markdown",
   "metadata": {},
   "source": [
    "## Nonlinear Support Vector Classifier"
   ]
  },
  {
   "cell_type": "code",
   "execution_count": 143,
   "metadata": {},
   "outputs": [],
   "source": [
    "# Specify hyperparameter grids for optimization\n",
    "\n",
    "gamma = [x for x in np.logspace(-15, 3, base=2, num=7)]\n",
    "gamma.append(\"scale\")\n",
    "gamma.append(\"auto\")\n",
    "\n",
    "svc_param_grid = {\n",
    "    \"svc_classifier__kernel\": [\"rbf\"],#,\"poly\",\"sigmoid\"],\n",
    "#     \"svc_classifier__degree\": [3,4,5],\n",
    "    \"svc_classifier__C\": [x for x in np.logspace(-5, 10, base=2, num=5)],\n",
    "    \"svc_classifier__gamma\": gamma\n",
    "}\n",
    "\n",
    "svc_param_grid.update(param_grid)"
   ]
  },
  {
   "cell_type": "code",
   "execution_count": 144,
   "metadata": {
    "collapsed": true,
    "jupyter": {
     "outputs_hidden": true
    }
   },
   "outputs": [
    {
     "name": "stdout",
     "output_type": "stream",
     "text": [
      "Pipeline(memory=None,\n",
      "         steps=[('preprocessor',\n",
      "                 ColumnTransformer(n_jobs=None, remainder='drop',\n",
      "                                   sparse_threshold=0.3,\n",
      "                                   transformer_weights=None,\n",
      "                                   transformers=[('tweet_transformer',\n",
      "                                                  Pipeline(memory=None,\n",
      "                                                           steps=[('cleaner',\n",
      "                                                                   Tweet_cleaner(verbose=False,\n",
      "                                                                                 word2vec=False)),\n",
      "                                                                  ('tfidf_vectorizer',\n",
      "                                                                   TfidfVectorizer(analyzer='word',\n",
      "                                                                                   binary=False,\n",
      "                                                                                   decode_error='strict',\n",
      "                                                                                   dtype=<...\n",
      "                                                                                   use_idf=True,\n",
      "                                                                                   vocabulary=None)),\n",
      "                                                                  ('debug',\n",
      "                                                                   Debug(verbose=False))],\n",
      "                                                           verbose=False),\n",
      "                                                  ['Tweet'])],\n",
      "                                   verbose=False)),\n",
      "                ('svc_classifier',\n",
      "                 SVC(C=1.0, break_ties=False, cache_size=200, class_weight=None,\n",
      "                     coef0=0.0, decision_function_shape='ovr', degree=3,\n",
      "                     gamma='scale', kernel='rbf', max_iter=-1,\n",
      "                     probability=False, random_state=None, shrinking=True,\n",
      "                     tol=0.001, verbose=3))],\n",
      "         verbose=False)\n",
      "\n"
     ]
    }
   ],
   "source": [
    "# Nonlinear support Vector Classification using one-vs-one classification for multiclass learning\n",
    "svc_clf = SVC(verbose=3)\n",
    "svc_clf_fullpipe = Pipeline(steps=[\n",
    "    (\"preprocessor\", preprocessor),\n",
    "    (\"svc_classifier\", svc_clf)\n",
    "])\n",
    "print(svc_clf_fullpipe)\n",
    "print(\"\")"
   ]
  },
  {
   "cell_type": "code",
   "execution_count": 145,
   "metadata": {},
   "outputs": [],
   "source": [
    "# Dictionary of pipelines and classifier types for ease of reference\n",
    "pipe_dict[\"SVC\"] = (svc_clf_fullpipe, svc_param_grid)"
   ]
  },
  {
   "cell_type": "markdown",
   "metadata": {},
   "source": [
    "### Train the Nonlinear SVC pipeline model"
   ]
  },
  {
   "cell_type": "code",
   "execution_count": 146,
   "metadata": {
    "collapsed": true,
    "jupyter": {
     "outputs_hidden": true
    }
   },
   "outputs": [
    {
     "name": "stdout",
     "output_type": "stream",
     "text": [
      "Pipeline(memory=None,\n",
      "         steps=[('preprocessor',\n",
      "                 ColumnTransformer(n_jobs=None, remainder='drop',\n",
      "                                   sparse_threshold=0.3,\n",
      "                                   transformer_weights=None,\n",
      "                                   transformers=[('tweet_transformer',\n",
      "                                                  Pipeline(memory=None,\n",
      "                                                           steps=[('cleaner',\n",
      "                                                                   Tweet_cleaner(verbose=False,\n",
      "                                                                                 word2vec=False)),\n",
      "                                                                  ('tfidf_vectorizer',\n",
      "                                                                   TfidfVectorizer(analyzer='word',\n",
      "                                                                                   binary=False,\n",
      "                                                                                   decode_error='strict',\n",
      "                                                                                   dtype=<...\n",
      "                                                                                   use_idf=True,\n",
      "                                                                                   vocabulary=None)),\n",
      "                                                                  ('debug',\n",
      "                                                                   Debug(verbose=False))],\n",
      "                                                           verbose=False),\n",
      "                                                  ['Tweet'])],\n",
      "                                   verbose=False)),\n",
      "                ('svc_classifier',\n",
      "                 SVC(C=1.0, break_ties=False, cache_size=200, class_weight=None,\n",
      "                     coef0=0.0, decision_function_shape='ovr', degree=3,\n",
      "                     gamma='scale', kernel='rbf', max_iter=-1,\n",
      "                     probability=False, random_state=None, shrinking=True,\n",
      "                     tol=0.001, verbose=3))],\n",
      "         verbose=False)\n",
      "Param Grid: {'svc_classifier__kernel': ['rbf'], 'svc_classifier__C': [0.03125, 0.42044820762685725, 5.656854249492381, 76.10925536017415, 1024.0], 'svc_classifier__gamma': [3.0517578125e-05, 0.000244140625, 0.001953125, 0.015625, 0.125, 1.0, 8.0, 'scale', 'auto'], 'preprocessor__tweet_transformer__tfidf_vectorizer__max_features': (1000, 5000, 15000), 'preprocessor__tweet_transformer__tfidf_vectorizer__binary': [True], 'preprocessor__tweet_transformer__tfidf_vectorizer__token_pattern': [\"(?u)\\\\b\\\\w\\\\w+\\\\b|\\\\'\"], 'preprocessor__tweet_transformer__tfidf_vectorizer__ngram_range': [(1, 2)]}\n",
      "\n",
      "Training SVC on 112000 samples...\n",
      "Shape of inputs: (112000, 1)\n",
      "                                                                                                                                         Tweet\n",
      "510483   looks like tonight's a bit of a bust                                                                                                 \n",
      "1595178  you betcha jack wp is easy peasy stuff for me thinking some videos are in order                                                      \n",
      "10758    twit help how do i remove twitter column from tweet deck i set it to stay signed in it's not budging and i dont want it there anymore\n",
      "1258939  i have waited for the right opportunity to think about renting                                                                       \n",
      "61753    something good come on tv                                                                                                            \n",
      "Shape of outputs: (112000,)\n",
      "[0 1 0 1 0]\n",
      "\n",
      "Fitting 3 folds for each of 3 candidates, totalling 9 fits\n"
     ]
    },
    {
     "name": "stderr",
     "output_type": "stream",
     "text": [
      "[Parallel(n_jobs=-1)]: Using backend LokyBackend with 24 concurrent workers.\n",
      "[Parallel(n_jobs=-1)]: Done   2 out of   9 | elapsed:   48.6s remaining:  2.8min\n",
      "[Parallel(n_jobs=-1)]: Done   7 out of   9 | elapsed:   48.6s remaining:   13.9s\n"
     ]
    },
    {
     "ename": "KeyboardInterrupt",
     "evalue": "",
     "output_type": "error",
     "traceback": [
      "\u001b[0;31m---------------------------------------------------------------------------\u001b[0m",
      "\u001b[0;31mKeyboardInterrupt\u001b[0m                         Traceback (most recent call last)",
      "\u001b[0;32m~/anaconda3/lib/python3.8/site-packages/joblib/parallel.py\u001b[0m in \u001b[0;36mretrieve\u001b[0;34m(self)\u001b[0m\n\u001b[1;32m    920\u001b[0m                 \u001b[0;32mif\u001b[0m \u001b[0mgetattr\u001b[0m\u001b[0;34m(\u001b[0m\u001b[0mself\u001b[0m\u001b[0;34m.\u001b[0m\u001b[0m_backend\u001b[0m\u001b[0;34m,\u001b[0m \u001b[0;34m'supports_timeout'\u001b[0m\u001b[0;34m,\u001b[0m \u001b[0;32mFalse\u001b[0m\u001b[0;34m)\u001b[0m\u001b[0;34m:\u001b[0m\u001b[0;34m\u001b[0m\u001b[0;34m\u001b[0m\u001b[0m\n\u001b[0;32m--> 921\u001b[0;31m                     \u001b[0mself\u001b[0m\u001b[0;34m.\u001b[0m\u001b[0m_output\u001b[0m\u001b[0;34m.\u001b[0m\u001b[0mextend\u001b[0m\u001b[0;34m(\u001b[0m\u001b[0mjob\u001b[0m\u001b[0;34m.\u001b[0m\u001b[0mget\u001b[0m\u001b[0;34m(\u001b[0m\u001b[0mtimeout\u001b[0m\u001b[0;34m=\u001b[0m\u001b[0mself\u001b[0m\u001b[0;34m.\u001b[0m\u001b[0mtimeout\u001b[0m\u001b[0;34m)\u001b[0m\u001b[0;34m)\u001b[0m\u001b[0;34m\u001b[0m\u001b[0;34m\u001b[0m\u001b[0m\n\u001b[0m\u001b[1;32m    922\u001b[0m                 \u001b[0;32melse\u001b[0m\u001b[0;34m:\u001b[0m\u001b[0;34m\u001b[0m\u001b[0;34m\u001b[0m\u001b[0m\n",
      "\u001b[0;32m~/anaconda3/lib/python3.8/site-packages/joblib/_parallel_backends.py\u001b[0m in \u001b[0;36mwrap_future_result\u001b[0;34m(future, timeout)\u001b[0m\n\u001b[1;32m    541\u001b[0m         \u001b[0;32mtry\u001b[0m\u001b[0;34m:\u001b[0m\u001b[0;34m\u001b[0m\u001b[0;34m\u001b[0m\u001b[0m\n\u001b[0;32m--> 542\u001b[0;31m             \u001b[0;32mreturn\u001b[0m \u001b[0mfuture\u001b[0m\u001b[0;34m.\u001b[0m\u001b[0mresult\u001b[0m\u001b[0;34m(\u001b[0m\u001b[0mtimeout\u001b[0m\u001b[0;34m=\u001b[0m\u001b[0mtimeout\u001b[0m\u001b[0;34m)\u001b[0m\u001b[0;34m\u001b[0m\u001b[0;34m\u001b[0m\u001b[0m\n\u001b[0m\u001b[1;32m    543\u001b[0m         \u001b[0;32mexcept\u001b[0m \u001b[0mCfTimeoutError\u001b[0m \u001b[0;32mas\u001b[0m \u001b[0me\u001b[0m\u001b[0;34m:\u001b[0m\u001b[0;34m\u001b[0m\u001b[0;34m\u001b[0m\u001b[0m\n",
      "\u001b[0;32m~/anaconda3/lib/python3.8/concurrent/futures/_base.py\u001b[0m in \u001b[0;36mresult\u001b[0;34m(self, timeout)\u001b[0m\n\u001b[1;32m    433\u001b[0m \u001b[0;34m\u001b[0m\u001b[0m\n\u001b[0;32m--> 434\u001b[0;31m             \u001b[0mself\u001b[0m\u001b[0;34m.\u001b[0m\u001b[0m_condition\u001b[0m\u001b[0;34m.\u001b[0m\u001b[0mwait\u001b[0m\u001b[0;34m(\u001b[0m\u001b[0mtimeout\u001b[0m\u001b[0;34m)\u001b[0m\u001b[0;34m\u001b[0m\u001b[0;34m\u001b[0m\u001b[0m\n\u001b[0m\u001b[1;32m    435\u001b[0m \u001b[0;34m\u001b[0m\u001b[0m\n",
      "\u001b[0;32m~/anaconda3/lib/python3.8/threading.py\u001b[0m in \u001b[0;36mwait\u001b[0;34m(self, timeout)\u001b[0m\n\u001b[1;32m    301\u001b[0m             \u001b[0;32mif\u001b[0m \u001b[0mtimeout\u001b[0m \u001b[0;32mis\u001b[0m \u001b[0;32mNone\u001b[0m\u001b[0;34m:\u001b[0m\u001b[0;34m\u001b[0m\u001b[0;34m\u001b[0m\u001b[0m\n\u001b[0;32m--> 302\u001b[0;31m                 \u001b[0mwaiter\u001b[0m\u001b[0;34m.\u001b[0m\u001b[0macquire\u001b[0m\u001b[0;34m(\u001b[0m\u001b[0;34m)\u001b[0m\u001b[0;34m\u001b[0m\u001b[0;34m\u001b[0m\u001b[0m\n\u001b[0m\u001b[1;32m    303\u001b[0m                 \u001b[0mgotit\u001b[0m \u001b[0;34m=\u001b[0m \u001b[0;32mTrue\u001b[0m\u001b[0;34m\u001b[0m\u001b[0;34m\u001b[0m\u001b[0m\n",
      "\u001b[0;31mKeyboardInterrupt\u001b[0m: ",
      "\nDuring handling of the above exception, another exception occurred:\n",
      "\u001b[0;31mKeyboardInterrupt\u001b[0m                         Traceback (most recent call last)",
      "\u001b[0;32m<ipython-input-146-446d5e4342ab>\u001b[0m in \u001b[0;36m<module>\u001b[0;34m\u001b[0m\n\u001b[0;32m----> 1\u001b[0;31m svc_clf_final = pipeline_fit(\n\u001b[0m\u001b[1;32m      2\u001b[0m                                 \u001b[0mX_train\u001b[0m\u001b[0;34m=\u001b[0m\u001b[0mX_train\u001b[0m\u001b[0;34m,\u001b[0m\u001b[0;34m\u001b[0m\u001b[0;34m\u001b[0m\u001b[0m\n\u001b[1;32m      3\u001b[0m                                 \u001b[0my_train\u001b[0m\u001b[0;34m=\u001b[0m\u001b[0my_train\u001b[0m\u001b[0;34m,\u001b[0m\u001b[0;34m\u001b[0m\u001b[0;34m\u001b[0m\u001b[0m\n\u001b[1;32m      4\u001b[0m                                 \u001b[0mpipeline\u001b[0m\u001b[0;34m=\u001b[0m\u001b[0;34m\"SVC\"\u001b[0m\u001b[0;34m,\u001b[0m\u001b[0;34m\u001b[0m\u001b[0;34m\u001b[0m\u001b[0m\n\u001b[1;32m      5\u001b[0m                                 \u001b[0msearch_method\u001b[0m\u001b[0;34m=\u001b[0m\u001b[0;34m\"randomsearch\"\u001b[0m\u001b[0;34m,\u001b[0m\u001b[0;34m\u001b[0m\u001b[0;34m\u001b[0m\u001b[0m\n",
      "\u001b[0;32m<ipython-input-72-5d86c75a298f>\u001b[0m in \u001b[0;36mpipeline_fit\u001b[0;34m(X_train, y_train, pipeline, save_name, keras_nn, search_method, n_iter, cv, verbose_searchcv, n_jobs)\u001b[0m\n\u001b[1;32m    127\u001b[0m     \u001b[0mprint\u001b[0m\u001b[0;34m(\u001b[0m\u001b[0;34m)\u001b[0m\u001b[0;34m\u001b[0m\u001b[0;34m\u001b[0m\u001b[0m\n\u001b[1;32m    128\u001b[0m \u001b[0;31m#     try:\u001b[0m\u001b[0;34m\u001b[0m\u001b[0;34m\u001b[0m\u001b[0;34m\u001b[0m\u001b[0m\n\u001b[0;32m--> 129\u001b[0;31m     \u001b[0msearch_cv\u001b[0m\u001b[0;34m.\u001b[0m\u001b[0mfit\u001b[0m\u001b[0;34m(\u001b[0m\u001b[0mX_train\u001b[0m\u001b[0;34m,\u001b[0m \u001b[0my_train\u001b[0m\u001b[0;34m)\u001b[0m\u001b[0;34m\u001b[0m\u001b[0;34m\u001b[0m\u001b[0m\n\u001b[0m\u001b[1;32m    130\u001b[0m \u001b[0;31m#     except ValueError:\u001b[0m\u001b[0;34m\u001b[0m\u001b[0;34m\u001b[0m\u001b[0;34m\u001b[0m\u001b[0m\n\u001b[1;32m    131\u001b[0m \u001b[0;31m#         ## If X_train is a dataframe with single column, convert y_train to match\u001b[0m\u001b[0;34m\u001b[0m\u001b[0;34m\u001b[0m\u001b[0;34m\u001b[0m\u001b[0m\n",
      "\u001b[0;32m~/anaconda3/lib/python3.8/site-packages/sklearn/model_selection/_search.py\u001b[0m in \u001b[0;36mfit\u001b[0;34m(self, X, y, groups, **fit_params)\u001b[0m\n\u001b[1;32m    708\u001b[0m                 \u001b[0;32mreturn\u001b[0m \u001b[0mresults\u001b[0m\u001b[0;34m\u001b[0m\u001b[0;34m\u001b[0m\u001b[0m\n\u001b[1;32m    709\u001b[0m \u001b[0;34m\u001b[0m\u001b[0m\n\u001b[0;32m--> 710\u001b[0;31m             \u001b[0mself\u001b[0m\u001b[0;34m.\u001b[0m\u001b[0m_run_search\u001b[0m\u001b[0;34m(\u001b[0m\u001b[0mevaluate_candidates\u001b[0m\u001b[0;34m)\u001b[0m\u001b[0;34m\u001b[0m\u001b[0;34m\u001b[0m\u001b[0m\n\u001b[0m\u001b[1;32m    711\u001b[0m \u001b[0;34m\u001b[0m\u001b[0m\n\u001b[1;32m    712\u001b[0m         \u001b[0;31m# For multi-metric evaluation, store the best_index_, best_params_ and\u001b[0m\u001b[0;34m\u001b[0m\u001b[0;34m\u001b[0m\u001b[0;34m\u001b[0m\u001b[0m\n",
      "\u001b[0;32m~/anaconda3/lib/python3.8/site-packages/sklearn/model_selection/_search.py\u001b[0m in \u001b[0;36m_run_search\u001b[0;34m(self, evaluate_candidates)\u001b[0m\n\u001b[1;32m   1480\u001b[0m     \u001b[0;32mdef\u001b[0m \u001b[0m_run_search\u001b[0m\u001b[0;34m(\u001b[0m\u001b[0mself\u001b[0m\u001b[0;34m,\u001b[0m \u001b[0mevaluate_candidates\u001b[0m\u001b[0;34m)\u001b[0m\u001b[0;34m:\u001b[0m\u001b[0;34m\u001b[0m\u001b[0;34m\u001b[0m\u001b[0m\n\u001b[1;32m   1481\u001b[0m         \u001b[0;34m\"\"\"Search n_iter candidates from param_distributions\"\"\"\u001b[0m\u001b[0;34m\u001b[0m\u001b[0;34m\u001b[0m\u001b[0m\n\u001b[0;32m-> 1482\u001b[0;31m         evaluate_candidates(ParameterSampler(\n\u001b[0m\u001b[1;32m   1483\u001b[0m             \u001b[0mself\u001b[0m\u001b[0;34m.\u001b[0m\u001b[0mparam_distributions\u001b[0m\u001b[0;34m,\u001b[0m \u001b[0mself\u001b[0m\u001b[0;34m.\u001b[0m\u001b[0mn_iter\u001b[0m\u001b[0;34m,\u001b[0m\u001b[0;34m\u001b[0m\u001b[0;34m\u001b[0m\u001b[0m\n\u001b[1;32m   1484\u001b[0m             random_state=self.random_state))\n",
      "\u001b[0;32m~/anaconda3/lib/python3.8/site-packages/sklearn/model_selection/_search.py\u001b[0m in \u001b[0;36mevaluate_candidates\u001b[0;34m(candidate_params)\u001b[0m\n\u001b[1;32m    680\u001b[0m                               n_splits, n_candidates, n_candidates * n_splits))\n\u001b[1;32m    681\u001b[0m \u001b[0;34m\u001b[0m\u001b[0m\n\u001b[0;32m--> 682\u001b[0;31m                 out = parallel(delayed(_fit_and_score)(clone(base_estimator),\n\u001b[0m\u001b[1;32m    683\u001b[0m                                                        \u001b[0mX\u001b[0m\u001b[0;34m,\u001b[0m \u001b[0my\u001b[0m\u001b[0;34m,\u001b[0m\u001b[0;34m\u001b[0m\u001b[0;34m\u001b[0m\u001b[0m\n\u001b[1;32m    684\u001b[0m                                                        \u001b[0mtrain\u001b[0m\u001b[0;34m=\u001b[0m\u001b[0mtrain\u001b[0m\u001b[0;34m,\u001b[0m \u001b[0mtest\u001b[0m\u001b[0;34m=\u001b[0m\u001b[0mtest\u001b[0m\u001b[0;34m,\u001b[0m\u001b[0;34m\u001b[0m\u001b[0;34m\u001b[0m\u001b[0m\n",
      "\u001b[0;32m~/anaconda3/lib/python3.8/site-packages/joblib/parallel.py\u001b[0m in \u001b[0;36m__call__\u001b[0;34m(self, iterable)\u001b[0m\n\u001b[1;32m   1040\u001b[0m \u001b[0;34m\u001b[0m\u001b[0m\n\u001b[1;32m   1041\u001b[0m             \u001b[0;32mwith\u001b[0m \u001b[0mself\u001b[0m\u001b[0;34m.\u001b[0m\u001b[0m_backend\u001b[0m\u001b[0;34m.\u001b[0m\u001b[0mretrieval_context\u001b[0m\u001b[0;34m(\u001b[0m\u001b[0;34m)\u001b[0m\u001b[0;34m:\u001b[0m\u001b[0;34m\u001b[0m\u001b[0;34m\u001b[0m\u001b[0m\n\u001b[0;32m-> 1042\u001b[0;31m                 \u001b[0mself\u001b[0m\u001b[0;34m.\u001b[0m\u001b[0mretrieve\u001b[0m\u001b[0;34m(\u001b[0m\u001b[0;34m)\u001b[0m\u001b[0;34m\u001b[0m\u001b[0;34m\u001b[0m\u001b[0m\n\u001b[0m\u001b[1;32m   1043\u001b[0m             \u001b[0;31m# Make sure that we get a last message telling us we are done\u001b[0m\u001b[0;34m\u001b[0m\u001b[0;34m\u001b[0m\u001b[0;34m\u001b[0m\u001b[0m\n\u001b[1;32m   1044\u001b[0m             \u001b[0melapsed_time\u001b[0m \u001b[0;34m=\u001b[0m \u001b[0mtime\u001b[0m\u001b[0;34m.\u001b[0m\u001b[0mtime\u001b[0m\u001b[0;34m(\u001b[0m\u001b[0;34m)\u001b[0m \u001b[0;34m-\u001b[0m \u001b[0mself\u001b[0m\u001b[0;34m.\u001b[0m\u001b[0m_start_time\u001b[0m\u001b[0;34m\u001b[0m\u001b[0;34m\u001b[0m\u001b[0m\n",
      "\u001b[0;32m~/anaconda3/lib/python3.8/site-packages/joblib/parallel.py\u001b[0m in \u001b[0;36mretrieve\u001b[0;34m(self)\u001b[0m\n\u001b[1;32m    941\u001b[0m                     \u001b[0;31m# scheduling.\u001b[0m\u001b[0;34m\u001b[0m\u001b[0;34m\u001b[0m\u001b[0;34m\u001b[0m\u001b[0m\n\u001b[1;32m    942\u001b[0m                     \u001b[0mensure_ready\u001b[0m \u001b[0;34m=\u001b[0m \u001b[0mself\u001b[0m\u001b[0;34m.\u001b[0m\u001b[0m_managed_backend\u001b[0m\u001b[0;34m\u001b[0m\u001b[0;34m\u001b[0m\u001b[0m\n\u001b[0;32m--> 943\u001b[0;31m                     \u001b[0mbackend\u001b[0m\u001b[0;34m.\u001b[0m\u001b[0mabort_everything\u001b[0m\u001b[0;34m(\u001b[0m\u001b[0mensure_ready\u001b[0m\u001b[0;34m=\u001b[0m\u001b[0mensure_ready\u001b[0m\u001b[0;34m)\u001b[0m\u001b[0;34m\u001b[0m\u001b[0;34m\u001b[0m\u001b[0m\n\u001b[0m\u001b[1;32m    944\u001b[0m                 \u001b[0;32mraise\u001b[0m\u001b[0;34m\u001b[0m\u001b[0;34m\u001b[0m\u001b[0m\n\u001b[1;32m    945\u001b[0m \u001b[0;34m\u001b[0m\u001b[0m\n",
      "\u001b[0;32m~/anaconda3/lib/python3.8/site-packages/joblib/_parallel_backends.py\u001b[0m in \u001b[0;36mabort_everything\u001b[0;34m(self, ensure_ready)\u001b[0m\n\u001b[1;32m    559\u001b[0m         \"\"\"Shutdown the workers and restart a new one with the same parameters\n\u001b[1;32m    560\u001b[0m         \"\"\"\n\u001b[0;32m--> 561\u001b[0;31m         \u001b[0mself\u001b[0m\u001b[0;34m.\u001b[0m\u001b[0m_workers\u001b[0m\u001b[0;34m.\u001b[0m\u001b[0mterminate\u001b[0m\u001b[0;34m(\u001b[0m\u001b[0mkill_workers\u001b[0m\u001b[0;34m=\u001b[0m\u001b[0;32mTrue\u001b[0m\u001b[0;34m)\u001b[0m\u001b[0;34m\u001b[0m\u001b[0;34m\u001b[0m\u001b[0m\n\u001b[0m\u001b[1;32m    562\u001b[0m         \u001b[0mself\u001b[0m\u001b[0;34m.\u001b[0m\u001b[0m_workers\u001b[0m \u001b[0;34m=\u001b[0m \u001b[0;32mNone\u001b[0m\u001b[0;34m\u001b[0m\u001b[0;34m\u001b[0m\u001b[0m\n\u001b[1;32m    563\u001b[0m \u001b[0;34m\u001b[0m\u001b[0m\n",
      "\u001b[0;32m~/anaconda3/lib/python3.8/site-packages/joblib/executor.py\u001b[0m in \u001b[0;36mterminate\u001b[0;34m(self, kill_workers)\u001b[0m\n\u001b[1;32m     72\u001b[0m \u001b[0;34m\u001b[0m\u001b[0m\n\u001b[1;32m     73\u001b[0m     \u001b[0;32mdef\u001b[0m \u001b[0mterminate\u001b[0m\u001b[0;34m(\u001b[0m\u001b[0mself\u001b[0m\u001b[0;34m,\u001b[0m \u001b[0mkill_workers\u001b[0m\u001b[0;34m=\u001b[0m\u001b[0;32mFalse\u001b[0m\u001b[0;34m)\u001b[0m\u001b[0;34m:\u001b[0m\u001b[0;34m\u001b[0m\u001b[0;34m\u001b[0m\u001b[0m\n\u001b[0;32m---> 74\u001b[0;31m         \u001b[0mself\u001b[0m\u001b[0;34m.\u001b[0m\u001b[0mshutdown\u001b[0m\u001b[0;34m(\u001b[0m\u001b[0mkill_workers\u001b[0m\u001b[0;34m=\u001b[0m\u001b[0mkill_workers\u001b[0m\u001b[0;34m)\u001b[0m\u001b[0;34m\u001b[0m\u001b[0;34m\u001b[0m\u001b[0m\n\u001b[0m\u001b[1;32m     75\u001b[0m         \u001b[0;32mif\u001b[0m \u001b[0mkill_workers\u001b[0m\u001b[0;34m:\u001b[0m\u001b[0;34m\u001b[0m\u001b[0;34m\u001b[0m\u001b[0m\n\u001b[1;32m     76\u001b[0m             \u001b[0;31m# When workers are killed in such a brutal manner, they cannot\u001b[0m\u001b[0;34m\u001b[0m\u001b[0;34m\u001b[0m\u001b[0;34m\u001b[0m\u001b[0m\n",
      "\u001b[0;32m~/anaconda3/lib/python3.8/site-packages/joblib/externals/loky/process_executor.py\u001b[0m in \u001b[0;36mshutdown\u001b[0;34m(self, wait, kill_workers)\u001b[0m\n\u001b[1;32m   1169\u001b[0m \u001b[0;34m\u001b[0m\u001b[0m\n\u001b[1;32m   1170\u001b[0m         \u001b[0;32mif\u001b[0m \u001b[0mexecutor_manager_thread\u001b[0m \u001b[0;32mis\u001b[0m \u001b[0;32mnot\u001b[0m \u001b[0;32mNone\u001b[0m \u001b[0;32mand\u001b[0m \u001b[0mwait\u001b[0m\u001b[0;34m:\u001b[0m\u001b[0;34m\u001b[0m\u001b[0;34m\u001b[0m\u001b[0m\n\u001b[0;32m-> 1171\u001b[0;31m             \u001b[0mexecutor_manager_thread\u001b[0m\u001b[0;34m.\u001b[0m\u001b[0mjoin\u001b[0m\u001b[0;34m(\u001b[0m\u001b[0;34m)\u001b[0m\u001b[0;34m\u001b[0m\u001b[0;34m\u001b[0m\u001b[0m\n\u001b[0m\u001b[1;32m   1172\u001b[0m \u001b[0;34m\u001b[0m\u001b[0m\n\u001b[1;32m   1173\u001b[0m         \u001b[0;31m# To reduce the risk of opening too many files, remove references to\u001b[0m\u001b[0;34m\u001b[0m\u001b[0;34m\u001b[0m\u001b[0;34m\u001b[0m\u001b[0m\n",
      "\u001b[0;32m~/anaconda3/lib/python3.8/threading.py\u001b[0m in \u001b[0;36mjoin\u001b[0;34m(self, timeout)\u001b[0m\n\u001b[1;32m   1009\u001b[0m \u001b[0;34m\u001b[0m\u001b[0m\n\u001b[1;32m   1010\u001b[0m         \u001b[0;32mif\u001b[0m \u001b[0mtimeout\u001b[0m \u001b[0;32mis\u001b[0m \u001b[0;32mNone\u001b[0m\u001b[0;34m:\u001b[0m\u001b[0;34m\u001b[0m\u001b[0;34m\u001b[0m\u001b[0m\n\u001b[0;32m-> 1011\u001b[0;31m             \u001b[0mself\u001b[0m\u001b[0;34m.\u001b[0m\u001b[0m_wait_for_tstate_lock\u001b[0m\u001b[0;34m(\u001b[0m\u001b[0;34m)\u001b[0m\u001b[0;34m\u001b[0m\u001b[0;34m\u001b[0m\u001b[0m\n\u001b[0m\u001b[1;32m   1012\u001b[0m         \u001b[0;32melse\u001b[0m\u001b[0;34m:\u001b[0m\u001b[0;34m\u001b[0m\u001b[0;34m\u001b[0m\u001b[0m\n\u001b[1;32m   1013\u001b[0m             \u001b[0;31m# the behavior of a negative timeout isn't documented, but\u001b[0m\u001b[0;34m\u001b[0m\u001b[0;34m\u001b[0m\u001b[0;34m\u001b[0m\u001b[0m\n",
      "\u001b[0;32m~/anaconda3/lib/python3.8/threading.py\u001b[0m in \u001b[0;36m_wait_for_tstate_lock\u001b[0;34m(self, block, timeout)\u001b[0m\n\u001b[1;32m   1025\u001b[0m         \u001b[0;32mif\u001b[0m \u001b[0mlock\u001b[0m \u001b[0;32mis\u001b[0m \u001b[0;32mNone\u001b[0m\u001b[0;34m:\u001b[0m  \u001b[0;31m# already determined that the C code is done\u001b[0m\u001b[0;34m\u001b[0m\u001b[0;34m\u001b[0m\u001b[0m\n\u001b[1;32m   1026\u001b[0m             \u001b[0;32massert\u001b[0m \u001b[0mself\u001b[0m\u001b[0;34m.\u001b[0m\u001b[0m_is_stopped\u001b[0m\u001b[0;34m\u001b[0m\u001b[0;34m\u001b[0m\u001b[0m\n\u001b[0;32m-> 1027\u001b[0;31m         \u001b[0;32melif\u001b[0m \u001b[0mlock\u001b[0m\u001b[0;34m.\u001b[0m\u001b[0macquire\u001b[0m\u001b[0;34m(\u001b[0m\u001b[0mblock\u001b[0m\u001b[0;34m,\u001b[0m \u001b[0mtimeout\u001b[0m\u001b[0;34m)\u001b[0m\u001b[0;34m:\u001b[0m\u001b[0;34m\u001b[0m\u001b[0;34m\u001b[0m\u001b[0m\n\u001b[0m\u001b[1;32m   1028\u001b[0m             \u001b[0mlock\u001b[0m\u001b[0;34m.\u001b[0m\u001b[0mrelease\u001b[0m\u001b[0;34m(\u001b[0m\u001b[0;34m)\u001b[0m\u001b[0;34m\u001b[0m\u001b[0;34m\u001b[0m\u001b[0m\n\u001b[1;32m   1029\u001b[0m             \u001b[0mself\u001b[0m\u001b[0;34m.\u001b[0m\u001b[0m_stop\u001b[0m\u001b[0;34m(\u001b[0m\u001b[0;34m)\u001b[0m\u001b[0;34m\u001b[0m\u001b[0;34m\u001b[0m\u001b[0m\n",
      "\u001b[0;31mKeyboardInterrupt\u001b[0m: "
     ]
    }
   ],
   "source": [
    "svc_clf_final = pipeline_fit(\n",
    "                                X_train=X_train,\n",
    "                                y_train=y_train,\n",
    "                                pipeline=\"SVC\", \n",
    "                                search_method=\"randomsearch\", \n",
    "                                n_iter=3,\n",
    "                                cv=3,\n",
    "                                verbose_searchcv=2, \n",
    "                                n_jobs=-1, \n",
    "                                save_name=None\n",
    "                            )"
   ]
  },
  {
   "cell_type": "markdown",
   "metadata": {},
   "source": [
    "### Evaluation"
   ]
  },
  {
   "cell_type": "code",
   "execution_count": null,
   "metadata": {},
   "outputs": [],
   "source": [
    "y_pred_svc = svc_clf_final.predict(X_test)\n",
    "y_score_svc = svc_clf_final.decision_function(X_test)"
   ]
  },
  {
   "cell_type": "code",
   "execution_count": null,
   "metadata": {},
   "outputs": [],
   "source": [
    "print(\"Accuracy Score on Test Set:\")\n",
    "print(accuracy_score(y_test, y_pred_svc))\n",
    "\n",
    "# np.set_printoptions(precision=2)\n",
    "\n",
    "# Plot confusion matrix\n",
    "plot_confusion_matrix(y_test, y_pred_svc, classes=svc_clf_final.classes_)\n",
    "\n",
    "# Plot ROC curve (requires onehot targets)\n",
    "plot_roc_curve(y_test_onehot, y_score_svc, classes=svc_clf_final.classes_, roc_multilabel_count=2)"
   ]
  },
  {
   "cell_type": "markdown",
   "metadata": {},
   "source": [
    "# Random Forest Classifier"
   ]
  },
  {
   "cell_type": "code",
   "execution_count": 39,
   "metadata": {},
   "outputs": [
    {
     "name": "stdout",
     "output_type": "stream",
     "text": [
      "Pipeline(steps=[('text_preprocessor',\n",
      "                 ColumnTransformer(transformers=[('text_transformer',\n",
      "                                                  Pipeline(steps=[('text_to_numpy',\n",
      "                                                                   Text_to_numpy()),\n",
      "                                                                  ('tfidf_vectorizer',\n",
      "                                                                   TfidfVectorizer())]),\n",
      "                                                  ['text'])])),\n",
      "                ('rf_classifier', RandomForestClassifier())])\n",
      "\n"
     ]
    }
   ],
   "source": [
    "# Linear support Vector Classification using one-vs-rest classification for multiclass learning\n",
    "rf_clf = RandomForestClassifier(verbose=0)\n",
    "rf_clf_fullpipe = Pipeline(steps=[\n",
    "    (\"text_preprocessor\", text_preprocessor),\n",
    "    (\"rf_classifier\", rf_clf)\n",
    "])\n",
    "\n",
    "print(rf_clf_fullpipe)\n",
    "print(\"\")"
   ]
  },
  {
   "cell_type": "code",
   "execution_count": 40,
   "metadata": {},
   "outputs": [],
   "source": [
    "# Specify hyperparameter grids for optimization\n",
    "\n",
    "max_depth = [int(x) for x in np.linspace(10,110,11)]\n",
    "max_depth.append(None)\n",
    "\n",
    "gamma = [x for x in np.logspace(-15,3,base=2,num=7)]\n",
    "gamma.append(\"scale\")\n",
    "gamma.append(\"auto\")\n",
    "\n",
    "rf_param_grid = {\n",
    "    \"rf_classifier__n_estimators\": [int(x) for x in np.linspace(50,500,11)],\n",
    "    \"rf_classifier__max_depth\": max_depth,\n",
    "    \"rf_classifier__max_features\": [\"auto\"],\n",
    "    \"rf_classifier__min_samples_split\": [2, 10, 100],\n",
    "    \"rf_classifier__min_samples_leaf\": [1, 2, 4, 10],\n",
    "    }\n",
    "\n",
    "\n",
    "rf_param_grid.update(text_param_grid)"
   ]
  },
  {
   "cell_type": "code",
   "execution_count": 41,
   "metadata": {},
   "outputs": [],
   "source": [
    "# Dictionary of pipelines and classifier types for ease of reference\n",
    "pipe_dict = {\n",
    "    \"RandomForest\": (rf_clf_fullpipe, rf_param_grid),\n",
    "}"
   ]
  },
  {
   "cell_type": "markdown",
   "metadata": {},
   "source": [
    "### Train the random forest pipeline model"
   ]
  },
  {
   "cell_type": "code",
   "execution_count": 42,
   "metadata": {},
   "outputs": [
    {
     "name": "stdin",
     "output_type": "stream",
     "text": [
      "A joblib model file already exists with that name, \n",
      "do you wish to retrain the model? (Y/N) y\n"
     ]
    },
    {
     "name": "stdout",
     "output_type": "stream",
     "text": [
      "Pipeline(steps=[('text_preprocessor',\n",
      "                 ColumnTransformer(transformers=[('text_transformer',\n",
      "                                                  Pipeline(steps=[('text_to_numpy',\n",
      "                                                                   Text_to_numpy()),\n",
      "                                                                  ('tfidf_vectorizer',\n",
      "                                                                   TfidfVectorizer())]),\n",
      "                                                  ['text'])])),\n",
      "                ('rf_classifier', RandomForestClassifier())])\n",
      "Param Grid: {'rf_classifier__n_estimators': [50, 95, 140, 185, 230, 275, 320, 365, 410, 455, 500], 'rf_classifier__max_depth': [10, 20, 30, 40, 50, 60, 70, 80, 90, 100, 110, None], 'rf_classifier__max_features': ['auto'], 'rf_classifier__min_samples_split': [2, 10, 100], 'rf_classifier__min_samples_leaf': [1, 2, 4, 10], 'text_preprocessor__text_transformer__tfidf_vectorizer__max_features': (1000, 5000, 15000), 'text_preprocessor__text_transformer__tfidf_vectorizer__binary': [True], 'text_preprocessor__text_transformer__tfidf_vectorizer__token_pattern': [\"(?u)\\\\b\\\\w\\\\w+\\\\b|\\\\'\"], 'text_preprocessor__text_transformer__tfidf_vectorizer__ngram_range': [(1, 2)]}\n",
      "\n",
      "Training RandomForest on 2005 samples...\n",
      "Shape of inputs: (2005, 1)\n",
      "                                                                                                                                                                                                                                                                                                                                                                      text\n",
      "1613  salaam smeasim another iraqi known years 55 candidate largest shiite opposition party iraqi national alliance salaam wears veil coalition includes many sadrists relations iran                                                                                                                                                                                     \n",
      "2772  violence continued roil capital tuesday high-ranking official interior ministry narrowly escaped assassination attempt gunmen fired car killing one bodyguards wounding three ministry officials said                                                                                                                                                               \n",
      "1032  suddenness french proposal left nations security council struggling ways respond keeping options open                                                                                                                                                                                                                                                               \n",
      "2806  colliding priorities oversight spending left american iraqi officials quandary work behind scenes so-called compact iraq centerpiece american embassy effort create economic political milestones nation promises meet exchange pledges foreign investment support                                                                                                  \n",
      "2702  president bush traveling kuwait bahrain saturday praised vote calling important step toward reconciliation said consolidate progress country past year prepared slow even halt american troop reductions beyond already planned bring levels back so-called troop surge began early 2006 set stage renewed political debate war congress presidential campaign trail\n",
      "Shape of outputs: (2005,)\n",
      "1613    0\n",
      "2772    1\n",
      "1032    0\n",
      "2806    1\n",
      "2702    1\n",
      "Name: coding, dtype: int64\n",
      "\n",
      "Fitting 5 folds for each of 30 candidates, totalling 150 fits\n"
     ]
    },
    {
     "name": "stderr",
     "output_type": "stream",
     "text": [
      "[Parallel(n_jobs=6)]: Using backend LokyBackend with 6 concurrent workers.\n",
      "[Parallel(n_jobs=6)]: Done  29 tasks      | elapsed:    5.0s\n",
      "[Parallel(n_jobs=6)]: Done 150 out of 150 | elapsed:   19.3s finished\n"
     ]
    },
    {
     "name": "stdout",
     "output_type": "stream",
     "text": [
      "\n",
      "RandomForest:\n",
      "Best Score:  0.767082294264339\n",
      "Best Params:  {'text_preprocessor__text_transformer__tfidf_vectorizer__token_pattern': \"(?u)\\\\b\\\\w\\\\w+\\\\b|\\\\'\", 'text_preprocessor__text_transformer__tfidf_vectorizer__ngram_range': (1, 2), 'text_preprocessor__text_transformer__tfidf_vectorizer__max_features': 15000, 'text_preprocessor__text_transformer__tfidf_vectorizer__binary': True, 'rf_classifier__n_estimators': 95, 'rf_classifier__min_samples_split': 10, 'rf_classifier__min_samples_leaf': 10, 'rf_classifier__max_features': 'auto', 'rf_classifier__max_depth': 100}\n"
     ]
    }
   ],
   "source": [
    "rf_clf_final = pipeline_fit(\n",
    "                                X_train=X_train,\n",
    "                                y_train=y_train,\n",
    "                                pipeline=\"RandomForest\", \n",
    "                                search_method=\"randomsearch\", \n",
    "                                n_iter=30,\n",
    "                                verbose_searchcv=2, \n",
    "                                n_jobs=6, \n",
    "                                save_name=\"News_test\"\n",
    "                            )"
   ]
  },
  {
   "cell_type": "markdown",
   "metadata": {},
   "source": [
    "### Evaluation"
   ]
  },
  {
   "cell_type": "code",
   "execution_count": 43,
   "metadata": {},
   "outputs": [],
   "source": [
    "y_pred_rf = rf_clf_final.predict(X_test)\n",
    "y_score_rf = rf_clf_final.predict_proba(X_test)\n",
    "# print(y_score_rf)"
   ]
  },
  {
   "cell_type": "code",
   "execution_count": 44,
   "metadata": {},
   "outputs": [
    {
     "name": "stdout",
     "output_type": "stream",
     "text": [
      "Accuracy Score on Test Set:\n",
      "0.7848837209302325\n"
     ]
    },
    {
     "data": {
      "image/png": "[encoded data removed]",
      "text/plain": [
       "<Figure size 576x576 with 2 Axes>"
      ]
     },
     "metadata": {
      "needs_background": "light"
     },
     "output_type": "display_data"
    },
    {
     "data": {
      "image/png": "[encoded data removed]",
      "text/plain": [
       "<Figure size 576x576 with 1 Axes>"
      ]
     },
     "metadata": {
      "needs_background": "light"
     },
     "output_type": "display_data"
    }
   ],
   "source": [
    "print(\"Accuracy Score on Test Set:\")\n",
    "# Inverse transform onehot labels using labelbinarizer\n",
    "print(accuracy_score(y_test, y_pred_rf))\n",
    "\n",
    "# np.set_printoptions(precision=2)\n",
    "# print(linear_svc_clf_final.classes_)\n",
    "# Plot confusion matrix\n",
    "plot_confusion_matrix(y_test, y_pred_rf, classes=rf_clf_final.classes_)\n",
    "\n",
    "# Plot ROC curve (requires onehot targets)\n",
    "plot_roc_curve(y_test, y_score_rf, classes=rf_clf_final.classes_, roc_multilabel_count=2)"
   ]
  },
  {
   "cell_type": "markdown",
   "metadata": {},
   "source": [
    "# Gradient Boosting Classifiers"
   ]
  },
  {
   "cell_type": "markdown",
   "metadata": {},
   "source": [
    "## Sklearn Gradient Boosting"
   ]
  },
  {
   "cell_type": "code",
   "execution_count": 45,
   "metadata": {},
   "outputs": [
    {
     "name": "stdout",
     "output_type": "stream",
     "text": [
      "Pipeline(steps=[('text_preprocessor',\n",
      "                 ColumnTransformer(transformers=[('text_transformer',\n",
      "                                                  Pipeline(steps=[('text_to_numpy',\n",
      "                                                                   Text_to_numpy()),\n",
      "                                                                  ('tfidf_vectorizer',\n",
      "                                                                   TfidfVectorizer())]),\n",
      "                                                  ['text'])])),\n",
      "                ('gb_classifier', GradientBoostingClassifier())])\n",
      "\n"
     ]
    }
   ],
   "source": [
    "# Linear support Vector Classification using one-vs-rest classification for multiclass learning\n",
    "gb_clf = GradientBoostingClassifier(verbose=0)\n",
    "gb_clf_fullpipe = Pipeline(steps=[\n",
    "    (\"text_preprocessor\", text_preprocessor),\n",
    "    (\"gb_classifier\", gb_clf)\n",
    "])\n",
    "print(gb_clf_fullpipe)\n",
    "print(\"\")"
   ]
  },
  {
   "cell_type": "code",
   "execution_count": 46,
   "metadata": {},
   "outputs": [],
   "source": [
    "# Specify hyperparameter grids for optimization\n",
    "\n",
    "max_depth = [int(x) for x in np.linspace(10,110,11)]\n",
    "max_depth.append(None)\n",
    "\n",
    "gb_param_grid = {\n",
    "    \"gb_classifier__n_estimators\": [int(x) for x in np.linspace(50,500,11)],\n",
    "    \"gb_classifier__max_depth\": max_depth\n",
    "    }\n",
    "\n",
    "gb_param_grid.update(text_param_grid)"
   ]
  },
  {
   "cell_type": "code",
   "execution_count": 47,
   "metadata": {},
   "outputs": [],
   "source": [
    "# Dictionary of pipelines and classifier types for ease of reference\n",
    "pipe_dict = {\n",
    "    \"GradientBoost\": (gb_clf_fullpipe, gb_param_grid),\n",
    "}"
   ]
  },
  {
   "cell_type": "markdown",
   "metadata": {},
   "source": [
    "### Train the gradient boosting pipeline model"
   ]
  },
  {
   "cell_type": "code",
   "execution_count": 48,
   "metadata": {},
   "outputs": [
    {
     "name": "stdin",
     "output_type": "stream",
     "text": [
      "A joblib model file already exists with that name, \n",
      "do you wish to retrain the model? (Y/N) y\n"
     ]
    },
    {
     "name": "stdout",
     "output_type": "stream",
     "text": [
      "Pipeline(steps=[('text_preprocessor',\n",
      "                 ColumnTransformer(transformers=[('text_transformer',\n",
      "                                                  Pipeline(steps=[('text_to_numpy',\n",
      "                                                                   Text_to_numpy()),\n",
      "                                                                  ('tfidf_vectorizer',\n",
      "                                                                   TfidfVectorizer())]),\n",
      "                                                  ['text'])])),\n",
      "                ('gb_classifier', GradientBoostingClassifier())])\n",
      "Param Grid: {'gb_classifier__n_estimators': [50, 95, 140, 185, 230, 275, 320, 365, 410, 455, 500], 'gb_classifier__max_depth': [10, 20, 30, 40, 50, 60, 70, 80, 90, 100, 110, None], 'text_preprocessor__text_transformer__tfidf_vectorizer__max_features': (1000, 5000, 15000), 'text_preprocessor__text_transformer__tfidf_vectorizer__binary': [True], 'text_preprocessor__text_transformer__tfidf_vectorizer__token_pattern': [\"(?u)\\\\b\\\\w\\\\w+\\\\b|\\\\'\"], 'text_preprocessor__text_transformer__tfidf_vectorizer__ngram_range': [(1, 2)]}\n",
      "\n",
      "Training GradientBoost on 2005 samples...\n",
      "Shape of inputs: (2005, 1)\n",
      "                                                                                                                                                                                                                                                                                                                                                                      text\n",
      "1613  salaam smeasim another iraqi known years 55 candidate largest shiite opposition party iraqi national alliance salaam wears veil coalition includes many sadrists relations iran                                                                                                                                                                                     \n",
      "2772  violence continued roil capital tuesday high-ranking official interior ministry narrowly escaped assassination attempt gunmen fired car killing one bodyguards wounding three ministry officials said                                                                                                                                                               \n",
      "1032  suddenness french proposal left nations security council struggling ways respond keeping options open                                                                                                                                                                                                                                                               \n",
      "2806  colliding priorities oversight spending left american iraqi officials quandary work behind scenes so-called compact iraq centerpiece american embassy effort create economic political milestones nation promises meet exchange pledges foreign investment support                                                                                                  \n",
      "2702  president bush traveling kuwait bahrain saturday praised vote calling important step toward reconciliation said consolidate progress country past year prepared slow even halt american troop reductions beyond already planned bring levels back so-called troop surge began early 2006 set stage renewed political debate war congress presidential campaign trail\n",
      "Shape of outputs: (2005,)\n",
      "1613    0\n",
      "2772    1\n",
      "1032    0\n",
      "2806    1\n",
      "2702    1\n",
      "Name: coding, dtype: int64\n",
      "\n",
      "Fitting 5 folds for each of 5 candidates, totalling 25 fits\n"
     ]
    },
    {
     "name": "stderr",
     "output_type": "stream",
     "text": [
      "[Parallel(n_jobs=10)]: Using backend LokyBackend with 10 concurrent workers.\n",
      "[Parallel(n_jobs=10)]: Done  19 out of  25 | elapsed:  1.8min remaining:   33.1s\n",
      "[Parallel(n_jobs=10)]: Done  25 out of  25 | elapsed:  3.7min finished\n"
     ]
    },
    {
     "name": "stdout",
     "output_type": "stream",
     "text": [
      "\n",
      "GradientBoost:\n",
      "Best Score:  0.7386533665835413\n",
      "Best Params:  {'text_preprocessor__text_transformer__tfidf_vectorizer__token_pattern': \"(?u)\\\\b\\\\w\\\\w+\\\\b|\\\\'\", 'text_preprocessor__text_transformer__tfidf_vectorizer__ngram_range': (1, 2), 'text_preprocessor__text_transformer__tfidf_vectorizer__max_features': 1000, 'text_preprocessor__text_transformer__tfidf_vectorizer__binary': True, 'gb_classifier__n_estimators': 185, 'gb_classifier__max_depth': 50}\n"
     ]
    }
   ],
   "source": [
    "gb_clf_final = pipeline_fit(\n",
    "                                X_train=X_train,\n",
    "                                y_train=y_train,\n",
    "                                pipeline=\"GradientBoost\", \n",
    "                                search_method=\"randomsearch\", \n",
    "                                n_iter=5,\n",
    "                                verbose_searchcv=2, \n",
    "                                n_jobs=10, \n",
    "                                save_name=\"News_test\"\n",
    "                            )"
   ]
  },
  {
   "cell_type": "markdown",
   "metadata": {},
   "source": [
    "### Evaluation"
   ]
  },
  {
   "cell_type": "code",
   "execution_count": 49,
   "metadata": {},
   "outputs": [],
   "source": [
    "y_pred_gb = gb_clf_final.predict(X_test)\n",
    "y_score_gb = gb_clf_final.decision_function(X_test)"
   ]
  },
  {
   "cell_type": "code",
   "execution_count": 50,
   "metadata": {},
   "outputs": [
    {
     "name": "stdout",
     "output_type": "stream",
     "text": [
      "Accuracy Score on Test Set:\n",
      "0.7453488372093023\n"
     ]
    },
    {
     "data": {
      "image/png": "[encoded data removed]",
      "text/plain": [
       "<Figure size 576x576 with 2 Axes>"
      ]
     },
     "metadata": {
      "needs_background": "light"
     },
     "output_type": "display_data"
    },
    {
     "data": {
      "image/png": "[encoded data removed]",
      "text/plain": [
       "<Figure size 576x576 with 1 Axes>"
      ]
     },
     "metadata": {
      "needs_background": "light"
     },
     "output_type": "display_data"
    }
   ],
   "source": [
    "print(\"Accuracy Score on Test Set:\")\n",
    "# Inverse transform onehot labels using labelbinarizer\n",
    "print(accuracy_score(y_test, y_pred_gb))\n",
    "\n",
    "# np.set_printoptions(precision=2)\n",
    "# print(linear_svc_clf_final.classes_)\n",
    "# Plot confusion matrix\n",
    "plot_confusion_matrix(y_test, y_pred_gb, classes=gb_clf_final.classes_)\n",
    "\n",
    "# Plot ROC curve (requires onehot targets)\n",
    "plot_roc_curve(y_test, y_score_gb, classes=gb_clf_final.classes_, roc_multilabel_count=2)"
   ]
  },
  {
   "cell_type": "markdown",
   "metadata": {},
   "source": [
    "## XGBoost Classifier"
   ]
  },
  {
   "cell_type": "code",
   "execution_count": 51,
   "metadata": {},
   "outputs": [
    {
     "name": "stdout",
     "output_type": "stream",
     "text": [
      "Pipeline(steps=[('text_preprocessor',\n",
      "                 ColumnTransformer(transformers=[('text_transformer',\n",
      "                                                  Pipeline(steps=[('text_to_numpy',\n",
      "                                                                   Text_to_numpy()),\n",
      "                                                                  ('tfidf_vectorizer',\n",
      "                                                                   TfidfVectorizer())]),\n",
      "                                                  ['text'])])),\n",
      "                ('xgb_classifier',\n",
      "                 XGBClassifier(base_score=None, booster=None,\n",
      "                               colsample_bylevel=None, colsample_bynode=None,\n",
      "                               colsample_bytree=None, gamma=None, gpu_id=None,\n",
      "                               import...e='gain',\n",
      "                               interaction_constraints=None, learning_rate=None,\n",
      "                               max_delta_step=None, max_depth=None,\n",
      "                               min_child_weight=None, missing=nan,\n",
      "                               monotone_constraints=None, n_estimators=100,\n",
      "                               n_jobs=None, num_parallel_tree=None,\n",
      "                               random_state=None, reg_alpha=None,\n",
      "                               reg_lambda=None, scale_pos_weight=None,\n",
      "                               subsample=None, tree_method=None,\n",
      "                               validate_parameters=None, verbosity=None))])\n",
      "\n"
     ]
    }
   ],
   "source": [
    "# Linear support Vector Classification using one-vs-rest classification for multiclass learning\n",
    "xgb_clf = XGBClassifier()\n",
    "xgb_clf_fullpipe = Pipeline(steps=[\n",
    "    (\"text_preprocessor\", text_preprocessor),\n",
    "    (\"xgb_classifier\", xgb_clf)\n",
    "])\n",
    "print(xgb_clf_fullpipe)\n",
    "print(\"\")"
   ]
  },
  {
   "cell_type": "code",
   "execution_count": 52,
   "metadata": {},
   "outputs": [],
   "source": [
    "# Specify hyperparameter grids for optimization\n",
    "max_depth = [int(x) for x in np.linspace(10,110,11)]\n",
    "max_depth.append(None)\n",
    "\n",
    "xgb_param_grid = {\n",
    "    \"xgb_classifier__n_estimators\": [int(x) for x in np.linspace(50,550,11)],\n",
    "    \"xgb_classifier__max_depth\": max_depth,  \n",
    "    }\n",
    "\n",
    "xgb_param_grid.update(text_param_grid)"
   ]
  },
  {
   "cell_type": "code",
   "execution_count": 53,
   "metadata": {},
   "outputs": [],
   "source": [
    "# Dictionary of pipelines and classifier types for ease of reference\n",
    "pipe_dict = {\n",
    "    \"XGBoost\": (xgb_clf_fullpipe, xgb_param_grid),\n",
    "}"
   ]
  },
  {
   "cell_type": "markdown",
   "metadata": {},
   "source": [
    "### Train the gradient boosting pipeline model"
   ]
  },
  {
   "cell_type": "code",
   "execution_count": 54,
   "metadata": {},
   "outputs": [
    {
     "name": "stdin",
     "output_type": "stream",
     "text": [
      "A joblib model file already exists with that name, \n",
      "do you wish to retrain the model? (Y/N) y\n"
     ]
    },
    {
     "name": "stdout",
     "output_type": "stream",
     "text": [
      "Pipeline(steps=[('text_preprocessor',\n",
      "                 ColumnTransformer(transformers=[('text_transformer',\n",
      "                                                  Pipeline(steps=[('text_to_numpy',\n",
      "                                                                   Text_to_numpy()),\n",
      "                                                                  ('tfidf_vectorizer',\n",
      "                                                                   TfidfVectorizer())]),\n",
      "                                                  ['text'])])),\n",
      "                ('xgb_classifier',\n",
      "                 XGBClassifier(base_score=None, booster=None,\n",
      "                               colsample_bylevel=None, colsample_bynode=None,\n",
      "                               colsample_bytree=None, gamma=None, gpu_id=None,\n",
      "                               import...e='gain',\n",
      "                               interaction_constraints=None, learning_rate=None,\n",
      "                               max_delta_step=None, max_depth=None,\n",
      "                               min_child_weight=None, missing=nan,\n",
      "                               monotone_constraints=None, n_estimators=100,\n",
      "                               n_jobs=None, num_parallel_tree=None,\n",
      "                               random_state=None, reg_alpha=None,\n",
      "                               reg_lambda=None, scale_pos_weight=None,\n",
      "                               subsample=None, tree_method=None,\n",
      "                               validate_parameters=None, verbosity=None))])\n",
      "Param Grid: {'xgb_classifier__n_estimators': [50, 100, 150, 200, 250, 300, 350, 400, 450, 500, 550], 'xgb_classifier__max_depth': [10, 20, 30, 40, 50, 60, 70, 80, 90, 100, 110, None], 'text_preprocessor__text_transformer__tfidf_vectorizer__max_features': (1000, 5000, 15000), 'text_preprocessor__text_transformer__tfidf_vectorizer__binary': [True], 'text_preprocessor__text_transformer__tfidf_vectorizer__token_pattern': [\"(?u)\\\\b\\\\w\\\\w+\\\\b|\\\\'\"], 'text_preprocessor__text_transformer__tfidf_vectorizer__ngram_range': [(1, 2)]}\n",
      "\n",
      "Training XGBoost on 2005 samples...\n",
      "Shape of inputs: (2005, 1)\n",
      "                                                                                                                                                                                                                                                                                                                                                                      text\n",
      "1613  salaam smeasim another iraqi known years 55 candidate largest shiite opposition party iraqi national alliance salaam wears veil coalition includes many sadrists relations iran                                                                                                                                                                                     \n",
      "2772  violence continued roil capital tuesday high-ranking official interior ministry narrowly escaped assassination attempt gunmen fired car killing one bodyguards wounding three ministry officials said                                                                                                                                                               \n",
      "1032  suddenness french proposal left nations security council struggling ways respond keeping options open                                                                                                                                                                                                                                                               \n",
      "2806  colliding priorities oversight spending left american iraqi officials quandary work behind scenes so-called compact iraq centerpiece american embassy effort create economic political milestones nation promises meet exchange pledges foreign investment support                                                                                                  \n",
      "2702  president bush traveling kuwait bahrain saturday praised vote calling important step toward reconciliation said consolidate progress country past year prepared slow even halt american troop reductions beyond already planned bring levels back so-called troop surge began early 2006 set stage renewed political debate war congress presidential campaign trail\n",
      "Shape of outputs: (2005,)\n",
      "1613    0\n",
      "2772    1\n",
      "1032    0\n",
      "2806    1\n",
      "2702    1\n",
      "Name: coding, dtype: int64\n",
      "\n",
      "Fitting 5 folds for each of 5 candidates, totalling 25 fits\n"
     ]
    },
    {
     "name": "stderr",
     "output_type": "stream",
     "text": [
      "[Parallel(n_jobs=10)]: Using backend LokyBackend with 10 concurrent workers.\n",
      "[Parallel(n_jobs=10)]: Done  19 out of  25 | elapsed:   20.0s remaining:    6.3s\n",
      "[Parallel(n_jobs=10)]: Done  25 out of  25 | elapsed:   25.3s finished\n",
      "D:\\Users\\Michael\\anaconda3\\envs\\ml_nlp\\lib\\site-packages\\xgboost\\sklearn.py:892: UserWarning: The use of label encoder in XGBClassifier is deprecated and will be removed in a future release. To remove this warning, do the following: 1) Pass option use_label_encoder=False when constructing XGBClassifier object; and 2) Encode your labels (y) as integers starting with 0, i.e. 0, 1, 2, ..., [num_class - 1].\n",
      "  warnings.warn(label_encoder_deprecation_msg, UserWarning)\n"
     ]
    },
    {
     "name": "stdout",
     "output_type": "stream",
     "text": [
      "[18:56:30] WARNING: C:/Users/Administrator/workspace/xgboost-win64_release_1.3.0/src/learner.cc:1061: Starting in XGBoost 1.3.0, the default evaluation metric used with the objective 'binary:logistic' was changed from 'error' to 'logloss'. Explicitly set eval_metric if you'd like to restore the old behavior.\n",
      "\n",
      "XGBoost:\n",
      "Best Score:  0.7326683291770574\n",
      "Best Params:  {'xgb_classifier__n_estimators': 50, 'xgb_classifier__max_depth': 90, 'text_preprocessor__text_transformer__tfidf_vectorizer__token_pattern': \"(?u)\\\\b\\\\w\\\\w+\\\\b|\\\\'\", 'text_preprocessor__text_transformer__tfidf_vectorizer__ngram_range': (1, 2), 'text_preprocessor__text_transformer__tfidf_vectorizer__max_features': 5000, 'text_preprocessor__text_transformer__tfidf_vectorizer__binary': True}\n"
     ]
    }
   ],
   "source": [
    "xgb_clf_final = pipeline_fit(\n",
    "                                X_train=X_train,\n",
    "                                y_train=y_train,\n",
    "                                pipeline=\"XGBoost\", \n",
    "                                search_method=\"randomsearch\", \n",
    "                                n_iter=5,\n",
    "                                verbose_searchcv=2, \n",
    "                                n_jobs=10, \n",
    "                                save_name=\"Text_test\"\n",
    "                            )"
   ]
  },
  {
   "cell_type": "markdown",
   "metadata": {},
   "source": [
    "### Evaluation"
   ]
  },
  {
   "cell_type": "code",
   "execution_count": 55,
   "metadata": {},
   "outputs": [],
   "source": [
    "y_pred_xgb = xgb_clf_final.predict(X_test)\n",
    "y_score_xgb = xgb_clf_final.predict_proba(X_test)"
   ]
  },
  {
   "cell_type": "code",
   "execution_count": 56,
   "metadata": {},
   "outputs": [
    {
     "name": "stdout",
     "output_type": "stream",
     "text": [
      "Accuracy Score on Test Set:\n",
      "0.7430232558139535\n"
     ]
    },
    {
     "data": {
      "image/png": "[encoded data removed]",
      "text/plain": [
       "<Figure size 576x576 with 2 Axes>"
      ]
     },
     "metadata": {
      "needs_background": "light"
     },
     "output_type": "display_data"
    },
    {
     "data": {
      "image/png": "[encoded data removed]",
      "text/plain": [
       "<Figure size 576x576 with 1 Axes>"
      ]
     },
     "metadata": {
      "needs_background": "light"
     },
     "output_type": "display_data"
    }
   ],
   "source": [
    "print(\"Accuracy Score on Test Set:\")\n",
    "# Inverse transform onehot labels using labelbinarizer\n",
    "print(accuracy_score(y_test, y_pred_xgb))\n",
    "\n",
    "# np.set_printoptions(precision=2)\n",
    "# print(linear_svc_clf_final.classes_)\n",
    "# Plot confusion matrix\n",
    "plot_confusion_matrix(y_test, y_pred_xgb, classes=xgb_clf_final.classes_)\n",
    "\n",
    "# Plot ROC curve (requires onehot targets)\n",
    "plot_roc_curve(y_test, y_score_xgb, classes=xgb_clf_final.classes_, roc_multilabel_count=2)"
   ]
  },
  {
   "cell_type": "markdown",
   "metadata": {},
   "source": [
    "## LightGBM Classifier"
   ]
  },
  {
   "cell_type": "code",
   "execution_count": 20,
   "metadata": {},
   "outputs": [
    {
     "name": "stdout",
     "output_type": "stream",
     "text": [
      "Pipeline(steps=[('text_preprocessor',\n",
      "                 ColumnTransformer(transformers=[('text_transformer',\n",
      "                                                  Pipeline(steps=[('text_to_numpy',\n",
      "                                                                   Text_to_numpy()),\n",
      "                                                                  ('tfidf_vectorizer',\n",
      "                                                                   TfidfVectorizer())]),\n",
      "                                                  ['text'])])),\n",
      "                ('lgbm_classifier',\n",
      "                 XGBClassifier(base_score=None, booster=None,\n",
      "                               colsample_bylevel=None, colsample_bynode=None,\n",
      "                               colsample_bytree=None, gamma=None, gpu_id=None,\n",
      "                               impor...e='gain',\n",
      "                               interaction_constraints=None, learning_rate=None,\n",
      "                               max_delta_step=None, max_depth=None,\n",
      "                               min_child_weight=None, missing=nan,\n",
      "                               monotone_constraints=None, n_estimators=100,\n",
      "                               n_jobs=None, num_parallel_tree=None,\n",
      "                               random_state=None, reg_alpha=None,\n",
      "                               reg_lambda=None, scale_pos_weight=None,\n",
      "                               subsample=None, tree_method=None,\n",
      "                               validate_parameters=None, verbosity=None))])\n",
      "\n"
     ]
    }
   ],
   "source": [
    "# Linear support Vector Classification using one-vs-rest classification for multiclass learning\n",
    "lgbm_clf = XGBClassifier()\n",
    "lgbm_clf_fullpipe = Pipeline(steps=[\n",
    "    (\"text_preprocessor\", text_preprocessor),\n",
    "    (\"lgbm_classifier\", lgbm_clf)\n",
    "])\n",
    "print(lgbm_clf_fullpipe)\n",
    "print(\"\")"
   ]
  },
  {
   "cell_type": "code",
   "execution_count": 22,
   "metadata": {},
   "outputs": [],
   "source": [
    "# Specify hyperparameter grids for optimization\n",
    "\n",
    "max_depth = [int(x) for x in np.linspace(10,110,11)]\n",
    "max_depth.append(None)\n",
    "\n",
    "lgbm_param_grid = {\n",
    "    \"lgbm_classifier__n_estimators\": [int(x) for x in np.linspace(50,550,11)],\n",
    "    \"lgbm_classifier__max_depth\": max_depth,\n",
    "    }\n",
    "\n",
    "lgbm_param_grid.update(text_param_grid)"
   ]
  },
  {
   "cell_type": "code",
   "execution_count": 23,
   "metadata": {},
   "outputs": [],
   "source": [
    "# Dictionary of pipelines and classifier types for ease of reference\n",
    "pipe_dict = {\n",
    "    \"LightGBM\": (lgbm_clf_fullpipe, lgbm_param_grid),\n",
    "}"
   ]
  },
  {
   "cell_type": "markdown",
   "metadata": {},
   "source": [
    "### Train the gradient boosting pipeline model"
   ]
  },
  {
   "cell_type": "code",
   "execution_count": 24,
   "metadata": {},
   "outputs": [
    {
     "name": "stdout",
     "output_type": "stream",
     "text": [
      "Pipeline(steps=[('text_preprocessor',\n",
      "                 ColumnTransformer(transformers=[('text_transformer',\n",
      "                                                  Pipeline(steps=[('text_to_numpy',\n",
      "                                                                   Text_to_numpy()),\n",
      "                                                                  ('tfidf_vectorizer',\n",
      "                                                                   TfidfVectorizer())]),\n",
      "                                                  ['text'])])),\n",
      "                ('lgbm_classifier',\n",
      "                 XGBClassifier(base_score=None, booster=None,\n",
      "                               colsample_bylevel=None, colsample_bynode=None,\n",
      "                               colsample_bytree=None, gamma=None, gpu_id=None,\n",
      "                               impor...e='gain',\n",
      "                               interaction_constraints=None, learning_rate=None,\n",
      "                               max_delta_step=None, max_depth=None,\n",
      "                               min_child_weight=None, missing=nan,\n",
      "                               monotone_constraints=None, n_estimators=100,\n",
      "                               n_jobs=None, num_parallel_tree=None,\n",
      "                               random_state=None, reg_alpha=None,\n",
      "                               reg_lambda=None, scale_pos_weight=None,\n",
      "                               subsample=None, tree_method=None,\n",
      "                               validate_parameters=None, verbosity=None))])\n",
      "Param Grid: {'lgbm_classifier__n_estimators': [50, 100, 150, 200, 250, 300, 350, 400, 450, 500, 550], 'lgbm_classifier__max_depth': [10, 20, 30, 40, 50, 60, 70, 80, 90, 100, 110, None], 'text_preprocessor__text_transformer__tfidf_vectorizer__max_features': (1000, 5000, 15000), 'text_preprocessor__text_transformer__tfidf_vectorizer__binary': [True], 'text_preprocessor__text_transformer__tfidf_vectorizer__token_pattern': [\"(?u)\\\\b\\\\w\\\\w+\\\\b|\\\\'\"], 'text_preprocessor__text_transformer__tfidf_vectorizer__ngram_range': [(1, 2)]}\n",
      "\n",
      "Training LightGBM on 2005 samples...\n",
      "Shape of inputs: (2005, 1)\n",
      "                                                                                                                                                                                                                                                                                                                                                                             text\n",
      "1613  salaam smeasim another iraqi known years 55 candidate largest shiite opposition party iraqi national alliance salaam wears veil coalition includes many sadrists relations iran                                                                                                                                                                                            \n",
      "2772  violence continued roil capital tuesday high-ranking official interior ministry narrowly escaped assassination attempt gunmen fired car killing one bodyguards wounding three ministry officials said                                                                                                                                                                      \n",
      "1032  suddenness french proposal left nations security council struggling ways respond keeping options open                                                                                                                                                                                                                                                                      \n",
      "2806  colliding priorities oversight spending left american iraqi officials quandary work behind scenes so-called compact iraq centerpiece american embassy effort create economic political milestones nation promises meet exchange pledges foreign investment support                                                                                                         \n",
      "2702  president bush traveling kuwait bahrain saturday praised vote calling an important step toward reconciliation said consolidate progress country past year prepared slow even halt american troop reductions beyond already planned bring levels back so-called troop surge began early 2006 so set stage renewed political debate war congress presidential campaign trail \n",
      "Shape of outputs: (2005,)\n",
      "1613    0\n",
      "2772    1\n",
      "1032    0\n",
      "2806    1\n",
      "2702    1\n",
      "Name: coding, dtype: int64\n",
      "\n",
      "Fitting 5 folds for each of 50 candidates, totalling 250 fits\n"
     ]
    },
    {
     "name": "stderr",
     "output_type": "stream",
     "text": [
      "[Parallel(n_jobs=10)]: Using backend LokyBackend with 10 concurrent workers.\n",
      "[Parallel(n_jobs=10)]: Done  30 tasks      | elapsed:   26.6s\n",
      "[Parallel(n_jobs=10)]: Done 180 tasks      | elapsed:  2.4min\n",
      "[Parallel(n_jobs=10)]: Done 250 out of 250 | elapsed:  3.3min finished\n",
      "D:\\Users\\Michael\\anaconda3\\envs\\ml_nlp\\lib\\site-packages\\xgboost\\sklearn.py:892: UserWarning: The use of label encoder in XGBClassifier is deprecated and will be removed in a future release. To remove this warning, do the following: 1) Pass option use_label_encoder=False when constructing XGBClassifier object; and 2) Encode your labels (y) as integers starting with 0, i.e. 0, 1, 2, ..., [num_class - 1].\n",
      "  warnings.warn(label_encoder_deprecation_msg, UserWarning)\n"
     ]
    },
    {
     "name": "stdout",
     "output_type": "stream",
     "text": [
      "[19:03:18] WARNING: C:/Users/Administrator/workspace/xgboost-win64_release_1.3.0/src/learner.cc:1061: Starting in XGBoost 1.3.0, the default evaluation metric used with the objective 'binary:logistic' was changed from 'error' to 'logloss'. Explicitly set eval_metric if you'd like to restore the old behavior.\n",
      "\n",
      "LightGBM:\n",
      "Best Score:  0.7416458852867831\n",
      "Best Params:  {'text_preprocessor__text_transformer__tfidf_vectorizer__token_pattern': \"(?u)\\\\b\\\\w\\\\w+\\\\b|\\\\'\", 'text_preprocessor__text_transformer__tfidf_vectorizer__ngram_range': (1, 2), 'text_preprocessor__text_transformer__tfidf_vectorizer__max_features': 1000, 'text_preprocessor__text_transformer__tfidf_vectorizer__binary': True, 'lgbm_classifier__n_estimators': 150, 'lgbm_classifier__max_depth': 110}\n"
     ]
    }
   ],
   "source": [
    "lgbm_clf_final = pipeline_fit(\n",
    "                                X_train=X_train,\n",
    "                                y_train=y_train,\n",
    "                                pipeline=\"LightGBM\", \n",
    "                                search_method=\"randomsearch\", \n",
    "                                n_iter=50,\n",
    "                                verbose_searchcv=1, \n",
    "                                n_jobs=10, \n",
    "                                save_name=\"News_test\"\n",
    "                            )"
   ]
  },
  {
   "cell_type": "markdown",
   "metadata": {},
   "source": [
    "### Evaluation"
   ]
  },
  {
   "cell_type": "code",
   "execution_count": 26,
   "metadata": {},
   "outputs": [],
   "source": [
    "y_pred_lgbm = lgbm_clf_final.predict(X_test)\n",
    "y_score_lgbm = lgbm_clf_final.predict_proba(X_test)"
   ]
  },
  {
   "cell_type": "code",
   "execution_count": 27,
   "metadata": {},
   "outputs": [
    {
     "name": "stdout",
     "output_type": "stream",
     "text": [
      "Accuracy Score on Test Set:\n",
      "0.736046511627907\n"
     ]
    },
    {
     "data": {
      "image/png": "[encoded data removed]",
      "text/plain": [
       "<Figure size 576x576 with 2 Axes>"
      ]
     },
     "metadata": {
      "needs_background": "light"
     },
     "output_type": "display_data"
    },
    {
     "data": {
      "image/png": "[encoded data removed]",
      "text/plain": [
       "<Figure size 576x576 with 1 Axes>"
      ]
     },
     "metadata": {
      "needs_background": "light"
     },
     "output_type": "display_data"
    }
   ],
   "source": [
    "print(\"Accuracy Score on Test Set:\")\n",
    "# Inverse transform onehot labels using labelbinarizer\n",
    "print(accuracy_score(y_test, y_pred_lgbm))\n",
    "\n",
    "# np.set_printoptions(precision=2)\n",
    "# print(linear_svc_clf_final.classes_)\n",
    "# Plot confusion matrix\n",
    "plot_confusion_matrix(y_test, y_pred_lgbm, classes=lgbm_clf_final.classes_)\n",
    "\n",
    "# Plot ROC curve (requires onehot targets)\n",
    "plot_roc_curve(y_test, y_score_lgbm, classes=lgbm_clf_final.classes_, roc_multilabel_count=2)"
   ]
  },
  {
   "cell_type": "markdown",
   "metadata": {},
   "source": [
    "# Neural Networks"
   ]
  },
  {
   "cell_type": "markdown",
   "metadata": {},
   "source": [
    "## Tokenizer and embedding pipeline transformer"
   ]
  },
  {
   "cell_type": "code",
   "execution_count": 21,
   "metadata": {},
   "outputs": [],
   "source": [
    "## Keras tokenizing function and optional word2vec embedding transformer\n",
    "class Keras_tokenizer_embedding_transfomer(BaseEstimator, TransformerMixin):\n",
    "    \n",
    "    def __init__(self, verbose=False, word2vec=None, text_col=None, max_words=None, max_seq_len=None, vector_size=None):\n",
    "        self.verbose = verbose\n",
    "        self.word2vec = word2vec\n",
    "        self.text_col = text_col\n",
    "        self.max_words = max_words\n",
    "        self.max_seq_len = max_seq_len\n",
    "        self.vector_size = vector_size\n",
    "        \n",
    "    def fit(self, X, y=None):\n",
    "        if(self.verbose):\n",
    "            print(\"Verbose mode on!\")\n",
    "        return self\n",
    "    \n",
    "    \n",
    "#     def preprocess_text(self, text: Union[Iterable, str]) -> List[str]:\n",
    "# #         \"\"\" Prepare text for the model, excluding unknown words\"\"\"\n",
    "# #         if not isinstance(raw_text, list):\n",
    "# #             if not isinstance(raw_text, str):\n",
    "# #                 raise TypeError(\n",
    "# #                     f\"Input should be a str or a list of str, got {type(raw_text)}\"\n",
    "# #                 )\n",
    "# #             raw_tokens = raw_text.split()\n",
    "#         for token in text:\n",
    "#             return list(filter(lambda x: x in self.word2vec.vocab, token))\n",
    "    \n",
    "    \n",
    "    \n",
    "    ## Slight modification of zeugma source code\n",
    "    def transform_text(self, text: Union[Iterable, str]) -> np.array:\n",
    "        \"\"\" Compute an aggregate embedding vector for an input str or iterable of str.\n",
    "        \"\"\"\n",
    "#         tokens = self.preprocess_text(text)\n",
    "        embedding = []\n",
    "        for token in text:\n",
    "#             print(token)\n",
    "            try:\n",
    "                embedding.append(self.word2vec[token])\n",
    "            except: \n",
    "                embedding.append(np.zeros(self.vector_size, dtype=np.float32))\n",
    "        \n",
    "        return embedding\n",
    "\n",
    "#         if not tokens:\n",
    "#             return np.zeros(self.vector_size, dtype=np.float32)\n",
    "\n",
    "#         return self.word2vec[tokens]\n",
    "    \n",
    "    \n",
    "    \n",
    "    def transform(self, X, y=None):\n",
    "        X = X[text_col].values\n",
    "        self.text_count = len(X)\n",
    "        #display(X)\n",
    "        ## Use Keras tokenizer and padding for neural net inputs        \n",
    "        if self.word2vec is not None:\n",
    "            print(\"Transforming texts...\")\n",
    "            print(X.shape)\n",
    "            \n",
    "#             print(X[:5])\n",
    "            \n",
    "            X = [list(text.split()) for text in X]\n",
    "#             print(X[:5])\n",
    "\n",
    "            X = pad_sequences(X, maxlen=self.max_seq_len, padding=\"post\", truncating=\"post\", value=\" \", dtype=object)\n",
    "            print(\"First 5 padded texts:\")\n",
    "            print(X[:5])\n",
    "            \n",
    "            ## Conversion to word vectors, modification of Zeugma\n",
    "            X = np.reshape([self.transform_text(text) for text in X], (self.text_count, self.max_seq_len, self.vector_size))\n",
    "            \n",
    "            ## Print number of words found in data texts but not in word2vec pre-trained model\n",
    "#             print(\"Proportion of words in dataset not found in pre-trained model:\")\n",
    "#             known_word_count = np.count_nonzero(np.count_nonzero(X, axis=1))\n",
    "#             print(nonzero_elements / vocab_size)\n",
    "            \n",
    "            \n",
    "#             print(embeddings[0])\n",
    "#             print(embeddings.shape)\n",
    "            \n",
    "            ## Pad each text array to the same length (post), a modification of keras pad_sequences\n",
    "#             num_samples = len(embeddings)\n",
    "#             lengths = []\n",
    "#             sample_shape = ()\n",
    "#             flag = True\n",
    "            \n",
    "#             for text in embeddings:\n",
    "#                 try:\n",
    "#                     lengths.append(len(embeddings))\n",
    "#                     if flag and len(embeddings):\n",
    "#                         sample_shape = np.asarray(embeddings).shape[1:]\n",
    "#                         flag = False\n",
    "#                 except TypeError:\n",
    "#                     raise ValueError('`sequences` must be a list of iterables. '\n",
    "#                                      'Found non-iterable: ' + str(embeddings))\n",
    "\n",
    "#             embeddings = np.full((num_samples, self.vector_size) + sample_shape, np.zeros(self.vector_size,))\n",
    "            \n",
    "#             for idx, s in enumerate(embeddings):\n",
    "#                 trunc = s[:self.vector_size]\n",
    "                \n",
    "#                 # check `trunc` has expected shape\n",
    "#                 trunc = np.asarray(trunc)\n",
    "#                 if trunc.shape[1:] != sample_shape:\n",
    "#                     raise ValueError('Shape of sample %s of sequence at position %s '\n",
    "#                                      'is different from expected shape %s' %\n",
    "#                                      (trunc.shape[1:], idx, sample_shape))\n",
    "#                 embeddings[idx, :len(trunc)] = trunc \n",
    "            \n",
    "#             print(embeddings[:5])\n",
    "            \n",
    "#             print(embeddings.shape)\n",
    "            print(\"Texts transformed\")\n",
    "            \n",
    "            ## Stack arrays into large three-dimensional array\n",
    "#             X = np.vstack(embeddings)\n",
    "#             del embeddings\n",
    "            \n",
    "            print(\"Shape of transformed text data:\", X.shape)\n",
    "            print(\"Transformation Complete\")\n",
    "#             print(X[0])\n",
    "#             print(X[0].shape)\n",
    "            \n",
    "        else:\n",
    "            print(\"Tokenizing...\")\n",
    "    #         X = X[self.text_col].to_numpy()\n",
    "            tokenizer = Tokenizer(num_words=self.max_words)\n",
    "            tokenizer.fit_on_texts(X)\n",
    "\n",
    "            sequences = tokenizer.texts_to_sequences(X)\n",
    "            word_index = tokenizer.word_index\n",
    "            print(\"%s unique tokens\" % len(word_index))\n",
    "\n",
    "            X = pad_sequences(sequences, maxlen=self.max_seq_len)\n",
    "            print(\"Shape of tokenized text data:\", X.shape)\n",
    "            print(\"Tokenization Complete\")\n",
    "            \n",
    "            \n",
    "#             print(\"Preparing embedding matrix...\")\n",
    "            \n",
    "#             nb_words = min(max_words, len(word_index))+1\n",
    "\n",
    "#             embedding_matrix = np.zeros((nb_words, embedding_dim))\n",
    "#             for word, i in word_index.items():\n",
    "#                 if word in word2vec.vocab:\n",
    "#                     embedding_matrix[i] = word2vec.word_vec(word)\n",
    "#             print(\"Null word embeddings: %d\" % np.sum(np.sum(embedding_matrix, axis=1) == 0))\n",
    "#             print(\"Embedding matrix formation complete\")\n",
    "            \n",
    "            \n",
    "\n",
    "        return X"
   ]
  },
  {
   "cell_type": "code",
   "execution_count": null,
   "metadata": {},
   "outputs": [],
   "source": [
    "# def create_embedding_matrix(filepath, word_index, embedding_dim):\n",
    "#     vocab_size = len(word_index) + 1  # Adding again 1 because of reserved 0 index\n",
    "#     embedding_matrix = np.zeros((vocab_size, embedding_dim))\n",
    "\n",
    "#     with open(filepath) as f:\n",
    "#         for line in f:\n",
    "#             word, *vector = line.split()\n",
    "#             if word in word_index:\n",
    "#                 idx = word_index[word] \n",
    "#                 embedding_matrix[idx] = np.array(\n",
    "#                     vector, dtype=np.float32)[:embedding_dim]\n",
    "\n",
    "#     return embedding_matrix"
   ]
  },
  {
   "cell_type": "code",
   "execution_count": null,
   "metadata": {},
   "outputs": [],
   "source": [
    "# embedding_dim = 50\n",
    "# embedding_matrix = create_embedding_matrix(\n",
    "# 'data/glove_word_embeddings/glove.6B.50d.txt',\n",
    "# tokenizer.word_index, embedding_dim)"
   ]
  },
  {
   "cell_type": "code",
   "execution_count": null,
   "metadata": {},
   "outputs": [],
   "source": [
    "# model = Sequential()\n",
    "# model.add(layers.Embedding(vocab_size, embedding_dim, \n",
    "#                            weights=[embedding_matrix], \n",
    "#                            input_length=maxlen, \n",
    "#                            trainable=False))\n",
    "# model.add(layers.GlobalMaxPool1D())\n",
    "# model.add(layers.Dense(10, activation='relu'))\n",
    "# model.add(layers.Dense(1, activation='sigmoid'))\n",
    "# model.compile(optimizer='adam',\n",
    "#               loss='binary_crossentropy',\n",
    "#               metrics=['accuracy'])\n",
    "# model.summary()"
   ]
  },
  {
   "cell_type": "markdown",
   "metadata": {},
   "source": [
    "## Get pretrained word vectors and set param grid"
   ]
  },
  {
   "cell_type": "code",
   "execution_count": 22,
   "metadata": {},
   "outputs": [
    {
     "name": "stdout",
     "output_type": "stream",
     "text": [
      "Loading word2vec model...\n",
      "<class 'gensim.models.keyedvectors.Word2VecKeyedVectors'>\n",
      "Found 3000000 word vectors of word2vec\n"
     ]
    }
   ],
   "source": [
    "## Load word vectors\n",
    "while \"word2vec\" in globals():\n",
    "    # Check if word2vec model is already loaded, ask user for confirmation of overwrite\n",
    "    skip = input('''A word2vec model is already loaded, \n",
    "do you reload the model? (Y/N)''')\n",
    "    if skip.lower().strip() == \"y\":\n",
    "        print(\"Loading word2vec model...\")\n",
    "        word2vec = KeyedVectors.load_word2vec_format(\"GoogleNews-vectors-negative300.bin\", binary=True)\n",
    "        print(type(word2vec))\n",
    "        print(\"Found %s word vectors of word2vec\" % len(word2vec.vocab))\n",
    "    elif skip.lower().strip() == \"n\":\n",
    "        print(type(word2vec))\n",
    "        print(\"Found %s word vectors of word2vec\" % len(word2vec.vocab))\n",
    "        break\n",
    "else:\n",
    "    print(\"Loading word2vec model...\")\n",
    "    word2vec = KeyedVectors.load_word2vec_format(\"GoogleNews-vectors-negative300.bin\", binary=True)\n",
    "    print(type(word2vec))\n",
    "    print(\"Found %s word vectors of word2vec\" % len(word2vec.vocab))"
   ]
  },
  {
   "cell_type": "code",
   "execution_count": 23,
   "metadata": {},
   "outputs": [
    {
     "name": "stdout",
     "output_type": "stream",
     "text": [
      "300\n"
     ]
    }
   ],
   "source": [
    "## Get the length of a word vector\n",
    "vector_size = word2vec.vector_size\n",
    "print(vector_size)\n",
    "# len(word2vec[\"computer\"])"
   ]
  },
  {
   "cell_type": "code",
   "execution_count": 31,
   "metadata": {},
   "outputs": [
    {
     "name": "stdout",
     "output_type": "stream",
     "text": [
      "<tensorflow.python.keras.layers.embeddings.Embedding object at 0x0000023653432DC0>\n",
      "1279\n"
     ]
    }
   ],
   "source": [
    "# embedding_layer = word2vec.get_keras_embedding(train_embeddings=True)\n",
    "# embedding_layer.mask_zero = True\n",
    "# print(embedding_layer)\n",
    "\n",
    "# w2vindex = {}\n",
    "# for index, word in enumerate(word2vec.index2word):\n",
    "#     w2vindex[word] = index\n",
    "    \n",
    "# print(w2vindex[\"computer\"])\n",
    "# print()"
   ]
  },
  {
   "cell_type": "code",
   "execution_count": 32,
   "metadata": {},
   "outputs": [
    {
     "name": "stdout",
     "output_type": "stream",
     "text": [
      "(3000001, 300)\n"
     ]
    }
   ],
   "source": [
    "# embedding_weights = np.vstack([\n",
    "#            np.zeros(word2vec.vectors.shape[1]),\n",
    "#            word2vec.vectors\n",
    "# ])\n",
    "\n",
    "# print(embedding_weights.shape)"
   ]
  },
  {
   "cell_type": "code",
   "execution_count": 24,
   "metadata": {},
   "outputs": [],
   "source": [
    "max_seq_len = 100\n",
    "max_words = None\n",
    "text_col = \"text\"\n",
    "\n",
    "# tweet_transformer_keras = Pipeline(steps=[\n",
    "# #    (\"cleaner\", Tweet_cleaner(word2vec=word2vec)),\n",
    "# #    (\"keras_tokenizer\", Keras_tokenizer(max_seq_len=max_seq_len)),\n",
    "#    (\"keras_tokenizer_embedding_transfomer\", Keras_tokenizer_embedding_transfomer(word2vec=word2vec, max_words=max_words, max_seq_len=max_seq_len, vector_size=vector_size))\n",
    "#    ])\n",
    "\n",
    "text_transformer_keras = Pipeline(steps=[\n",
    "#    (\"cleaner\", Tweet_cleaner(word2vec=word2vec)),\n",
    "#    (\"keras_tokenizer\", Keras_tokenizer(max_seq_len=max_seq_len)),\n",
    "   (\"keras_tokenizer_embedding_transfomer\", Keras_tokenizer_embedding_transfomer(word2vec=word2vec, max_words=max_words, max_seq_len=max_seq_len, vector_size=vector_size))\n",
    "   ])\n",
    "\n",
    "# preprocessor_keras = ColumnTransformer(\n",
    "#    transformers=[\n",
    "#        (\"tweet_transformer_keras\", tweet_transformer_keras, tweet_col)\n",
    "#        ])\n",
    "\n",
    "text_preprocessor_keras = ColumnTransformer(\n",
    "   transformers=[\n",
    "       (\"text_transformer_keras\", text_transformer_keras, text_col)\n",
    "       ])"
   ]
  },
  {
   "cell_type": "markdown",
   "metadata": {},
   "source": [
    "## Keras Dense Neural Network"
   ]
  },
  {
   "cell_type": "code",
   "execution_count": 68,
   "metadata": {},
   "outputs": [],
   "source": [
    "## Set callbacks for Keras model\n",
    "es = EarlyStopping(monitor=\"val_loss\", mode=\"min\", verbose=1, patience=5)\n",
    "metrics = [\n",
    "      keras.metrics.TruePositives(name='tp'),\n",
    "      keras.metrics.FalsePositives(name='fp'),\n",
    "      keras.metrics.TrueNegatives(name='tn'),\n",
    "      keras.metrics.FalseNegatives(name='fn'), \n",
    "      keras.metrics.BinaryAccuracy(name='accuracy'),\n",
    "      keras.metrics.Precision(name='precision'),\n",
    "      keras.metrics.Recall(name='recall'),\n",
    "      keras.metrics.AUC(name='auc'),\n",
    "]\n",
    "\n",
    "## Keras sklearn pipeline wrapper, dense layers require row major arrays\n",
    "def create_dense_keras(input_shape=(max_seq_len,vector_size,),n_nodes_1=50,n_nodes_2=10,dropout=0.3,output_size=1,loss=\"binary_crossentropy\",optimizer=\"adam\",metrics=metrics,callbacks=[es]):\n",
    "    \n",
    "    print(\"-\"*32)\n",
    "    print(\"create_dense_fn called with:\")\n",
    "    print(\"\\tInput Shape:\", input_shape)\n",
    "    print(\"\\tDropout:\", dropout)\n",
    "    print(\"\\tOutput Size:\", output_size)\n",
    "    print(\"\\tLoss:\", loss)\n",
    "    print(\"\\tOptimizer:\", optimizer)\n",
    "    print(\"\\tMetrics:\", metrics)\n",
    "    print(\"\\tCallbacks:\", callbacks)\n",
    "    print(\"-\"*32)\n",
    "\n",
    "    model = Sequential()\n",
    "    \n",
    "    model.add(layers.Conv1D(filters=vector_size, kernel_size=3, input_shape=input_shape, activation=\"relu\")) \n",
    "    model.add(layers.MaxPooling1D(pool_size=4))\n",
    "    model.add(layers.Dropout(rate=dropout))\n",
    "    model.add(layers.LSTM(n_nodes_1, activation=\"relu\"))\n",
    "\n",
    "#     model.add(layers.Dense(n_nodes_1, input_shape=input_shape, activation=\"relu\"))\n",
    "\n",
    "#     model.add(layers.Dense(n_nodes_2, activation=\"relu\"))\n",
    "#     model.add(layers.Dropout(rate=dropout))\n",
    "    model.add(layers.Dense(output_size, activation=\"sigmoid\"))\n",
    "\n",
    "    model.compile(loss=loss,\n",
    "                  optimizer=optimizer,\n",
    "                  metrics=metrics)\n",
    "\n",
    "    print(model.summary())\n",
    "    return model"
   ]
  },
  {
   "cell_type": "code",
   "execution_count": 69,
   "metadata": {},
   "outputs": [
    {
     "name": "stdout",
     "output_type": "stream",
     "text": [
      "Pipeline(steps=[('text_preprocessor',\n",
      "                 Pipeline(steps=[('keras_tokenizer_embedding_transfomer',\n",
      "                                  Keras_tokenizer_embedding_transfomer(max_seq_len=100,\n",
      "                                                                       vector_size=300,\n",
      "                                                                       word2vec=<gensim.models.keyedvectors.Word2VecKeyedVectors object at 0x00000170274917C0>))])),\n",
      "                ('keras_estimator',\n",
      "                 <tensorflow.python.keras.wrappers.scikit_learn.KerasClassifier object at 0x000001711FAC4940>)])\n",
      "\n"
     ]
    }
   ],
   "source": [
    "# Dense neural net classification\n",
    "dense_keras_clf = KerasClassifier(build_fn=create_dense_keras, verbose=1, batch_size=16, epochs=10) # wrap the model\n",
    "\n",
    "# Specify Keras callbacks for early stopping and checkpoints\n",
    "# calls = [ModelCheckpoint(, monitor=\"val_accuracy\", verbose=1, save_best_only=True, mode=\"max\")]\n",
    "    \n",
    "dense_keras_clf_fullpipe = Pipeline(steps=[\n",
    "    (\"text_preprocessor\", text_transformer_keras),#preprocessor_keras),\n",
    "#     (\"debug\", Debug()),\n",
    "    (\"keras_estimator\", dense_keras_clf)\n",
    "])\n",
    "print(dense_keras_clf_fullpipe)\n",
    "print(\"\")"
   ]
  },
  {
   "cell_type": "code",
   "execution_count": 70,
   "metadata": {},
   "outputs": [],
   "source": [
    "# Specify hyperparameter grids for optimization\n",
    "dense_keras_param_grid = {\n",
    "#     \"keras_estimator__optimizer\":[\"adam\"],#[\"rmsprop\",\"adam\",\"adagrad\"],\n",
    "    \"keras_estimator__epochs\":[10,20,45,60],\n",
    "    \"keras_estimator__n_nodes_1\":[5,10,20,50],\n",
    "    \"keras_estimator__n_nodes_2\":[5,10,20,50],\n",
    "#     \"keras_estimator__dropout\":[0.4,0.55,0.7]\n",
    "#     \"keras_estimator_input_shape\":[(dense_keras_clf_fullpipe.named_steps[\"debug\"].shape[1],)]\n",
    "}\n",
    "\n",
    "dense_keras_param_grid.update(text_param_grid)"
   ]
  },
  {
   "cell_type": "code",
   "execution_count": 71,
   "metadata": {},
   "outputs": [],
   "source": [
    "# Dictionary of pipelines and classifier types for ease of reference\n",
    "try:\n",
    "    pipe_dict[\"Dense_Keras\"] = (dense_keras_clf_fullpipe, dense_keras_param_grid)   \n",
    "except NameError:\n",
    "    pipe_dict = {\n",
    "    \"Dense_Keras\": (dense_keras_clf_fullpipe, dense_keras_param_grid),\n",
    "    }"
   ]
  },
  {
   "cell_type": "markdown",
   "metadata": {},
   "source": [
    "### Train the dense neural network pipeline model"
   ]
  },
  {
   "cell_type": "code",
   "execution_count": 73,
   "metadata": {},
   "outputs": [
    {
     "name": "stdin",
     "output_type": "stream",
     "text": [
      "A joblib model file already exists with that name, \n",
      "do you wish to retrain the model? (Y/N) y\n"
     ]
    },
    {
     "name": "stdout",
     "output_type": "stream",
     "text": [
      "No hyperparameter optimization\n",
      "Training Dense_Keras on 2005 samples...\n",
      "('keras_estimator', <tensorflow.python.keras.wrappers.scikit_learn.KerasClassifier object at 0x000001711FAC4940>)\n",
      "Transforming texts...\n",
      "(2005,)\n",
      "First 5 padded texts:\n",
      "[['salaam' 'smeasim' 'another' 'iraqi' 'known' 'years' '55' 'candidate'\n",
      "  'largest' 'shiite' 'opposition' 'party' 'iraqi' 'national' 'alliance'\n",
      "  'salaam' 'wears' 'veil' 'coalition' 'includes' 'many' 'sadrists'\n",
      "  'relations' 'iran' ' ' ' ' ' ' ' ' ' ' ' ' ' ' ' ' ' ' ' ' ' ' ' ' ' '\n",
      "  ' ' ' ' ' ' ' ' ' ' ' ' ' ' ' ' ' ' ' ' ' ' ' ' ' ' ' ' ' ' ' ' ' ' ' '\n",
      "  ' ' ' ' ' ' ' ' ' ' ' ' ' ' ' ' ' ' ' ' ' ' ' ' ' ' ' ' ' ' ' ' ' ' ' '\n",
      "  ' ' ' ' ' ' ' ' ' ' ' ' ' ' ' ' ' ' ' ' ' ' ' ' ' ' ' ' ' ' ' ' ' ' ' '\n",
      "  ' ' ' ' ' ' ' ' ' ' ' ' ' ' ' ' ' ']\n",
      " ['violence' 'continued' 'roil' 'capital' 'tuesday' 'high-ranking'\n",
      "  'official' 'interior' 'ministry' 'narrowly' 'escaped' 'assassination'\n",
      "  'attempt' 'gunmen' 'fired' 'car' 'killing' 'one' 'bodyguards'\n",
      "  'wounding' 'three' 'ministry' 'officials' 'said' ' ' ' ' ' ' ' ' ' '\n",
      "  ' ' ' ' ' ' ' ' ' ' ' ' ' ' ' ' ' ' ' ' ' ' ' ' ' ' ' ' ' ' ' ' ' ' ' '\n",
      "  ' ' ' ' ' ' ' ' ' ' ' ' ' ' ' ' ' ' ' ' ' ' ' ' ' ' ' ' ' ' ' ' ' ' ' '\n",
      "  ' ' ' ' ' ' ' ' ' ' ' ' ' ' ' ' ' ' ' ' ' ' ' ' ' ' ' ' ' ' ' ' ' ' ' '\n",
      "  ' ' ' ' ' ' ' ' ' ' ' ' ' ' ' ' ' ' ' ' ' ' ' ' ' ' ' ' ' ' ' ' ' ']\n",
      " ['suddenness' 'french' 'proposal' 'left' 'nations' 'security' 'council'\n",
      "  'struggling' 'ways' 'respond' 'keeping' 'options' 'open' ' ' ' ' ' '\n",
      "  ' ' ' ' ' ' ' ' ' ' ' ' ' ' ' ' ' ' ' ' ' ' ' ' ' ' ' ' ' ' ' ' ' ' ' '\n",
      "  ' ' ' ' ' ' ' ' ' ' ' ' ' ' ' ' ' ' ' ' ' ' ' ' ' ' ' ' ' ' ' ' ' ' ' '\n",
      "  ' ' ' ' ' ' ' ' ' ' ' ' ' ' ' ' ' ' ' ' ' ' ' ' ' ' ' ' ' ' ' ' ' ' ' '\n",
      "  ' ' ' ' ' ' ' ' ' ' ' ' ' ' ' ' ' ' ' ' ' ' ' ' ' ' ' ' ' ' ' ' ' ' ' '\n",
      "  ' ' ' ' ' ' ' ' ' ' ' ' ' ' ' ' ' ' ' ' ' ' ' ']\n",
      " ['colliding' 'priorities' 'oversight' 'spending' 'left' 'american'\n",
      "  'iraqi' 'officials' 'quandary' 'work' 'behind' 'scenes' 'so-called'\n",
      "  'compact' 'iraq' 'centerpiece' 'american' 'embassy' 'effort' 'create'\n",
      "  'economic' 'political' 'milestones' 'nation' 'promises' 'meet'\n",
      "  'exchange' 'pledges' 'foreign' 'investment' 'support' ' ' ' ' ' ' ' '\n",
      "  ' ' ' ' ' ' ' ' ' ' ' ' ' ' ' ' ' ' ' ' ' ' ' ' ' ' ' ' ' ' ' ' ' ' ' '\n",
      "  ' ' ' ' ' ' ' ' ' ' ' ' ' ' ' ' ' ' ' ' ' ' ' ' ' ' ' ' ' ' ' ' ' ' ' '\n",
      "  ' ' ' ' ' ' ' ' ' ' ' ' ' ' ' ' ' ' ' ' ' ' ' ' ' ' ' ' ' ' ' ' ' ' ' '\n",
      "  ' ' ' ' ' ' ' ' ' ' ' ' ' ' ' ' ' ' ' ' ' ']\n",
      " ['president' 'bush' 'traveling' 'kuwait' 'bahrain' 'saturday' 'praised'\n",
      "  'vote' 'calling' 'an' 'important' 'step' 'toward' 'reconciliation'\n",
      "  'said' 'consolidate' 'progress' 'country' 'past' 'year' 'prepared'\n",
      "  'slow' 'even' 'halt' 'american' 'troop' 'reductions' 'beyond' 'already'\n",
      "  'planned' 'bring' 'levels' 'back' 'so-called' 'troop' 'surge' 'began'\n",
      "  'early' '2006' 'so' 'set' 'stage' 'renewed' 'political' 'debate' 'war'\n",
      "  'congress' 'presidential' 'campaign' 'trail' ' ' ' ' ' ' ' ' ' ' ' '\n",
      "  ' ' ' ' ' ' ' ' ' ' ' ' ' ' ' ' ' ' ' ' ' ' ' ' ' ' ' ' ' ' ' ' ' ' ' '\n",
      "  ' ' ' ' ' ' ' ' ' ' ' ' ' ' ' ' ' ' ' ' ' ' ' ' ' ' ' ' ' ' ' ' ' ' ' '\n",
      "  ' ' ' ' ' ' ' ' ' ' ' ' ' ' ' ']]\n",
      "Texts transformed\n",
      "Shape of transformed text data: (2005, 100, 300)\n",
      "Transformation Complete\n",
      "--------------------------------\n",
      "create_dense_fn called with:\n",
      "\tInput Shape: (100, 300)\n",
      "\tDropout: 0.3\n",
      "\tOutput Size: 1\n",
      "\tLoss: binary_crossentropy\n",
      "\tOptimizer: adam\n",
      "\tMetrics: [<tensorflow.python.keras.metrics.TruePositives object at 0x000001711FACB9A0>, <tensorflow.python.keras.metrics.FalsePositives object at 0x000001718857BA30>, <tensorflow.python.keras.metrics.TrueNegatives object at 0x000001711FACBBE0>, <tensorflow.python.keras.metrics.FalseNegatives object at 0x000001711FACDA30>, <tensorflow.python.keras.metrics.BinaryAccuracy object at 0x000001711FACDE80>, <tensorflow.python.keras.metrics.Precision object at 0x000001711FACEB20>, <tensorflow.python.keras.metrics.Recall object at 0x000001711FACEFD0>, <tensorflow.python.keras.metrics.AUC object at 0x000001711FAC6970>]\n",
      "\tCallbacks: [<tensorflow.python.keras.callbacks.EarlyStopping object at 0x000001711FACB8B0>]\n",
      "--------------------------------\n",
      "Model: \"sequential_8\"\n",
      "_________________________________________________________________\n",
      "Layer (type)                 Output Shape              Param #   \n",
      "=================================================================\n",
      "conv1d_6 (Conv1D)            (None, 98, 300)           270300    \n",
      "_________________________________________________________________\n",
      "max_pooling1d_6 (MaxPooling1 (None, 24, 300)           0         \n",
      "_________________________________________________________________\n",
      "dropout_2 (Dropout)          (None, 24, 300)           0         \n",
      "_________________________________________________________________\n",
      "lstm_6 (LSTM)                (None, 50)                70200     \n",
      "_________________________________________________________________\n",
      "dense_6 (Dense)              (None, 1)                 51        \n",
      "=================================================================\n",
      "Total params: 340,551\n",
      "Trainable params: 340,551\n",
      "Non-trainable params: 0\n",
      "_________________________________________________________________\n",
      "None\n",
      "Epoch 1/10\n",
      "126/126 [==============================] - 4s 19ms/step - loss: 0.5992 - tp: 431.0000 - fp: 45.7244 - tn: 2275.2677 - fn: 276.7087 - accuracy: 0.8985 - precision: 0.9041 - recall: 0.6328 - auc: 0.9166\n",
      "Epoch 2/10\n",
      "126/126 [==============================] - 2s 18ms/step - loss: 0.5516 - tp: 0.0000e+00 - fp: 0.0000e+00 - tn: 779.9685 - fn: 243.7323 - accuracy: 0.7605 - precision: 0.0000e+00 - recall: 0.0000e+00 - auc: 0.4871\n",
      "Epoch 3/10\n",
      "126/126 [==============================] - 2s 19ms/step - loss: 0.5524 - tp: 0.0000e+00 - fp: 0.0000e+00 - tn: 783.3228 - fn: 240.3780 - accuracy: 0.7588 - precision: 0.0000e+00 - recall: 0.0000e+00 - auc: 0.5196\n",
      "Epoch 4/10\n",
      "126/126 [==============================] - 2s 18ms/step - loss: 0.5454 - tp: 0.0000e+00 - fp: 0.0000e+00 - tn: 780.0787 - fn: 243.6220 - accuracy: 0.7664 - precision: 0.0000e+00 - recall: 0.0000e+00 - auc: 0.5211\n",
      "Epoch 5/10\n",
      "126/126 [==============================] - 2s 19ms/step - loss: 0.5442 - tp: 0.0000e+00 - fp: 0.0000e+00 - tn: 781.4961 - fn: 242.2047 - accuracy: 0.7626 - precision: 0.0000e+00 - recall: 0.0000e+00 - auc: 0.5665\n",
      "Epoch 6/10\n",
      "126/126 [==============================] - 2s 19ms/step - loss: 0.5188 - tp: 0.0000e+00 - fp: 0.0000e+00 - tn: 791.6693 - fn: 232.0315 - accuracy: 0.7745 - precision: 0.0000e+00 - recall: 0.0000e+00 - auc: 0.6053\n",
      "Epoch 7/10\n",
      "126/126 [==============================] - 2s 18ms/step - loss: 0.4928 - tp: 1.9213 - fp: 0.3780 - tn: 784.9449 - fn: 236.4567 - accuracy: 0.7643 - precision: 0.3307 - recall: 0.0051 - auc: 0.7257\n",
      "Epoch 8/10\n",
      "126/126 [==============================] - 2s 18ms/step - loss: 0.5376 - tp: 7.9449 - fp: 3.1732 - tn: 781.6299 - fn: 230.9528 - accuracy: 0.7680 - precision: 0.3960 - recall: 0.0224 - auc: 0.6739\n",
      "Epoch 9/10\n",
      "126/126 [==============================] - 2s 18ms/step - loss: 0.3736 - tp: 67.3937 - fp: 32.9370 - tn: 751.9213 - fn: 171.4488 - accuracy: 0.7940 - precision: 0.6870 - recall: 0.2152 - auc: 0.8779\n",
      "Epoch 10/10\n",
      "126/126 [==============================] - 2s 18ms/step - loss: 0.3531 - tp: 103.1024 - fp: 29.0315 - tn: 761.0157 - fn: 130.5512 - accuracy: 0.8318 - precision: 0.8289 - recall: 0.3371 - auc: 0.9001\n"
     ]
    }
   ],
   "source": [
    "dense_keras_clf_final = pipeline_fit(\n",
    "                                        X_train=X_train,\n",
    "                                        y_train=y_train,\n",
    "                                        pipeline=\"Dense_Keras\", \n",
    "                                        search_method=None,#\"gridsearch\",\n",
    "                                        keras_nn=True,\n",
    "                                        n_jobs=1,\n",
    "                                        verbose_searchcv=1,  \n",
    "                                        save_name=\"News_test\"\n",
    "                                    )"
   ]
  },
  {
   "cell_type": "markdown",
   "metadata": {},
   "source": [
    "### Evaluation"
   ]
  },
  {
   "cell_type": "code",
   "execution_count": 74,
   "metadata": {},
   "outputs": [
    {
     "name": "stdout",
     "output_type": "stream",
     "text": [
      "Transforming texts...\n",
      "(860,)\n",
      "First 5 padded texts:\n",
      "[['we' 'believe' 'iraq' 'unity' 'sovereignty' 'independence' 'said'\n",
      "  'reference' 'unity' 'slap' 'mr' 'hakim' 'supreme' 'council'\n",
      "  'encouraged' 'provinces' 'form' 'regions' 'that' 'constitution' 'could'\n",
      "  'considerable' 'independence' 'baghdad' ' ' ' ' ' ' ' ' ' ' ' ' ' ' ' '\n",
      "  ' ' ' ' ' ' ' ' ' ' ' ' ' ' ' ' ' ' ' ' ' ' ' ' ' ' ' ' ' ' ' ' ' ' ' '\n",
      "  ' ' ' ' ' ' ' ' ' ' ' ' ' ' ' ' ' ' ' ' ' ' ' ' ' ' ' ' ' ' ' ' ' ' ' '\n",
      "  ' ' ' ' ' ' ' ' ' ' ' ' ' ' ' ' ' ' ' ' ' ' ' ' ' ' ' ' ' ' ' ' ' ' ' '\n",
      "  ' ' ' ' ' ' ' ' ' ' ' ' ' ' ' ' ' ' ' ' ' ' ' ' ' ' ' ']\n",
      " ['first' 'time' 'shiite' 'political' 'leaders' 'traveled' 'anbar' 'meet'\n",
      "  'sunni' 'coalition' 'gathering' 'sheiks' ' ' ' ' ' ' ' ' ' ' ' ' ' '\n",
      "  ' ' ' ' ' ' ' ' ' ' ' ' ' ' ' ' ' ' ' ' ' ' ' ' ' ' ' ' ' ' ' ' ' ' ' '\n",
      "  ' ' ' ' ' ' ' ' ' ' ' ' ' ' ' ' ' ' ' ' ' ' ' ' ' ' ' ' ' ' ' ' ' ' ' '\n",
      "  ' ' ' ' ' ' ' ' ' ' ' ' ' ' ' ' ' ' ' ' ' ' ' ' ' ' ' ' ' ' ' ' ' ' ' '\n",
      "  ' ' ' ' ' ' ' ' ' ' ' ' ' ' ' ' ' ' ' ' ' ' ' ' ' ' ' ' ' ' ' ' ' ' ' '\n",
      "  ' ' ' ' ' ' ' ' ' ' ' ' ' ' ' ' ' ']\n",
      " ['lore' 'streets' 'mr' 'hussein' 'dashing' 'profile' 'world' 'traveler'\n",
      "  'seven' 'masks' 'taxi' 'driver' 'whispers' 'promises' 'victory'\n",
      "  'passengers' 'american' 'agent' ' ' ' ' ' ' ' ' ' ' ' ' ' ' ' ' ' ' ' '\n",
      "  ' ' ' ' ' ' ' ' ' ' ' ' ' ' ' ' ' ' ' ' ' ' ' ' ' ' ' ' ' ' ' ' ' ' ' '\n",
      "  ' ' ' ' ' ' ' ' ' ' ' ' ' ' ' ' ' ' ' ' ' ' ' ' ' ' ' ' ' ' ' ' ' ' ' '\n",
      "  ' ' ' ' ' ' ' ' ' ' ' ' ' ' ' ' ' ' ' ' ' ' ' ' ' ' ' ' ' ' ' ' ' ' ' '\n",
      "  ' ' ' ' ' ' ' ' ' ' ' ' ' ' ' ' ' ' ' ' ' ' ' ' ' ' ' ' ' ' ' ' ' ' ' ']\n",
      " ['assault' 'near' 'bayji' 'wednesday' 'took' 'place' 'day' 'insurgents'\n",
      "  'sowed' 'fear' 'across' 'capital' 'setting' 'least' 'five' 'car'\n",
      "  'truck' 'bombs' 'killed' 'least' '26' 'people' 'according' 'military'\n",
      "  'estimates' ' ' ' ' ' ' ' ' ' ' ' ' ' ' ' ' ' ' ' ' ' ' ' ' ' ' ' ' ' '\n",
      "  ' ' ' ' ' ' ' ' ' ' ' ' ' ' ' ' ' ' ' ' ' ' ' ' ' ' ' ' ' ' ' ' ' ' ' '\n",
      "  ' ' ' ' ' ' ' ' ' ' ' ' ' ' ' ' ' ' ' ' ' ' ' ' ' ' ' ' ' ' ' ' ' ' ' '\n",
      "  ' ' ' ' ' ' ' ' ' ' ' ' ' ' ' ' ' ' ' ' ' ' ' ' ' ' ' ' ' ' ' ' ' ' ' '\n",
      "  ' ' ' ' ' ' ' ' ' ' ' ']\n",
      " ['northern' 'front' 'brig' 'gen' 'vincent' 'k' 'brooks' 'said'\n",
      "  'northern' 'city' 'tikrit' 'mr' 'hussein' 'home' 'town' 'become'\n",
      "  'primary' 'focus' 'military' 'campaign' 'loyal' 'supporters' 'hussein'\n",
      "  'regime' 'may' 'encamped' 'there' 'american' 'military' 'officials'\n",
      "  'said' 'may' 'hidden' 'weapons' 'mass' 'destruction' 'there' 'still'\n",
      "  'american' 'commanders' 'hinted' 'rush' 'force' 'final' 'confrontation'\n",
      "  'officials' 'also' 'expressed' 'concern' 'iraqi' 'forces' 'may'\n",
      "  'prepared' 'set' 'fire' 'oil' 'fields' 'around' 'kirkuk' 'mosul'\n",
      "  'largest' 'northern' 'city' 'iraqi' 'troops' 'reported' 'falling'\n",
      "  'back' 'refusing' 'surrender' ' ' ' ' ' ' ' ' ' ' ' ' ' ' ' ' ' ' ' '\n",
      "  ' ' ' ' ' ' ' ' ' ' ' ' ' ' ' ' ' ' ' ' ' ' ' ' ' ' ' ' ' ' ' ' ' ' ' '\n",
      "  ' ' ' ']]\n",
      "Texts transformed\n",
      "Shape of transformed text data: (860, 100, 300)\n",
      "Transformation Complete\n",
      " 1/54 [..............................] - ETA: 9s"
     ]
    },
    {
     "name": "stderr",
     "output_type": "stream",
     "text": [
      "D:\\Users\\Michael\\anaconda3\\envs\\ml_nlp\\lib\\site-packages\\tensorflow\\python\\keras\\engine\\sequential.py:450: UserWarning: `model.predict_classes()` is deprecated and will be removed after 2021-01-01. Please use instead:* `np.argmax(model.predict(x), axis=-1)`,   if your model does multi-class classification   (e.g. if it uses a `softmax` last-layer activation).* `(model.predict(x) > 0.5).astype(\"int32\")`,   if your model does binary classification   (e.g. if it uses a `sigmoid` last-layer activation).\n",
      "  warnings.warn('`model.predict_classes()` is deprecated and '\n"
     ]
    },
    {
     "name": "stdout",
     "output_type": "stream",
     "text": [
      "54/54 [==============================] - 1s 7ms/step\n",
      "Transforming texts...\n",
      "(860,)\n",
      "First 5 padded texts:\n",
      "[['we' 'believe' 'iraq' 'unity' 'sovereignty' 'independence' 'said'\n",
      "  'reference' 'unity' 'slap' 'mr' 'hakim' 'supreme' 'council'\n",
      "  'encouraged' 'provinces' 'form' 'regions' 'that' 'constitution' 'could'\n",
      "  'considerable' 'independence' 'baghdad' ' ' ' ' ' ' ' ' ' ' ' ' ' ' ' '\n",
      "  ' ' ' ' ' ' ' ' ' ' ' ' ' ' ' ' ' ' ' ' ' ' ' ' ' ' ' ' ' ' ' ' ' ' ' '\n",
      "  ' ' ' ' ' ' ' ' ' ' ' ' ' ' ' ' ' ' ' ' ' ' ' ' ' ' ' ' ' ' ' ' ' ' ' '\n",
      "  ' ' ' ' ' ' ' ' ' ' ' ' ' ' ' ' ' ' ' ' ' ' ' ' ' ' ' ' ' ' ' ' ' ' ' '\n",
      "  ' ' ' ' ' ' ' ' ' ' ' ' ' ' ' ' ' ' ' ' ' ' ' ' ' ' ' ']\n",
      " ['first' 'time' 'shiite' 'political' 'leaders' 'traveled' 'anbar' 'meet'\n",
      "  'sunni' 'coalition' 'gathering' 'sheiks' ' ' ' ' ' ' ' ' ' ' ' ' ' '\n",
      "  ' ' ' ' ' ' ' ' ' ' ' ' ' ' ' ' ' ' ' ' ' ' ' ' ' ' ' ' ' ' ' ' ' ' ' '\n",
      "  ' ' ' ' ' ' ' ' ' ' ' ' ' ' ' ' ' ' ' ' ' ' ' ' ' ' ' ' ' ' ' ' ' ' ' '\n",
      "  ' ' ' ' ' ' ' ' ' ' ' ' ' ' ' ' ' ' ' ' ' ' ' ' ' ' ' ' ' ' ' ' ' ' ' '\n",
      "  ' ' ' ' ' ' ' ' ' ' ' ' ' ' ' ' ' ' ' ' ' ' ' ' ' ' ' ' ' ' ' ' ' ' ' '\n",
      "  ' ' ' ' ' ' ' ' ' ' ' ' ' ' ' ' ' ']\n",
      " ['lore' 'streets' 'mr' 'hussein' 'dashing' 'profile' 'world' 'traveler'\n",
      "  'seven' 'masks' 'taxi' 'driver' 'whispers' 'promises' 'victory'\n",
      "  'passengers' 'american' 'agent' ' ' ' ' ' ' ' ' ' ' ' ' ' ' ' ' ' ' ' '\n",
      "  ' ' ' ' ' ' ' ' ' ' ' ' ' ' ' ' ' ' ' ' ' ' ' ' ' ' ' ' ' ' ' ' ' ' ' '\n",
      "  ' ' ' ' ' ' ' ' ' ' ' ' ' ' ' ' ' ' ' ' ' ' ' ' ' ' ' ' ' ' ' ' ' ' ' '\n",
      "  ' ' ' ' ' ' ' ' ' ' ' ' ' ' ' ' ' ' ' ' ' ' ' ' ' ' ' ' ' ' ' ' ' ' ' '\n",
      "  ' ' ' ' ' ' ' ' ' ' ' ' ' ' ' ' ' ' ' ' ' ' ' ' ' ' ' ' ' ' ' ' ' ' ' ']\n",
      " ['assault' 'near' 'bayji' 'wednesday' 'took' 'place' 'day' 'insurgents'\n",
      "  'sowed' 'fear' 'across' 'capital' 'setting' 'least' 'five' 'car'\n",
      "  'truck' 'bombs' 'killed' 'least' '26' 'people' 'according' 'military'\n",
      "  'estimates' ' ' ' ' ' ' ' ' ' ' ' ' ' ' ' ' ' ' ' ' ' ' ' ' ' ' ' ' ' '\n",
      "  ' ' ' ' ' ' ' ' ' ' ' ' ' ' ' ' ' ' ' ' ' ' ' ' ' ' ' ' ' ' ' ' ' ' ' '\n",
      "  ' ' ' ' ' ' ' ' ' ' ' ' ' ' ' ' ' ' ' ' ' ' ' ' ' ' ' ' ' ' ' ' ' ' ' '\n",
      "  ' ' ' ' ' ' ' ' ' ' ' ' ' ' ' ' ' ' ' ' ' ' ' ' ' ' ' ' ' ' ' ' ' ' ' '\n",
      "  ' ' ' ' ' ' ' ' ' ' ' ']\n",
      " ['northern' 'front' 'brig' 'gen' 'vincent' 'k' 'brooks' 'said'\n",
      "  'northern' 'city' 'tikrit' 'mr' 'hussein' 'home' 'town' 'become'\n",
      "  'primary' 'focus' 'military' 'campaign' 'loyal' 'supporters' 'hussein'\n",
      "  'regime' 'may' 'encamped' 'there' 'american' 'military' 'officials'\n",
      "  'said' 'may' 'hidden' 'weapons' 'mass' 'destruction' 'there' 'still'\n",
      "  'american' 'commanders' 'hinted' 'rush' 'force' 'final' 'confrontation'\n",
      "  'officials' 'also' 'expressed' 'concern' 'iraqi' 'forces' 'may'\n",
      "  'prepared' 'set' 'fire' 'oil' 'fields' 'around' 'kirkuk' 'mosul'\n",
      "  'largest' 'northern' 'city' 'iraqi' 'troops' 'reported' 'falling'\n",
      "  'back' 'refusing' 'surrender' ' ' ' ' ' ' ' ' ' ' ' ' ' ' ' ' ' ' ' '\n",
      "  ' ' ' ' ' ' ' ' ' ' ' ' ' ' ' ' ' ' ' ' ' ' ' ' ' ' ' ' ' ' ' ' ' ' ' '\n",
      "  ' ' ' ']]\n",
      "Texts transformed\n",
      "Shape of transformed text data: (860, 100, 300)\n",
      "Transformation Complete\n",
      "17/54 [========>.....................] - ETA: 0s"
     ]
    },
    {
     "name": "stderr",
     "output_type": "stream",
     "text": [
      "D:\\Users\\Michael\\anaconda3\\envs\\ml_nlp\\lib\\site-packages\\tensorflow\\python\\keras\\engine\\sequential.py:425: UserWarning: `model.predict_proba()` is deprecated and will be removed after 2021-01-01. Please use `model.predict()` instead.\n",
      "  warnings.warn('`model.predict_proba()` is deprecated and '\n"
     ]
    },
    {
     "name": "stdout",
     "output_type": "stream",
     "text": [
      "54/54 [==============================] - 0s 7ms/step\n"
     ]
    }
   ],
   "source": [
    "# dense_keras_clf_final.named_steps[\"keras_estimator\"].model = load_model(save_name+\"_\"+pipeline+\".h5\")\n",
    "\n",
    "y_pred_dense_keras = dense_keras_clf_final.predict(X_test)\n",
    "y_score_dense_keras = dense_keras_clf_final.predict_proba(X_test)"
   ]
  },
  {
   "cell_type": "code",
   "execution_count": 75,
   "metadata": {},
   "outputs": [
    {
     "name": "stdout",
     "output_type": "stream",
     "text": [
      "(860, 1)\n"
     ]
    }
   ],
   "source": [
    "print(y_pred_dense_keras.shape)"
   ]
  },
  {
   "cell_type": "code",
   "execution_count": 76,
   "metadata": {},
   "outputs": [
    {
     "name": "stdout",
     "output_type": "stream",
     "text": [
      "Accuracy Score on Test Set:\n",
      "0.6941860465116279\n"
     ]
    },
    {
     "data": {
      "image/png": "[encoded data removed]",
      "text/plain": [
       "<Figure size 576x576 with 2 Axes>"
      ]
     },
     "metadata": {
      "needs_background": "light"
     },
     "output_type": "display_data"
    },
    {
     "data": {
      "image/png": "[encoded data removed]",
      "text/plain": [
       "<Figure size 576x576 with 1 Axes>"
      ]
     },
     "metadata": {
      "needs_background": "light"
     },
     "output_type": "display_data"
    }
   ],
   "source": [
    "print(\"Accuracy Score on Test Set:\")\n",
    "print(accuracy_score(y_test, y_pred_dense_keras))\n",
    "\n",
    "# np.set_printoptions(precision=2)\n",
    "\n",
    "# Plot confusion matrix\n",
    "plot_confusion_matrix(y_test, y_pred_dense_keras, classes=dense_keras_clf_final.classes_)\n",
    "\n",
    "# Plot ROC curve (requires onehot targets)\n",
    "plot_roc_curve(y_test, y_score_dense_keras[:,1], classes=dense_keras_clf_final.classes_, roc_multilabel_count=2)"
   ]
  },
  {
   "cell_type": "markdown",
   "metadata": {},
   "source": [
    "## Keras LSTM Neural Network"
   ]
  },
  {
   "cell_type": "code",
   "execution_count": null,
   "metadata": {},
   "outputs": [],
   "source": [
    "# weight_val = np.ones(len(labels_val))\n",
    "# if re_weight:\n",
    "#     weight_val *= 0.472001959\n",
    "#     weight_val[labels_val==0] = 1.309028344\n",
    "\n",
    "# ########################################\n",
    "# ## define the model structure\n",
    "# ########################################\n",
    "\n",
    "# MAX_SEQUENCE_LENGTH = 30\n",
    "# MAX_NB_WORDS = 200000\n",
    "# EMBEDDING_DIM = 300\n",
    "# VALIDATION_SPLIT = 0.1\n",
    "\n",
    "# num_lstm = np.random.randint(175, 275)\n",
    "# num_dense = np.random.randint(100, 150)\n",
    "# rate_drop_lstm = 0.15 + np.random.rand() * 0.25\n",
    "# rate_drop_dense = 0.15 + np.random.rand() * 0.25\n",
    "\n",
    "# re_weight = True # whether to re-weight classes to fit the 17.5% share in test set\n",
    "\n",
    "# STAMP = 'lstm_%d_%d_%.2f_%.2f'%(num_lstm, num_dense, rate_drop_lstm, \\\n",
    "#         rate_drop_dense)\n",
    "\n",
    "\n",
    "# embedding_layer = Embedding(nb_words,\n",
    "#         EMBEDDING_DIM,\n",
    "#         weights=[embedding_matrix],\n",
    "#         input_length=MAX_SEQUENCE_LENGTH,\n",
    "#         trainable=False)\n",
    "# lstm_layer = LSTM(num_lstm, dropout=rate_drop_lstm, recurrent_dropout=rate_drop_lstm)\n",
    "\n",
    "# sequence_1_input = Input(shape=(MAX_SEQUENCE_LENGTH,), dtype='int32')\n",
    "# embedded_sequences_1 = embedding_layer(sequence_1_input)\n",
    "# x1 = lstm_layer(embedded_sequences_1)\n",
    "\n",
    "# sequence_2_input = Input(shape=(MAX_SEQUENCE_LENGTH,), dtype='int32')\n",
    "# embedded_sequences_2 = embedding_layer(sequence_2_input)\n",
    "# y1 = lstm_layer(embedded_sequences_2)\n",
    "\n",
    "# merged = concatenate([x1, y1])\n",
    "# merged = Dropout(rate_drop_dense)(merged)\n",
    "# merged = BatchNormalization()(merged)\n",
    "\n",
    "# merged = Dense(num_dense, activation=act)(merged)\n",
    "# merged = Dropout(rate_drop_dense)(merged)\n",
    "# merged = BatchNormalization()(merged)\n",
    "\n",
    "# preds = Dense(1, activation='sigmoid')(merged)\n",
    "\n",
    "# ########################################\n",
    "# ## add class weight\n",
    "# ########################################\n",
    "# if re_weight:\n",
    "#     class_weight = {0: 1.309028344, 1: 0.472001959}\n",
    "# else:\n",
    "#     class_weight = None\n",
    "\n",
    "# ########################################\n",
    "# ## train the model\n",
    "# ########################################\n",
    "# model = Model(inputs=[sequence_1_input, sequence_2_input], \\\n",
    "#         outputs=preds)\n",
    "# model.compile(loss='binary_crossentropy',\n",
    "#         optimizer='nadam',\n",
    "#         metrics=['acc'])\n",
    "# #model.summary()\n",
    "# print(STAMP)\n",
    "\n",
    "# early_stopping =EarlyStopping(monitor='val_loss', patience=3)\n",
    "# bst_model_path = STAMP + '.h5'\n",
    "# model_checkpoint = ModelCheckpoint(bst_model_path, save_best_only=True, save_weights_only=True)\n",
    "\n",
    "# hist = model.fit([data_1_train, data_2_train], labels_train, \\\n",
    "#         validation_data=([data_1_val, data_2_val], labels_val, weight_val), \\\n",
    "#         epochs=200, batch_size=2048, shuffle=True, \\\n",
    "#         class_weight=class_weight, callbacks=[early_stopping, model_checkpoint])\n",
    "\n",
    "# model.load_weights(bst_model_path)\n",
    "# bst_val_score = min(hist.history['val_loss'])"
   ]
  },
  {
   "cell_type": "code",
   "execution_count": 34,
   "metadata": {},
   "outputs": [],
   "source": [
    "## Set callbacks for Keras model\n",
    "es = EarlyStopping(monitor=\"val_loss\", mode=\"min\", verbose=1, patience=5)\n",
    "\n",
    "## Keras sklearn pipeline wrapper, dense layers require row major arrays\n",
    "def create_lstm_keras(input_shape=(max_seq_len,vector_size,),output_size=1,dropout=0.7,loss=\"binary_crossentropy\",optimizer=\"adam\",metrics=[\"accuracy\"],callbacks=[es]):\n",
    "\n",
    "    model = Sequential()\n",
    "    \n",
    "    model.add(layers.LSTM(50, input_shape=input_shape, activation=\"relu\"))\n",
    "#     model.add(layers.Dropout(rate=dropout))\n",
    "#     model.add(layers.(10, activation=\"relu\"))\n",
    "#     model.add(layers.Dropout(rate=dropout))\n",
    "    model.add(layers.Dense(output_size, activation=\"sigmoid\"))\n",
    "    \n",
    "    model.compile(loss=loss,\n",
    "                  optimizer=optimizer,\n",
    "                  metrics=metrics)\n",
    "\n",
    "    return model"
   ]
  },
  {
   "cell_type": "code",
   "execution_count": 39,
   "metadata": {},
   "outputs": [
    {
     "name": "stdout",
     "output_type": "stream",
     "text": [
      "Pipeline(memory=None,\n",
      "         steps=[('preprocessor',\n",
      "                 Pipeline(memory=None,\n",
      "                          steps=[('keras_tokenizer_embedding_transfomer',\n",
      "                                  Keras_tokenizer_embedding_transfomer(max_seq_len=30,\n",
      "                                                                       max_words=None,\n",
      "                                                                       text_col=None,\n",
      "                                                                       vector_size=300,\n",
      "                                                                       verbose=False,\n",
      "                                                                       word2vec=<gensim.models.keyedvectors.Word2VecKeyedVectors object at 0x7f6537a0e7f0>))],\n",
      "                          verbose=False)),\n",
      "                ('keras_estimator',\n",
      "                 <tensorflow.python.keras.wrappers.scikit_learn.KerasClassifier object at 0x7f602c9d6250>)],\n",
      "         verbose=False)\n",
      "\n"
     ]
    }
   ],
   "source": [
    "# Dense neural net classification\n",
    "lstm_keras_clf = KerasClassifier(build_fn=create_lstm_keras, verbose=1, batch_size=128, epochs=20) # wrap the model\n",
    "\n",
    "# Specify Keras callbacks for early stopping and checkpoints\n",
    "# calls = [ModelCheckpoint(, monitor=\"val_accuracy\", verbose=1, save_best_only=True, mode=\"max\")]\n",
    "    \n",
    "lstm_keras_clf_fullpipe = Pipeline(steps=[\n",
    "    (\"preprocessor\", tweet_transformer_keras),#preprocessor_keras),\n",
    "#     (\"debug\", Debug()),\n",
    "    (\"keras_estimator\", lstm_keras_clf)\n",
    "])\n",
    "print(lstm_keras_clf_fullpipe)\n",
    "print(\"\")"
   ]
  },
  {
   "cell_type": "code",
   "execution_count": 40,
   "metadata": {},
   "outputs": [],
   "source": [
    "# Specify hyperparameter grids for optimization\n",
    "lstm_keras_param_grid = {\n",
    "    \"keras_estimator__optimizer\":[\"adam\"],#[\"rmsprop\",\"adam\",\"adagrad\"],\n",
    "    \"keras_estimator__epochs\":[10,20,45,60],\n",
    "    \"keras_estimator__dropout\":[0.4,0.55,0.7]\n",
    "}\n",
    "\n",
    "lstm_keras_param_grid.update(param_grid)"
   ]
  },
  {
   "cell_type": "code",
   "execution_count": 41,
   "metadata": {},
   "outputs": [],
   "source": [
    "# Dictionary of pipelines and classifier types for ease of reference\n",
    "try:\n",
    "    pipe_dict[\"LSTM_Keras\"] = (lstm_keras_clf_fullpipe, lstm_keras_param_grid)   \n",
    "except NameError:\n",
    "    pipe_dict = {\n",
    "    \"LSTM_Keras\": (lstm_keras_clf_fullpipe, lstm_keras_param_grid),\n",
    "    }"
   ]
  },
  {
   "cell_type": "markdown",
   "metadata": {},
   "source": [
    "### Train the LSTM neural network pipeline model"
   ]
  },
  {
   "cell_type": "code",
   "execution_count": 42,
   "metadata": {},
   "outputs": [
    {
     "name": "stdout",
     "output_type": "stream",
     "text": [
      "No hyperparameter optimization\n",
      "Training LSTM_Keras on 112000 samples...\n",
      "('keras_estimator', <tensorflow.python.keras.wrappers.scikit_learn.KerasClassifier object at 0x7f602c9d6250>)\n",
      "Transforming texts...\n",
      "(112000,)\n",
      "Texts transformed\n",
      "Shape of transformed text data: (112000, 30, 300)\n",
      "[[ 0.02404785  0.31445312 -0.02624512 ...  0.01525879  0.06494141\n",
      "   0.14257812]\n",
      " [ 0.10351562  0.13769531 -0.00297546 ...  0.04394531 -0.14550781\n",
      "   0.07128906]\n",
      " [ 0.          0.          0.         ...  0.          0.\n",
      "   0.        ]\n",
      " ...\n",
      " [ 0.          0.          0.         ...  0.          0.\n",
      "   0.        ]\n",
      " [ 0.          0.          0.         ...  0.          0.\n",
      "   0.        ]\n",
      " [ 0.          0.          0.         ...  0.          0.\n",
      "   0.        ]]\n",
      "Epoch 1/20\n",
      "875/875 [==============================] - 15s 17ms/step - loss: 0.5395 - accuracy: 0.7204\n",
      "Epoch 2/20\n",
      "875/875 [==============================] - 14s 16ms/step - loss: 0.4525 - accuracy: 0.7897\n",
      "Epoch 3/20\n",
      "875/875 [==============================] - 14s 16ms/step - loss: 0.4318 - accuracy: 0.8012\n",
      "Epoch 4/20\n",
      "875/875 [==============================] - 14s 16ms/step - loss: 0.4191 - accuracy: 0.8082\n",
      "Epoch 5/20\n",
      "875/875 [==============================] - 14s 16ms/step - loss: 0.4081 - accuracy: 0.8148\n",
      "Epoch 6/20\n",
      "875/875 [==============================] - 14s 16ms/step - loss: 0.3992 - accuracy: 0.8192\n",
      "Epoch 7/20\n",
      "875/875 [==============================] - 14s 16ms/step - loss: 0.3910 - accuracy: 0.8230\n",
      "Epoch 8/20\n",
      "875/875 [==============================] - 14s 16ms/step - loss: 0.3831 - accuracy: 0.8283\n",
      "Epoch 9/20\n",
      "875/875 [==============================] - 14s 16ms/step - loss: 0.3753 - accuracy: 0.8318\n",
      "Epoch 10/20\n",
      "875/875 [==============================] - 14s 16ms/step - loss: 0.3666 - accuracy: 0.8366\n",
      "Epoch 11/20\n",
      "875/875 [==============================] - 14s 16ms/step - loss: 0.3612 - accuracy: 0.8397\n",
      "Epoch 12/20\n",
      "875/875 [==============================] - 14s 16ms/step - loss: 0.3535 - accuracy: 0.8430\n",
      "Epoch 13/20\n",
      "875/875 [==============================] - 14s 16ms/step - loss: 0.3445 - accuracy: 0.8483\n",
      "Epoch 14/20\n",
      "875/875 [==============================] - 14s 16ms/step - loss: 0.3377 - accuracy: 0.8500\n",
      "Epoch 15/20\n",
      "875/875 [==============================] - 14s 16ms/step - loss: 0.3323 - accuracy: 0.8542\n",
      "Epoch 16/20\n",
      "875/875 [==============================] - 15s 18ms/step - loss: 0.3501 - accuracy: 0.8450\n",
      "Epoch 17/20\n",
      "875/875 [==============================] - 14s 16ms/step - loss: 0.3237 - accuracy: 0.8584\n",
      "Epoch 18/20\n",
      "875/875 [==============================] - 14s 16ms/step - loss: 0.3163 - accuracy: 0.8621\n",
      "Epoch 19/20\n",
      "875/875 [==============================] - 15s 17ms/step - loss: 0.3114 - accuracy: 0.8645\n",
      "Epoch 20/20\n",
      "875/875 [==============================] - 15s 17ms/step - loss: 0.3056 - accuracy: 0.8662\n"
     ]
    }
   ],
   "source": [
    "lstm_keras_clf_final = pipeline_fit(\n",
    "                                        X_train=X_train,\n",
    "                                        y_train=y_train,\n",
    "                                        pipeline=\"LSTM_Keras\", \n",
    "                                        search_method=None,#\"gridsearch\",\n",
    "                                        keras_nn=True,\n",
    "                                        n_jobs=6,\n",
    "                                        verbose_searchcv=1,  \n",
    "                                        save_name=\"Twitter_LSTM\"\n",
    "                                    )"
   ]
  },
  {
   "cell_type": "markdown",
   "metadata": {},
   "source": [
    "### Evaluation"
   ]
  },
  {
   "cell_type": "code",
   "execution_count": 43,
   "metadata": {},
   "outputs": [
    {
     "name": "stdout",
     "output_type": "stream",
     "text": [
      "Transforming texts...\n",
      "(48000,)\n",
      "Texts transformed\n",
      "Shape of transformed text data: (48000, 30, 300)\n",
      "[[-0.47851562 -0.23242188 -0.14746094 ... -0.07763672 -0.23242188\n",
      "   0.1875    ]\n",
      " [ 0.00704956 -0.07324219  0.171875   ...  0.01123047  0.1640625\n",
      "   0.10693359]\n",
      " [ 0.06298828  0.18457031 -0.04760742 ...  0.13671875  0.16894531\n",
      "  -0.10009766]\n",
      " ...\n",
      " [ 0.          0.          0.         ...  0.          0.\n",
      "   0.        ]\n",
      " [ 0.          0.          0.         ...  0.          0.\n",
      "   0.        ]\n",
      " [ 0.          0.          0.         ...  0.          0.\n",
      "   0.        ]]\n",
      "WARNING:tensorflow:From /home/ataralyxius/anaconda3/lib/python3.8/site-packages/tensorflow/python/keras/wrappers/scikit_learn.py:241: Sequential.predict_classes (from tensorflow.python.keras.engine.sequential) is deprecated and will be removed after 2021-01-01.\n",
      "Instructions for updating:\n",
      "Please use instead:* `np.argmax(model.predict(x), axis=-1)`,   if your model does multi-class classification   (e.g. if it uses a `softmax` last-layer activation).* `(model.predict(x) > 0.5).astype(\"int32\")`,   if your model does binary classification   (e.g. if it uses a `sigmoid` last-layer activation).\n"
     ]
    },
    {
     "name": "stderr",
     "output_type": "stream",
     "text": [
      "WARNING:tensorflow:From /home/ataralyxius/anaconda3/lib/python3.8/site-packages/tensorflow/python/keras/wrappers/scikit_learn.py:241: Sequential.predict_classes (from tensorflow.python.keras.engine.sequential) is deprecated and will be removed after 2021-01-01.\n",
      "Instructions for updating:\n",
      "Please use instead:* `np.argmax(model.predict(x), axis=-1)`,   if your model does multi-class classification   (e.g. if it uses a `softmax` last-layer activation).* `(model.predict(x) > 0.5).astype(\"int32\")`,   if your model does binary classification   (e.g. if it uses a `sigmoid` last-layer activation).\n"
     ]
    },
    {
     "name": "stdout",
     "output_type": "stream",
     "text": [
      "375/375 [==============================] - 3s 7ms/step\n",
      "Transforming texts...\n",
      "(48000,)\n",
      "Texts transformed\n",
      "Shape of transformed text data: (48000, 30, 300)\n",
      "[[-0.47851562 -0.23242188 -0.14746094 ... -0.07763672 -0.23242188\n",
      "   0.1875    ]\n",
      " [ 0.00704956 -0.07324219  0.171875   ...  0.01123047  0.1640625\n",
      "   0.10693359]\n",
      " [ 0.06298828  0.18457031 -0.04760742 ...  0.13671875  0.16894531\n",
      "  -0.10009766]\n",
      " ...\n",
      " [ 0.          0.          0.         ...  0.          0.\n",
      "   0.        ]\n",
      " [ 0.          0.          0.         ...  0.          0.\n",
      "   0.        ]\n",
      " [ 0.          0.          0.         ...  0.          0.\n",
      "   0.        ]]\n",
      "WARNING:tensorflow:From /home/ataralyxius/anaconda3/lib/python3.8/site-packages/tensorflow/python/keras/wrappers/scikit_learn.py:264: Sequential.predict_proba (from tensorflow.python.keras.engine.sequential) is deprecated and will be removed after 2021-01-01.\n",
      "Instructions for updating:\n",
      "Please use `model.predict()` instead.\n"
     ]
    },
    {
     "name": "stderr",
     "output_type": "stream",
     "text": [
      "WARNING:tensorflow:From /home/ataralyxius/anaconda3/lib/python3.8/site-packages/tensorflow/python/keras/wrappers/scikit_learn.py:264: Sequential.predict_proba (from tensorflow.python.keras.engine.sequential) is deprecated and will be removed after 2021-01-01.\n",
      "Instructions for updating:\n",
      "Please use `model.predict()` instead.\n"
     ]
    },
    {
     "name": "stdout",
     "output_type": "stream",
     "text": [
      "375/375 [==============================] - 3s 7ms/step\n"
     ]
    }
   ],
   "source": [
    "# dense_keras_clf_final.named_steps[\"keras_estimator\"].model = load_model(save_name+\"_\"+pipeline+\".h5\")\n",
    "\n",
    "y_pred_lstm_keras = lstm_keras_clf_final.predict(X_test)\n",
    "y_score_lstm_keras = lstm_keras_clf_final.predict_proba(X_test)"
   ]
  },
  {
   "cell_type": "code",
   "execution_count": 45,
   "metadata": {},
   "outputs": [
    {
     "name": "stdout",
     "output_type": "stream",
     "text": [
      "Accuracy Score on Test Set:\n",
      "0.791\n"
     ]
    },
    {
     "data": {
      "image/png": "[encoded data removed]",
      "text/plain": [
       "<Figure size 576x576 with 2 Axes>"
      ]
     },
     "metadata": {},
     "output_type": "display_data"
    },
    {
     "data": {
      "image/png": "[encoded data removed]",
      "text/plain": [
       "<Figure size 576x576 with 1 Axes>"
      ]
     },
     "metadata": {},
     "output_type": "display_data"
    }
   ],
   "source": [
    "print(\"Accuracy Score on Test Set:\")\n",
    "print(accuracy_score(y_test, y_pred_lstm_keras))\n",
    "\n",
    "# np.set_printoptions(precision=2)\n",
    "\n",
    "# Plot confusion matrix\n",
    "plot_confusion_matrix(y_test, y_pred_lstm_keras, classes=lstm_keras_clf_final.classes_)\n",
    "\n",
    "# Plot ROC curve (requires onehot targets)Q\n",
    "plot_roc_curve(y_test, y_score_lstm_keras[:,1], classes=lstm_keras_clf_final.classes_, roc_multilabel_count=2)"
   ]
  },
  {
   "cell_type": "markdown",
   "metadata": {},
   "source": [
    "## SimpleTransformer ROBERTA Neural Network"
   ]
  },
  {
   "cell_type": "markdown",
   "metadata": {},
   "source": [
    "### Preprocessing and Custom Sklearn Estimator"
   ]
  },
  {
   "cell_type": "code",
   "execution_count": 33,
   "metadata": {},
   "outputs": [],
   "source": [
    "class RobertaClassifier(BaseEstimator, ClassifierMixin):\n",
    "\n",
    "    def __init__(self, overwrite_output_dir=False, epochs=2, train_batch_size=6):#, best_model_dir=None, cache_dir=None, \n",
    "#                  num_workers=None, early_stopping_delta=None, early_stopping_patience=None,\n",
    "#                  learning_rate=None, manual_seed=None, max_seq_length=None, output_dir=None,\n",
    "#                  train_batch_size=None, use_early_stopping=None, weight_decay=None):\n",
    "        \n",
    "#         self.verbose = verbose\n",
    "        self.overwrite_output_dir = overwrite_output_dir\n",
    "#         self.adam_epsilon = adam_epsilon\n",
    "        self.num_train_epochs = epochs\n",
    "#         self.best_model_dir = best_model_dir\n",
    "#         self.cache_dir = cache_dir\n",
    "#         self.dataloader_num_workers = dataloader_num_workers\n",
    "#         self.early_stopping_delta = early_stopping_delta\n",
    "#         self.early_stopping_patience = early_stopping_patience\n",
    "#         self.learning_rate = learning_rate\n",
    "#         self.manual_seed = manual_seed\n",
    "#         self.max_seq_length = max_seq_length\n",
    "#         self.output_dir = output_dir\n",
    "        self.train_batch_size = train_batch_size\n",
    "#         self.use_early_stopping = use_early_stopping\n",
    "#         self.weight_decay = weight_decay\n",
    "    \n",
    "#     def get_params(self, deep=True):\n",
    "\n",
    "#         return {\"adam_epsilon\": self.adam_epsilon, \n",
    "#                 \"epochs\": self.num_train_epochs, \n",
    "#                 \"best_model_dir\": self.best_model_dir,\n",
    "#                 \"cache_dir\": self.cache_dir,\n",
    "#                 \"num_workers\": self.dataloader_num_workers,\n",
    "#                 \"early_stopping_delta\": self.early_stopping_delta,\n",
    "#                 \"early_stopping_patience\": self.early_stopping_patience,\n",
    "#                 \"learning_rate\": self.learning_rate,\n",
    "#                 \"manual_seed\": self.manual_seed,\n",
    "#                 \"max_seq_length\": self.max_seq_length,\n",
    "#                 \"output_dir\": self.output_dir,\n",
    "#                 \"train_batch_size\": self.train_batch_size,\n",
    "#                 \"use_early_stopping\": self.use_early_stopping,\n",
    "#                 \"weight_decay\": self.weight_decay\n",
    "#                }\n",
    "    \n",
    "#         \"\"\"\n",
    "#             adam_epsilon\tfloat\t1e-8\tEpsilon hyperparameter used in AdamOptimizer.\n",
    "#             best_model_dir\tstr\toutputs/best_model\tThe directory where the best model (model checkpoints) will be saved (based on eval_during_training)\n",
    "#             cache_dir\tstr\tcache_dir\tThe directory where cached files will be saved.\n",
    "#             config\tdict\t{}\tA dictionary containing configuration options that should be overriden in a model’s config.\n",
    "#             dataloader_num_workers\tint\tcpu_count () - 2 if cpu_count () > 2 else 1\tNumber of worker processed to use with the Pytorch dataloader.\n",
    "#             do_lower_case\tbool\tFalse\tSet to True when using uncased models.\n",
    "#             dynamic_quantize\tbool\tFalse\tSet to True to use dynamic quantization.\n",
    "#             early_stopping_consider_epochs\tbool\tFalse\tIf True, end of epoch evaluation score will be considered for early stopping.\n",
    "#             early_stopping_delta\tfloat\t0\tThe improvement over best_eval_loss necessary to count as a better checkpoint.\n",
    "#             early_stopping_metric\tstr\teval_loss\tThe metric that should be used with early stopping. (Should be computed during eval_during_training).\n",
    "#             early_stopping_metric_minimize\tbool\tTrue\tWhether early_stopping_metric should be minimized (or maximized).\n",
    "#             early_stopping_patience\tint\t3\tTerminate training after this many evaluations without an improvement in the evaluation metric greater then early_stopping_delta.\n",
    "#             encoding\tstr\tNone\tSpecify an encoding to be used when reading text files.\n",
    "#             eval_batch_size\tint\t8\tThe evaluation batch size.\n",
    "#             evaluate_during_training\tbool\tFalse\tSet to True to perform evaluation while training models. Make sure eval data is passed to the training method if enabled.\n",
    "#             evaluate_during_training_steps\tint\t2000\tPerform evaluation at every specified number of steps. A checkpoint model and the evaluation results will be saved.\n",
    "#             evaluate_during_training_verbose\tbool\tFalse\tPrint results from evaluation during training.\n",
    "#             fp16\tbool\tTrue\tWhether or not fp16 mode should be used. Requires NVidia Apex library.\n",
    "#             gradient_accumulation_steps\tint\t1\tThe number of training steps to execute before performing a optimizer.step(). Effectively increases the training batch size while sacrificing training time to lower memory consumption.\n",
    "#             learning_rate\tfloat\t4e-5\tThe learning rate for training.\n",
    "#             logging_steps\tint\t50\tLog training loss and learning at every specified number of steps.\n",
    "#             manual_seed\tint\tNone\tSet a manual seed if necessary for reproducible results.\n",
    "#             max_grad_norm\tfloat\t1.0\tMaximum gradient clipping.\n",
    "#             max_seq_length\tint\t128\tMaximum sequence length the model will support.\n",
    "#             multiprocessing_chunksize\tint\t500\tNumber of examples sent to a CPU core at a time when using multiprocessing. Usually, the optimal value will be (roughly) number of examples / process count.\n",
    "#             n_gpu\tint\t1\tNumber of GPUs to use.\n",
    "#             no_cache\tbool\tFalse\tCache features to disk.\n",
    "#             no_save\tbool\tFalse\tIf True, models will not be saved to disk.\n",
    "#             num_train_epochs\tint\t1\tThe number of epochs the model will be trained for.\n",
    "#             output_dir\tstr\t“outputs/”\tThe directory where all outputs will be stored. This includes model checkpoints and evaluation results.\n",
    "#             overwrite_output_dir\tbool\tFalse\tIf True, the trained model will be saved to the ouput_dir and will overwrite existing saved models in the same directory.\n",
    "#             process_count\tint\tcpu_count () - 2 if cpu_count () > 2 else 1\tNumber of cpu cores (processes) to use when converting examples to features. Default is (number of cores - 2) or 1 if (number of cores <= 2)\n",
    "#             quantized_model\tbool\tFalse\tSet to True if loading a quantized model. Note that this will automatically be set to True if dynamic_quantize is enabled.\n",
    "#             reprocess_input_data\tbool\tTrue\tIf True, the input data will be reprocessed even if a cached file of the input data exists in the cache_dir.\n",
    "#             save_eval_checkpoints\tbool\tTrue\tSave a model checkpoint for every evaluation performed.\n",
    "#             save_model_every_epoch\tbool\tTrue\tSave a model checkpoint at the end of every epoch.\n",
    "#             save_steps\tint\t2000\tSave a model checkpoint at every specified number of steps.\n",
    "#             save_optimizer_and_scheduler\tbool\tTrue\tSave optimizer and scheduler whenever they are available.\n",
    "#             silent\tbool\tFalse\tDisables progress bars.\n",
    "#             tensorboard_dir\tstr\tNone\tThe directory where Tensorboard events will be stored during training. By default, Tensorboard events will be saved in a subfolder inside runs/ like runs/Dec02_09-32-58_36d9e58955b0/.\n",
    "#             train_batch_size\tint\t8\tThe training batch size.\n",
    "#             use_cached_eval_features\tbool\tFalse\tEvaluation during training uses cached features. Setting this to False will cause features to be recomputed at every evaluation step.\n",
    "#             use_early_stopping\tbool\tFalse\tUse early stopping to stop training when early_stopping_metric doesn’t improve (based on early_stopping_patience, and early_stopping_delta)\n",
    "#             use_multiprocessing\tbool\tTrue\tIf True, multiprocessing will be used when converting data into features. Disabling can reduce memory usage, but may substantially slow down processing.\n",
    "#             wandb_kwargs\tdict\t{}\tDictionary of keyword arguments to be passed to the W&B project.\n",
    "#             wandb_project\tstr\tNone\tName of W&B project. This will log all hyperparameter values, training losses, and evaluation metrics to the given project.\n",
    "#             warmup_ratio\tfloat\t0.06\tRatio of total training steps where learning rate will “warm up”. Overridden if warmup_steps is specified.\n",
    "#             warmup_steps\tint\t0\tNumber of training steps where learning rate will “warm up”. Overrides warmup_ratio.\n",
    "#             weight_decay\tint\t0\tAdds L2 penalty.\n",
    "\n",
    "#         \"\"\"\n",
    "\n",
    "#     def set_params(self, **parameters):\n",
    "#         for parameter, value in parameters.items():\n",
    "#             setattr(self, parameter, value)\n",
    "#         return self\n",
    "        \n",
    "        \n",
    "    def fit(self, X, y): \n",
    "        \n",
    "        # Check that X and y have correct shape\n",
    "#         X, y = check_X_y(X, y)\n",
    "        # Store the classes seen during fit\n",
    "        self.classes_ = unique_labels(y)\n",
    "        \n",
    "        df = X.rename(columns={\"Tweet\":\"text\"})\n",
    "        df[\"label\"] = y\n",
    "#         display(df)\n",
    "        \n",
    "        self.df_ = df\n",
    "        \n",
    "        # Optional model configuration\n",
    "        model_args = ClassificationArgs()\n",
    "        model_args.overwrite_output_dir = self.overwrite_output_dir\n",
    "#         model_args.adam_epsilon = self.adam_epsilon\n",
    "        model_args.num_train_epochs = self.num_train_epochs\n",
    "#         model_args.best_model_dir = self.best_model_dir\n",
    "#         model_args.cache_dir = self.cache_dir\n",
    "#         model_args.dataloader_num_workers = self.dataloader_num_workers\n",
    "#         model_args.early_stopping_delta = self.early_stopping_delta\n",
    "#         model_args.early_stopping_patience = self.early_stopping_patience\n",
    "#         model_args.learning_rate = self.learning_rate\n",
    "#         model_args.manual_seed = self.manual_seed\n",
    "#         model_args.max_seq_length = self.max_seq_length\n",
    "#         model_args.output_dir = self.output_dir\n",
    "        model_args.train_batch_size = self.train_batch_size\n",
    "#         model_args.use_early_stopping = self.use_early_stopping\n",
    "#         model_args.weight_decay = self.weight_decay\n",
    "        \n",
    "        print(model_args)\n",
    "        # Create a ClassificationModel\n",
    "        self.model = ClassificationModel(\n",
    "            \"distilbert\", \"distilbert-base-uncased\", args=model_args, use_cuda=True\n",
    "            #\"roberta\", \"roberta-base\", args=model_args, use_cuda=True\n",
    "        )\n",
    "\n",
    "        # Train the model\n",
    "        self.model.train_model(self.df_)\n",
    "\n",
    "        # Return the classifier\n",
    "        return self\n",
    "    \n",
    "    \n",
    "\n",
    "    def predict(self, X):\n",
    "        # Check is fit had been called\n",
    "        check_is_fitted(self)\n",
    "\n",
    "        # Input validation\n",
    "#         X = check_array(X)\n",
    "        \n",
    "        # Predictions\n",
    "        y_pred, _ = self.model.predict(X)\n",
    "        \n",
    "        return y_pred\n",
    "    \n",
    "    \n",
    "    def predict_proba(self, X):\n",
    "        # Check is fit had been called\n",
    "        check_is_fitted(self)\n",
    "\n",
    "        # Input validation\n",
    "#         X = check_array(X)\n",
    "        \n",
    "        # Predictions\n",
    "        _, y_rawout = self.model.predict(X)\n",
    "        y_pred_proba = softmax(y_rawout, axis=1)\n",
    "\n",
    "        return y_pred_proba"
   ]
  },
  {
   "cell_type": "code",
   "execution_count": 34,
   "metadata": {},
   "outputs": [
    {
     "name": "stdout",
     "output_type": "stream",
     "text": [
      "Pipeline(steps=[('roberta_estimator',\n",
      "                 RobertaClassifier(epochs=None, overwrite_output_dir=True,\n",
      "                                   train_batch_size=16))])\n",
      "\n"
     ]
    },
    {
     "name": "stderr",
     "output_type": "stream",
     "text": [
      "D:\\Users\\Michael\\anaconda3\\envs\\ml_nlp\\lib\\site-packages\\sklearn\\base.py:209: FutureWarning: From version 0.24, get_params will raise an AttributeError if a parameter cannot be retrieved as an instance attribute. Previously it would return None.\n",
      "  warnings.warn('From version 0.24, get_params will raise an '\n"
     ]
    }
   ],
   "source": [
    "# Dense neural net classification\n",
    "roberta_clf = RobertaClassifier(overwrite_output_dir=True, epochs=5, train_batch_size=16) # wrap the model\n",
    "\n",
    "# Specify Keras callbacks for early stopping and checkpoints\n",
    "# calls = [ModelCheckpoint(, monitor=\"val_accuracy\", verbose=1, save_best_only=True, mode=\"max\")]\n",
    "    \n",
    "roberta_clf_fullpipe = Pipeline(steps=[\n",
    "    (\"roberta_estimator\", roberta_clf)\n",
    "])\n",
    "print(roberta_clf_fullpipe)\n",
    "print(\"\")"
   ]
  },
  {
   "cell_type": "code",
   "execution_count": 35,
   "metadata": {},
   "outputs": [],
   "source": [
    "# Specify hyperparameter grids for optimization\n",
    "roberta_param_grid = {\n",
    "#    \"roberta_estimator__epochs\":[2]\n",
    "}\n",
    "\n",
    "roberta_param_grid.update(text_param_grid)"
   ]
  },
  {
   "cell_type": "code",
   "execution_count": 36,
   "metadata": {},
   "outputs": [],
   "source": [
    "# Dictionary of pipelines and classifier types for ease of reference\n",
    "try:\n",
    "    pipe_dict[\"Roberta\"] = (roberta_clf_fullpipe, roberta_param_grid)   \n",
    "except NameError:\n",
    "    pipe_dict = {\n",
    "    \"Roberta\": (roberta_clf_fullpipe, roberta_param_grid),\n",
    "    }"
   ]
  },
  {
   "cell_type": "markdown",
   "metadata": {},
   "source": [
    "### Train the ROBERTA neural network pipeline model"
   ]
  },
  {
   "cell_type": "code",
   "execution_count": 37,
   "metadata": {},
   "outputs": [
    {
     "name": "stdin",
     "output_type": "stream",
     "text": [
      "A joblib model file already exists with that name, \n",
      "do you wish to retrain the model? (Y/N) y\n"
     ]
    },
    {
     "name": "stdout",
     "output_type": "stream",
     "text": [
      "No hyperparameter optimization\n",
      "Training Roberta on 2005 samples...\n",
      "('roberta_estimator', RobertaClassifier(epochs=None, overwrite_output_dir=True, train_batch_size=16))\n",
      "ClassificationArgs(adam_epsilon=1e-08, best_model_dir='outputs/best_model', cache_dir='cache_dir/', config={}, cosine_schedule_num_cycles=0.5, custom_layer_parameters=[], custom_parameter_groups=[], dataloader_num_workers=0, do_lower_case=False, dynamic_quantize=False, early_stopping_consider_epochs=False, early_stopping_delta=0, early_stopping_metric='eval_loss', early_stopping_metric_minimize=True, early_stopping_patience=3, encoding=None, adafactor_eps=(1e-30, 0.001), adafactor_clip_threshold=1.0, adafactor_decay_rate=-0.8, adafactor_beta1=None, adafactor_scale_parameter=True, adafactor_relative_step=True, adafactor_warmup_init=True, eval_batch_size=8, evaluate_during_training=False, evaluate_during_training_silent=True, evaluate_during_training_steps=2000, evaluate_during_training_verbose=False, evaluate_each_epoch=True, fp16=True, gradient_accumulation_steps=1, learning_rate=4e-05, local_rank=-1, logging_steps=50, manual_seed=None, max_grad_norm=1.0, max_seq_length=128, model_name=None, model_type=None, multiprocessing_chunksize=500, n_gpu=1, no_cache=False, no_save=False, not_saved_args=[], num_train_epochs=5, optimizer='AdamW', output_dir='outputs/', overwrite_output_dir=True, process_count=22, polynomial_decay_schedule_lr_end=1e-07, polynomial_decay_schedule_power=1.0, quantized_model=False, reprocess_input_data=True, save_best_model=True, save_eval_checkpoints=True, save_model_every_epoch=True, save_optimizer_and_scheduler=True, save_steps=2000, scheduler='linear_schedule_with_warmup', silent=False, skip_special_tokens=True, tensorboard_dir=None, thread_count=None, train_batch_size=16, train_custom_parameters_only=False, use_cached_eval_features=False, use_early_stopping=False, use_multiprocessing=True, wandb_kwargs={}, wandb_project=None, warmup_ratio=0.06, warmup_steps=0, weight_decay=0.0, model_class='ClassificationModel', labels_list=[], labels_map={}, lazy_delimiter='\\t', lazy_labels_column=1, lazy_loading=False, lazy_loading_start_line=1, lazy_text_a_column=None, lazy_text_b_column=None, lazy_text_column=0, onnx=False, regression=False, sliding_window=False, special_tokens_list=[], stride=0.8, tie_value=1)\n"
     ]
    },
    {
     "name": "stderr",
     "output_type": "stream",
     "text": [
      "Some weights of the model checkpoint at distilbert-base-uncased were not used when initializing DistilBertForSequenceClassification: ['vocab_transform.weight', 'vocab_transform.bias', 'vocab_layer_norm.weight', 'vocab_layer_norm.bias', 'vocab_projector.weight', 'vocab_projector.bias']\n",
      "- This IS expected if you are initializing DistilBertForSequenceClassification from the checkpoint of a model trained on another task or with another architecture (e.g. initializing a BertForSequenceClassification model from a BertForPreTraining model).\n",
      "- This IS NOT expected if you are initializing DistilBertForSequenceClassification from the checkpoint of a model that you expect to be exactly identical (initializing a BertForSequenceClassification model from a BertForSequenceClassification model).\n",
      "Some weights of DistilBertForSequenceClassification were not initialized from the model checkpoint at distilbert-base-uncased and are newly initialized: ['pre_classifier.weight', 'pre_classifier.bias', 'classifier.weight', 'classifier.bias']\n",
      "You should probably TRAIN this model on a down-stream task to be able to use it for predictions and inference.\n",
      "D:\\Users\\Michael\\anaconda3\\envs\\ml_nlp\\lib\\site-packages\\simpletransformers\\classification\\classification_model.py:390: UserWarning: Dataframe headers not specified. Falling back to using column 0 as text and column 1 as labels.\n",
      "  warnings.warn(\n"
     ]
    },
    {
     "data": {
      "application/vnd.jupyter.widget-view+json": {
       "model_id": "8a4c7685006d450cab628dcea37491b5",
       "version_major": 2,
       "version_minor": 0
      },
      "text/plain": [
       "  0%|          | 0/2005 [00:00<?, ?it/s]"
      ]
     },
     "metadata": {},
     "output_type": "display_data"
    },
    {
     "data": {
      "application/vnd.jupyter.widget-view+json": {
       "model_id": "1aa9f2a49abf4ce28d4a5ffc1c727e62",
       "version_major": 2,
       "version_minor": 0
      },
      "text/plain": [
       "Epoch:   0%|          | 0/5 [00:00<?, ?it/s]"
      ]
     },
     "metadata": {},
     "output_type": "display_data"
    },
    {
     "data": {
      "application/vnd.jupyter.widget-view+json": {
       "model_id": "c23cb09e67cb42b6a7143c0e3e6e5d19",
       "version_major": 2,
       "version_minor": 0
      },
      "text/plain": [
       "Running Epoch 0 of 5:   0%|          | 0/126 [00:00<?, ?it/s]"
      ]
     },
     "metadata": {},
     "output_type": "display_data"
    },
    {
     "name": "stderr",
     "output_type": "stream",
     "text": [
      "D:\\Users\\Michael\\anaconda3\\envs\\ml_nlp\\lib\\site-packages\\torch\\optim\\lr_scheduler.py:216: UserWarning: Please also save or load the state of the optimizer when saving or loading the scheduler.\n",
      "  warnings.warn(SAVE_STATE_WARNING, UserWarning)\n"
     ]
    },
    {
     "data": {
      "application/vnd.jupyter.widget-view+json": {
       "model_id": "d0efb1a8285c41dbb1b80cff15892d78",
       "version_major": 2,
       "version_minor": 0
      },
      "text/plain": [
       "Running Epoch 1 of 5:   0%|          | 0/126 [00:00<?, ?it/s]"
      ]
     },
     "metadata": {},
     "output_type": "display_data"
    },
    {
     "data": {
      "application/vnd.jupyter.widget-view+json": {
       "model_id": "0ea775ce6e80485e89b6e9187b370dfa",
       "version_major": 2,
       "version_minor": 0
      },
      "text/plain": [
       "Running Epoch 2 of 5:   0%|          | 0/126 [00:00<?, ?it/s]"
      ]
     },
     "metadata": {},
     "output_type": "display_data"
    },
    {
     "data": {
      "application/vnd.jupyter.widget-view+json": {
       "model_id": "02e47aa7da1d40a1938ba3cdb4d03ca9",
       "version_major": 2,
       "version_minor": 0
      },
      "text/plain": [
       "Running Epoch 3 of 5:   0%|          | 0/126 [00:00<?, ?it/s]"
      ]
     },
     "metadata": {},
     "output_type": "display_data"
    },
    {
     "data": {
      "application/vnd.jupyter.widget-view+json": {
       "model_id": "a015563e23bd434fb25d876aee98c758",
       "version_major": 2,
       "version_minor": 0
      },
      "text/plain": [
       "Running Epoch 4 of 5:   0%|          | 0/126 [00:00<?, ?it/s]"
      ]
     },
     "metadata": {},
     "output_type": "display_data"
    }
   ],
   "source": [
    "roberta_clf_final = pipeline_fit(\n",
    "                                        X_train=X_train,\n",
    "                                        y_train=y_train,\n",
    "                                        pipeline=\"Roberta\", \n",
    "                                        search_method=None,#\"gridsearch\",\n",
    "#                                         n_jobs=6,\n",
    "                                        verbose_searchcv=1,  \n",
    "                                        save_name=\"News_Roberta\"\n",
    "                                    )"
   ]
  },
  {
   "cell_type": "markdown",
   "metadata": {},
   "source": [
    "### Evaluation"
   ]
  },
  {
   "cell_type": "code",
   "execution_count": 38,
   "metadata": {},
   "outputs": [
    {
     "data": {
      "application/vnd.jupyter.widget-view+json": {
       "model_id": "5525a6addcd6419a9279310fe04c8194",
       "version_major": 2,
       "version_minor": 0
      },
      "text/plain": [
       "  0%|          | 0/860 [00:00<?, ?it/s]"
      ]
     },
     "metadata": {},
     "output_type": "display_data"
    },
    {
     "data": {
      "application/vnd.jupyter.widget-view+json": {
       "model_id": "215d6d3292b54dfeabe6cb2ec162e43f",
       "version_major": 2,
       "version_minor": 0
      },
      "text/plain": [
       "  0%|          | 0/108 [00:00<?, ?it/s]"
      ]
     },
     "metadata": {},
     "output_type": "display_data"
    },
    {
     "data": {
      "application/vnd.jupyter.widget-view+json": {
       "model_id": "7395eb268e974191a938c35f4e84ffb6",
       "version_major": 2,
       "version_minor": 0
      },
      "text/plain": [
       "  0%|          | 0/860 [00:00<?, ?it/s]"
      ]
     },
     "metadata": {},
     "output_type": "display_data"
    },
    {
     "data": {
      "application/vnd.jupyter.widget-view+json": {
       "model_id": "81f3344589c14e698187163c1f68a68c",
       "version_major": 2,
       "version_minor": 0
      },
      "text/plain": [
       "  0%|          | 0/108 [00:00<?, ?it/s]"
      ]
     },
     "metadata": {},
     "output_type": "display_data"
    }
   ],
   "source": [
    "# dense_keras_clf_final.named_steps[\"keras_estimator\"].model = load_model(save_name+\"_\"+pipeline+\".h5\")\n",
    "\n",
    "\n",
    "y_pred_roberta = roberta_clf_final.predict(X_test[\"text\"].tolist())\n",
    "y_score_roberta = roberta_clf_final.predict_proba(X_test[\"text\"].tolist())"
   ]
  },
  {
   "cell_type": "code",
   "execution_count": 39,
   "metadata": {},
   "outputs": [
    {
     "name": "stdout",
     "output_type": "stream",
     "text": [
      "[[0.26288914 0.73711086]\n",
      " [0.19345194 0.80654806]\n",
      " [0.97215155 0.02784845]\n",
      " ...\n",
      " [0.6945099  0.3054901 ]\n",
      " [0.11357959 0.88642041]\n",
      " [0.98426089 0.01573911]]\n"
     ]
    }
   ],
   "source": [
    "print(y_score_roberta)"
   ]
  },
  {
   "cell_type": "code",
   "execution_count": 40,
   "metadata": {},
   "outputs": [
    {
     "name": "stdout",
     "output_type": "stream",
     "text": [
      "Accuracy Score on Test Set:\n",
      "0.7220930232558139\n"
     ]
    },
    {
     "data": {
      "image/png": "[encoded data removed]",
      "text/plain": [
       "<Figure size 576x576 with 2 Axes>"
      ]
     },
     "metadata": {
      "needs_background": "light"
     },
     "output_type": "display_data"
    },
    {
     "data": {
      "image/png": "[encoded data removed]",
      "text/plain": [
       "<Figure size 576x576 with 1 Axes>"
      ]
     },
     "metadata": {
      "needs_background": "light"
     },
     "output_type": "display_data"
    }
   ],
   "source": [
    "print(\"Accuracy Score on Test Set:\")\n",
    "print(accuracy_score(y_test, y_pred_roberta))\n",
    "\n",
    "# np.set_printoptions(precision=2)\n",
    "\n",
    "# Plot confusion matrix\n",
    "plot_confusion_matrix(y_test, y_pred_roberta, classes=roberta_clf_final.classes_)\n",
    "\n",
    "# Plot ROC curve (requires onehot targets)Q\n",
    "plot_roc_curve(y_test, y_score_roberta[:,1], classes=roberta_clf_final.classes_, roc_multilabel_count=2)"
   ]
  },
  {
   "cell_type": "markdown",
   "metadata": {},
   "source": [
    "# Voting Classifier"
   ]
  },
  {
   "cell_type": "code",
   "execution_count": null,
   "metadata": {},
   "outputs": [],
   "source": [
    "## Use a soft voting classifier to make final predictions from all models\n",
    "vote_clf = VotingClassifier(estimators=[\n",
    "                            (\"nb_clf\", nb_clf_final.named_steps[\"nb_classifier\"]), \n",
    "                            (\"rf_clf\", rf_clf_final.named_steps[\"rf_classifier\"]),\n",
    "                            #(\"gb_clf\", gb_clf_final), \n",
    "                            #(\"xgb_clf\", xgb_clf_final),\n",
    "                            (\"lgbm_clf\", lgbm_clf_final.named_steps[\"lgbm_classifier\"])\n",
    "                            ], voting=\"soft\")\n",
    "\n",
    "vote_clf_fullpipe = Pipeline(steps=[\n",
    "                                (\"preprocessor\", preprocessor),\n",
    "                                (\"voting_classifier\", vote_clf)\n",
    "                            ])\n",
    "\n",
    "print(vote_clf_fullpipe)\n",
    "\n",
    "\n",
    "pipe_dict[\"VotingClassifier\"] = (vote_clf_fullpipe,)"
   ]
  },
  {
   "cell_type": "code",
   "execution_count": null,
   "metadata": {},
   "outputs": [],
   "source": [
    "vote_clf_final = pipeline_fit(pipeline=\"VotingClassifier\", cv=None, iid=False, verbose=2, n_jobs=1, optimization=False)"
   ]
  },
  {
   "cell_type": "code",
   "execution_count": null,
   "metadata": {},
   "outputs": [],
   "source": [
    "#display(X_valid)\n",
    "y_pred = vote_clf_final.predict(X_valid)\n",
    "#y_pred = lgbm_clf_final.predict(X_valid)\n",
    "print(\"Predicted Targets:\",y_pred)\n",
    "print(\"Actual Targets:\",y_valid)"
   ]
  },
  {
   "cell_type": "code",
   "execution_count": null,
   "metadata": {},
   "outputs": [],
   "source": [
    "y_pred_2 = lgbm_clf_final.predict(X_valid_2)\n",
    "print(\"Predicted Targets:\",y_pred_2)\n",
    "print(\"Actual Targets:\",y_valid_2)"
   ]
  },
  {
   "cell_type": "code",
   "execution_count": null,
   "metadata": {},
   "outputs": [],
   "source": [
    "#y_pred_inv = le.inverse_transform(y_pred)\n",
    "target_names = le.classes_\n",
    "print(\"Target names: \",target_names)\n",
    "n_classes = le.classes_.shape[0]\n",
    "print(\"n_classes: \",n_classes)\n",
    "print(\"\\nClassification Report:\")\n",
    "print(classification_report(y_valid, y_pred, target_names=target_names))\n",
    "print(\"Confusion Matrix:\")\n",
    "print(confusion_matrix(y_valid, y_pred, labels=range(n_classes)))"
   ]
  },
  {
   "cell_type": "code",
   "execution_count": null,
   "metadata": {},
   "outputs": [],
   "source": [
    "target_names = le.classes_\n",
    "print(\"Target names: \",target_names)\n",
    "n_classes = le.classes_.shape[0]\n",
    "print(\"n_classes: \",n_classes)\n",
    "print(\"\\nClassification Report:\")\n",
    "print(classification_report(y_valid_2, y_pred_2, target_names=target_names))\n",
    "print(\"Confusion Matrix:\")\n",
    "print(confusion_matrix(y_valid_2, y_pred_2, labels=range(n_classes)))"
   ]
  },
  {
   "cell_type": "code",
   "execution_count": null,
   "metadata": {},
   "outputs": [],
   "source": []
  }
 ],
 "metadata": {
  "kernelspec": {
   "display_name": "Python [conda env:ml_nlp]",
   "language": "python",
   "name": "conda-env-ml_nlp-py"
  },
  "language_info": {
   "codemirror_mode": {
    "name": "ipython",
    "version": 3
   },
   "file_extension": ".py",
   "mimetype": "text/x-python",
   "name": "python",
   "nbconvert_exporter": "python",
   "pygments_lexer": "ipython3",
   "version": "3.8.5"
  },
  "toc-autonumbering": true,
  "toc-showtags": false
 },
 "nbformat": 4,
 "nbformat_minor": 4
}
